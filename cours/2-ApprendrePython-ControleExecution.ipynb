{
 "cells": [
  {
   "cell_type": "markdown",
   "metadata": {},
   "source": [
    "# Contrôles d'exécution"
   ]
  },
  {
   "cell_type": "markdown",
   "metadata": {},
   "source": [
    "A part l’instruction `while` que l’on vient de découvrir, Python comprend les instructions de contrôle d’exécution habituelles connues dans d’autres langages, avec quelques adaptations."
   ]
  },
  {
   "cell_type": "markdown",
   "metadata": {},
   "source": [
    "## Instruction `if`"
   ]
  },
  {
   "cell_type": "markdown",
   "metadata": {},
   "source": [
    "Peut-être l’instruction la plus connue est-elle l’instruction `if`. Par exemple :"
   ]
  },
  {
   "cell_type": "code",
   "execution_count": 6,
   "metadata": {},
   "outputs": [
    {
     "name": "stdout",
     "output_type": "stream",
     "text": [
      "Entrez un entier : 1\n",
      "Un seul\n"
     ]
    }
   ],
   "source": [
    "x = int(input(\"Entrez un entier : \"))\n",
    "if x < 0:\n",
    "    x = 0\n",
    "    print('Négatif changé en zéro')\n",
    "elif x == 0: \n",
    "    print('Zéro')\n",
    "elif x == 1: print ('Un seul')\n",
    "else:\n",
    "    print('Plus')"
   ]
  },
  {
   "cell_type": "markdown",
   "metadata": {},
   "source": [
    "Il peut y avoir aucune ou plusieurs sections `elif`, et la section `else` est optionnelle. Le mot-clé `elif` est une abréviation de `else if`, et est utile pour éviter une indentation excessive. Une séquence `if ... elif ... elif ...` est un substitut pour les instructions `switch` ou `case` qu’on trouve dans d’autres langages."
   ]
  },
  {
   "cell_type": "markdown",
   "metadata": {},
   "source": [
    "## Instruction `for`"
   ]
  },
  {
   "cell_type": "markdown",
   "metadata": {},
   "source": [
    "L’instruction `for` en Python diffère un petit peu de ce que vous avez pu utiliser en C ou en Pascal. Au lieu d’itérer toujours dans une progression arithmétique de nombres (comme en Pascal), ou de laisser l’utilisateur complètement libre dans les tests et les pas d’itération (comme en C), l’instruction `for` de Python itère parmi les éléments de n’importe quelle séquence (une liste ou une chaîne), dans l’ordre où ils apparaissent dans la séquence. Par exemple :"
   ]
  },
  {
   "cell_type": "code",
   "execution_count": 9,
   "metadata": {},
   "outputs": [
    {
     "name": "stdout",
     "output_type": "stream",
     "text": [
      "burger 6, végane 6, manger 6, "
     ]
    }
   ],
   "source": [
    "# Mesurer quelques chaînes de caractères:\n",
    "liste = ['burger', 'végane', 'manger']\n",
    "for element in liste:\n",
    "    print (element, len(element), end=', ')"
   ]
  },
  {
   "cell_type": "markdown",
   "metadata": {},
   "source": [
    "Il n’est pas prudent de modifier la séquence sur laquelle on itère dans la boucle (cela peut seulement arriver pour les types de séquences modifiables, tels que les listes). Si vous avez besoin de modifier la liste sur laquelle vous itérez (par exemple, pour dupliquer des éléments sélectionnés), vous devez itérer sur une copie. La notation de découpage rend cela particulièrement pratique :"
   ]
  },
  {
   "cell_type": "code",
   "execution_count": 11,
   "metadata": {},
   "outputs": [
    {
     "name": "stdout",
     "output_type": "stream",
     "text": [
      "['manger', 'végane', 'burger', 'burger', 'végane', 'manger']\n"
     ]
    }
   ],
   "source": [
    "for x in liste[:]: # fait une copie de la liste entière par découpage\n",
    "    if len(x) > 5: liste.insert(0, x)\n",
    "        \n",
    "print (liste)"
   ]
  },
  {
   "cell_type": "markdown",
   "metadata": {},
   "source": [
    "## La fonction `range`"
   ]
  },
  {
   "cell_type": "markdown",
   "metadata": {},
   "source": [
    "Si vous avez besoin d’itérer sur une séquence de nombres, la fonction intégrée `range()` vient à point. Elle génère des listes contenant des progressions arithmétiques :"
   ]
  },
  {
   "cell_type": "code",
   "execution_count": 13,
   "metadata": {},
   "outputs": [
    {
     "name": "stdout",
     "output_type": "stream",
     "text": [
      "range(0, 10)\n",
      "[0, 1, 2, 3, 4, 5, 6, 7, 8, 9]\n"
     ]
    }
   ],
   "source": [
    "print(range(10))\n",
    "print(list(range(10)))"
   ]
  },
  {
   "cell_type": "markdown",
   "metadata": {},
   "source": [
    "Le nombre de fin qui lui est passé n’est jamais dans la liste générée ; `range(10)` génère une liste de 10 valeurs, exactement les indices des éléments d’une séquence de longueur 10. Il est possible de faire commencer l’intervalle à un autre nombre, ou de spécifier un incrément différent (même négatif) :"
   ]
  },
  {
   "cell_type": "code",
   "execution_count": 14,
   "metadata": {},
   "outputs": [
    {
     "data": {
      "text/plain": [
       "[5, 6, 7, 8, 9]"
      ]
     },
     "execution_count": 14,
     "metadata": {},
     "output_type": "execute_result"
    }
   ],
   "source": [
    "list(range(5, 10)) # [5, 6, 7, 8, 9]"
   ]
  },
  {
   "cell_type": "code",
   "execution_count": 15,
   "metadata": {},
   "outputs": [
    {
     "data": {
      "text/plain": [
       "[0, 2, 4, 6, 8]"
      ]
     },
     "execution_count": 15,
     "metadata": {},
     "output_type": "execute_result"
    }
   ],
   "source": [
    "list(range(0, 10, 2)) # [0, 2, 4, 6, 8]"
   ]
  },
  {
   "cell_type": "code",
   "execution_count": 16,
   "metadata": {},
   "outputs": [
    {
     "data": {
      "text/plain": [
       "[10, 5, 0, -5, -10, -15]"
      ]
     },
     "execution_count": 16,
     "metadata": {},
     "output_type": "execute_result"
    }
   ],
   "source": [
    "list(range(10, -20, -5)) # [10, 5, 0, -5, -10, -15]"
   ]
  },
  {
   "cell_type": "markdown",
   "metadata": {},
   "source": [
    "Habituellement, on combine `for` et `range` de la façon suivante :"
   ]
  },
  {
   "cell_type": "code",
   "execution_count": 18,
   "metadata": {},
   "outputs": [
    {
     "name": "stdout",
     "output_type": "stream",
     "text": [
      "burger est l'élément d'indice 0\n",
      "végane est l'élément d'indice 1\n",
      "manger est l'élément d'indice 2\n"
     ]
    }
   ],
   "source": [
    "liste = ['burger', 'végane', 'manger']\n",
    "for i in range(0, 3, 1):  # comme for (i=0; i<3; i++)\n",
    "    print (liste[i], \"est l'élément d'indice\", i)"
   ]
  },
  {
   "cell_type": "markdown",
   "metadata": {},
   "source": [
    "Pour parcourir les indices d’une séquence, combinez `range()` et `len()` comme ci-dessous :"
   ]
  },
  {
   "cell_type": "code",
   "execution_count": 19,
   "metadata": {},
   "outputs": [
    {
     "name": "stdout",
     "output_type": "stream",
     "text": [
      "L'élément d'indice 0 est Le\n",
      "L'élément d'indice 1 est Lion\n",
      "L'élément d'indice 2 est et\n",
      "L'élément d'indice 3 est le\n",
      "L'élément d'indice 4 est Moucheron\n"
     ]
    }
   ],
   "source": [
    "fable = ['Le', 'Lion', 'et', 'le', 'Moucheron']\n",
    "for i in range(len(fable)):\n",
    "    print (\"L'élément d'indice\", i, 'est', fable[i])"
   ]
  },
  {
   "cell_type": "markdown",
   "metadata": {},
   "source": [
    "## Les instructions `break` et `continue`, et les clauses `else` dans les boucles (*)"
   ]
  },
  {
   "cell_type": "markdown",
   "metadata": {},
   "source": [
    "L’instruction `break`, comme en C, sort de la plus petite boucle `for` ou `while` englobante.\n",
    "\n",
    "L’instruction `continue`, également empruntée au C, continue sur la prochaine itération de la boucle.\n",
    "\n",
    "Les instructions de boucle ont une clause `else` ; elle est exécutée lorsque la boucle se termine par épuisement de la liste (avec `for`) ou quand la condition devient fausse (avec `while`), mais pas quand la boucle est interrompue par une instruction `break`. Cela est expliqué dans la boucle suivante, qui recherche des nombres premiers :"
   ]
  },
  {
   "cell_type": "code",
   "execution_count": 20,
   "metadata": {
    "scrolled": true
   },
   "outputs": [
    {
     "name": "stdout",
     "output_type": "stream",
     "text": [
      "2 est un nombre premier\n",
      "3 est un nombre premier\n",
      "4 égale 2 * 2\n",
      "5 est un nombre premier\n",
      "6 égale 2 * 3\n",
      "7 est un nombre premier\n",
      "8 égale 2 * 4\n",
      "9 égale 3 * 3\n"
     ]
    }
   ],
   "source": [
    "for n in range(2, 10):\n",
    "    for x in range(2, n):\n",
    "        if n % x == 0:\n",
    "            print (n, 'égale', x, '*', n//x) # // est la division entière\n",
    "            break\n",
    "    else:\n",
    "        # la boucle s'est terminée sans trouver facteur\n",
    "        print (n, 'est un nombre premier')"
   ]
  },
  {
   "cell_type": "markdown",
   "metadata": {},
   "source": [
    "## L'instruction `pass` (*)"
   ]
  },
  {
   "cell_type": "markdown",
   "metadata": {},
   "source": [
    "L’instruction `pass` ne fait rien. Elle peut être utilisée lorsqu’une instruction est requise syntaxiquement mais que le programme ne nécessite aucune action. Par exemple :"
   ]
  },
  {
   "cell_type": "code",
   "execution_count": 22,
   "metadata": {},
   "outputs": [],
   "source": [
    "pas_fini = True\n",
    "if pas_fini:\n",
    "    pass\n",
    "else:\n",
    "    print (\"c'est fini\")"
   ]
  },
  {
   "cell_type": "markdown",
   "metadata": {},
   "source": [
    "## Définition de fonctions"
   ]
  },
  {
   "cell_type": "markdown",
   "metadata": {},
   "source": [
    "Nous pouvons créer une fonction qui écrit la série de Fibonacci jusqu’à une limite quelconque :"
   ]
  },
  {
   "cell_type": "code",
   "execution_count": 24,
   "metadata": {},
   "outputs": [
    {
     "name": "stdout",
     "output_type": "stream",
     "text": [
      "1 1 2 3 5 8 13 21 34 55 89 144 233 377 610 987 "
     ]
    }
   ],
   "source": [
    "def fib(n):    # écrit la série de Fibonacci jusqu’à n\n",
    "    \"\"\"Affiche une suite de Fibonacci jusqu'à l'entier n.\"\"\"\n",
    "    a, b = 0, 1\n",
    "    while b < n:\n",
    "        print (b, end=' ')\n",
    "        a, b = b, a+b\n",
    "        \n",
    "# Maintenant on appelle la fonction qui vient juste d’être définie\n",
    "fib(1000)"
   ]
  },
  {
   "cell_type": "markdown",
   "metadata": {},
   "source": [
    "Si on veut tester que l'utilisateur rentre bien un nombre, nous pouvons écrire : "
   ]
  },
  {
   "cell_type": "code",
   "execution_count": 28,
   "metadata": {},
   "outputs": [
    {
     "name": "stdout",
     "output_type": "stream",
     "text": [
      "1 1 2 3 5 8 13 21 34 55 89 144 233 377 610 987 1597 2584 4181 6765 10946 17711 28657 46368 75025 121393 196418 317811 514229 832040 \n",
      "toto n'est pas un entier\n",
      "2.3 n'est pas un entier\n",
      "\n"
     ]
    }
   ],
   "source": [
    "def fib(n):    # écrit la série de Fibonacci jusqu’à n\n",
    "    \"\"\"Affiche une suite de Fibonacci jusqu'à n.\"\"\"\n",
    "    if type(n) != int:\n",
    "        print (n, \"n'est pas un entier\")\n",
    "        return\n",
    "    a, b = 0, 1\n",
    "    while b < n:\n",
    "        print (b, end=' ')\n",
    "        a, b = b, a+b\n",
    "    print()\n",
    "        \n",
    "# Maintenant on appelle la fonction qui vient juste d’être définie\n",
    "fib(1000000)\n",
    "fib('toto')\n",
    "fib(2.3)\n",
    "fib(0)"
   ]
  },
  {
   "cell_type": "markdown",
   "metadata": {},
   "source": [
    "Le mot-clé `def` débute la *définition* d’une fonction. Il doit être suivi par le nom de la fonction et une liste entre parenthèses de paramètres formels. Les instructions qui forment le corps de la fonction commencent sur la ligne suivante, indentée par une tabulation. La première instruction du corps de la fonction peut éventuellement être un texte dans une chaîne de caractères ; cette chaîne est la chaîne de documentation de la fonction, ou *docstring*.\n",
    "\n",
    "Il y a des outils qui utilisent les *docstrings* pour générer automatiquement de la documentation papier, ou pour permettre à l’utilisateur de naviguer interactivement dans le code ; c’est une bonne technique que d’inclure les *docstrings* dans le code que vous écrivez, donc essayez de vous y habituer."
   ]
  },
  {
   "cell_type": "code",
   "execution_count": 29,
   "metadata": {},
   "outputs": [],
   "source": [
    "fib?"
   ]
  },
  {
   "cell_type": "code",
   "execution_count": 30,
   "metadata": {},
   "outputs": [],
   "source": [
    "range?"
   ]
  },
  {
   "cell_type": "code",
   "execution_count": null,
   "metadata": {},
   "outputs": [],
   "source": [
    "def fib(n):    # écrit la série de Fibonacci jusqu’à n\n",
    "    \"\"\"Affiche une suite de Fibonacci jusqu'à n.\n",
    "    \n",
    "    Cette fonction permet de calculer les terme de la suite de Fibonacci\n",
    "    jusqu'au terme. La valeur de n doit être un entier. Les termes sont\n",
    "    affichés à l'écran.\n",
    "    \n",
    "    Parameter:\n",
    "    ----------\n",
    "    n: int\n",
    "        borne maximum de la suite de Fibonacci\n",
    "        \n",
    "    Returns:\n",
    "    --------\n",
    "    \n",
    "    \"\"\"\n",
    "    a, b = 0, 1\n",
    "    while b < n:\n",
    "        print (b, end=' ')\n",
    "        a, b = b, a+b"
   ]
  },
  {
   "cell_type": "markdown",
   "metadata": {},
   "source": [
    "\n",
    "L’*exécution* d’une fonction génère une nouvelle table de symboles, utilisée pour les variables locales de la fonction. Plus précisément, toutes les affectations de variables dans une fonction stockent la valeur dans la table de symboles locale ; alors que les références à des variables regardent en premier dans la table de symboles locale, puis dans la table de symboles globale, et enfin dans la table des noms intégrés. Ainsi, on ne peut affecter directement une valeur aux variables globales à l’intérieur d’une fonction (à moins de les déclarer avec une instruction `global`), bien qu’on puisse y faire référence.\n",
    "\n",
    "Les vrais paramètres (arguments) d’un appel de fonction sont introduits dans la table de symboles locale de la fonction appelée quand elle est appelée ; ainsi, les arguments sont passés en utilisant un *passage par valeur*. Quand une fonction appelée appelle à son tour une autre fonction, une nouvelle table de symboles locaux est créée pour cet appel.\n",
    "La définition d’une fonction introduit le nom de la fonction dans la table de symboles courante. La valeur du nom de la fonction a un type qui est reconnu par l’interpréteur comme une fonction définie par l’utilisateur. Cette valeur peut être affectée à un autre nom qui peut alors être utilisé aussi comme une fonction. Cela permet de disposer d’un mécanisme général de renommage :"
   ]
  },
  {
   "cell_type": "code",
   "execution_count": 31,
   "metadata": {},
   "outputs": [
    {
     "data": {
      "text/plain": [
       "function"
      ]
     },
     "execution_count": 31,
     "metadata": {},
     "output_type": "execute_result"
    }
   ],
   "source": [
    "type(fib)"
   ]
  },
  {
   "cell_type": "code",
   "execution_count": 32,
   "metadata": {},
   "outputs": [
    {
     "name": "stdout",
     "output_type": "stream",
     "text": [
      "1 1 2 3 5 8 13 21 34 55 89 \n"
     ]
    }
   ],
   "source": [
    "f = fib\n",
    "f(100)"
   ]
  },
  {
   "cell_type": "markdown",
   "metadata": {},
   "source": [
    "Nous pourrions noter que `fib` n’est pas une fonction mais une procédure. En Python, comme en C, les procédures sont juste des fonctions qui ne retournent pas de valeur. En fait, techniquement parlant, les procédures retournent bien une valeur, bien qu’elle soit plutôt décevante. Cette valeur est appelée `None` (c’est un nom intégré). La valeur `None` n’est normalement pas affichée par l’interpréteur si elle devait être la seule valeur écrite. Vous pouvez le vérifier si vous y tenez vraiment :"
   ]
  },
  {
   "cell_type": "code",
   "execution_count": 33,
   "metadata": {},
   "outputs": [
    {
     "name": "stdout",
     "output_type": "stream",
     "text": [
      "\n",
      "None\n"
     ]
    }
   ],
   "source": [
    "print (fib(0))"
   ]
  },
  {
   "cell_type": "markdown",
   "metadata": {},
   "source": [
    "Écrire une fonction qui retourne une liste des nombres de la suite de Fibonacci, au lieu de les imprimer, est très simple :"
   ]
  },
  {
   "cell_type": "code",
   "execution_count": 35,
   "metadata": {
    "scrolled": true
   },
   "outputs": [
    {
     "name": "stdout",
     "output_type": "stream",
     "text": [
      "[1, 1, 2, 3, 5, 8, 13, 21, 34, 55, 89]\n",
      "89\n"
     ]
    }
   ],
   "source": [
    "def fib2(n): # retourne la série de Fibonacci jusqu’à n\n",
    "    \"\"\"Retourne une liste contenant la série de Fibonacci jusqu'à n.\"\"\"\n",
    "    resultat = []\n",
    "    a, b = 0, 1\n",
    "    while b < n:\n",
    "        resultat.append(b) # voir ci-dessous\n",
    "        a, b = b, a+b\n",
    "    return resultat\n",
    "        \n",
    "list_fib100 = fib2(100)  # Appel de la fonction\n",
    "print (list_fib100)      # Affichage du résultat\n",
    "print (list_fib100[-1]) # le dernier élément de la série avant 100"
   ]
  },
  {
   "cell_type": "markdown",
   "metadata": {},
   "source": [
    "Cet exemple, comme d’habitude, démontre quelques nouvelles caractéristiques de Python :\n",
    "\n",
    "- L’instruction `return` termine une fonction en renvoyant une valeur. `return` sans une expression en argument renvoie `None`. Parvenir jusqu’au bout de la procédure renvoie également `None`.\n",
    "- L’instruction `resultat.append(b)` appelle une méthode de l’objet `resultat`. Une méthode est une fonction qui \"appartient\" à un objet et est nommée `obj.nommethode`, où `obj` est un objet (cela pourrait être une expression), et `nommethode` est le nom d’une méthode qui est définie d’après le type de l’objet. Différents types définissent différentes méthodes. Les méthodes de types différents peuvent avoir le même nom sans que cela soit source d’ambiguïtés. (Il est possible de définir vos propres types d’objets et méthodes, en utilisant des classes, mais cela sort du cadre de ce cours.) La méthode `append()` montrée précédemment, est définie pour les objets listes ; elle ajoute un nouvel élément à la fin de la liste. Dans cet exemple, c’est équivalent à `resultat = resultat + [b]`, mais en plus performant."
   ]
  },
  {
   "cell_type": "markdown",
   "metadata": {},
   "source": [
    "## Encore plus sur la définition de fonctions"
   ]
  },
  {
   "cell_type": "markdown",
   "metadata": {},
   "source": [
    "Il est aussi possible de définir des fonctions à nombre d’arguments variable. Il y a trois façons de faire, qui peuvent être combinées."
   ]
  },
  {
   "cell_type": "markdown",
   "metadata": {},
   "source": [
    "### Valeurs d’argument par défaut"
   ]
  },
  {
   "cell_type": "markdown",
   "metadata": {},
   "source": [
    "La technique la plus utile consiste à spécifier une valeur par défaut pour un ou plusieurs arguments. Cela crée une fonction qui peut être appelée avec moins d’arguments qu’il n’en a été défini."
   ]
  },
  {
   "cell_type": "code",
   "execution_count": 36,
   "metadata": {},
   "outputs": [
    {
     "name": "stdout",
     "output_type": "stream",
     "text": [
      "Etes vous sûr de vouloir quitter ?ou\n",
      "Oui ou non, svp!\n",
      "Etes vous sûr de vouloir quitter ?oui\n",
      "OK pour écrasement du fichier ?oui^\n",
      "êtes-vous sûr?\n",
      "OK pour écrasement du fichier ?je ne sais pas\n"
     ]
    },
    {
     "ename": "OSError",
     "evalue": "utilisateur refuse",
     "output_type": "error",
     "traceback": [
      "\u001b[0;31m---------------------------------------------------------------------------\u001b[0m",
      "\u001b[0;31mOSError\u001b[0m                                   Traceback (most recent call last)",
      "\u001b[0;32m<ipython-input-36-e9cbe6c6c981>\u001b[0m in \u001b[0;36m<module>\u001b[0;34m\u001b[0m\n\u001b[1;32m     11\u001b[0m \u001b[0mdemande_ok\u001b[0m\u001b[0;34m(\u001b[0m\u001b[0;34m'Etes vous sûr de vouloir quitter ?'\u001b[0m\u001b[0;34m)\u001b[0m\u001b[0;34m\u001b[0m\u001b[0;34m\u001b[0m\u001b[0m\n\u001b[1;32m     12\u001b[0m \u001b[0;31m# ou comme ceci\u001b[0m\u001b[0;34m\u001b[0m\u001b[0;34m\u001b[0m\u001b[0;34m\u001b[0m\u001b[0m\n\u001b[0;32m---> 13\u001b[0;31m \u001b[0mdemande_ok\u001b[0m\u001b[0;34m(\u001b[0m\u001b[0;34m'OK pour écrasement du fichier ?'\u001b[0m\u001b[0;34m,\u001b[0m \u001b[0;36m2\u001b[0m\u001b[0;34m,\u001b[0m \u001b[0;34m'êtes-vous sûr?'\u001b[0m\u001b[0;34m)\u001b[0m\u001b[0;34m\u001b[0m\u001b[0;34m\u001b[0m\u001b[0m\n\u001b[0m",
      "\u001b[0;32m<ipython-input-36-e9cbe6c6c981>\u001b[0m in \u001b[0;36mdemande_ok\u001b[0;34m(question, tentatives, plainte)\u001b[0m\n\u001b[1;32m      5\u001b[0m         \u001b[0;32melif\u001b[0m \u001b[0mreponse\u001b[0m \u001b[0;32min\u001b[0m \u001b[0;34m(\u001b[0m\u001b[0;34m'n'\u001b[0m\u001b[0;34m,\u001b[0m \u001b[0;34m'no'\u001b[0m\u001b[0;34m,\u001b[0m \u001b[0;34m'non'\u001b[0m\u001b[0;34m,\u001b[0m \u001b[0;34m'niet'\u001b[0m\u001b[0;34m)\u001b[0m\u001b[0;34m:\u001b[0m \u001b[0;32mreturn\u001b[0m \u001b[0;32mFalse\u001b[0m\u001b[0;34m\u001b[0m\u001b[0;34m\u001b[0m\u001b[0m\n\u001b[1;32m      6\u001b[0m         \u001b[0mtentatives\u001b[0m \u001b[0;34m=\u001b[0m \u001b[0mtentatives\u001b[0m \u001b[0;34m-\u001b[0m \u001b[0;36m1\u001b[0m\u001b[0;34m\u001b[0m\u001b[0;34m\u001b[0m\u001b[0m\n\u001b[0;32m----> 7\u001b[0;31m         \u001b[0;32mif\u001b[0m \u001b[0mtentatives\u001b[0m \u001b[0;34m<=\u001b[0m \u001b[0;36m0\u001b[0m\u001b[0;34m:\u001b[0m \u001b[0;32mraise\u001b[0m \u001b[0mIOError\u001b[0m\u001b[0;34m(\u001b[0m\u001b[0;34m'utilisateur refuse'\u001b[0m\u001b[0;34m)\u001b[0m\u001b[0;34m\u001b[0m\u001b[0;34m\u001b[0m\u001b[0m\n\u001b[0m\u001b[1;32m      8\u001b[0m         \u001b[0mprint\u001b[0m \u001b[0;34m(\u001b[0m\u001b[0mplainte\u001b[0m\u001b[0;34m)\u001b[0m\u001b[0;34m\u001b[0m\u001b[0;34m\u001b[0m\u001b[0m\n\u001b[1;32m      9\u001b[0m \u001b[0;34m\u001b[0m\u001b[0m\n",
      "\u001b[0;31mOSError\u001b[0m: utilisateur refuse"
     ]
    }
   ],
   "source": [
    "def demande_ok(question, tentatives=3, plainte='oui ou non, svp!'):\n",
    "    while True:\n",
    "        reponse = input(question)\n",
    "        if reponse in ('o', 'oui'): return True\n",
    "        elif reponse in ('n', 'no', 'non', 'niet'): return False\n",
    "        tentatives = tentatives - 1\n",
    "        if tentatives <= 0: raise IOError('utilisateur refuse')\n",
    "        print (plainte)\n",
    "        \n",
    "# Cette fonction peut être appelée soit comme ceci :\n",
    "demande_ok('Etes vous sûr de vouloir quitter ?')\n",
    "# ou comme ceci\n",
    "demande_ok('OK pour écrasement du fichier ?', 2, 'êtes-vous sûr?')"
   ]
  },
  {
   "cell_type": "markdown",
   "metadata": {},
   "source": [
    "Les valeurs par défaut sont évaluées au moment de la définition de la fonction dans la portée de définition, ainsi:"
   ]
  },
  {
   "cell_type": "code",
   "execution_count": null,
   "metadata": {},
   "outputs": [],
   "source": [
    "i=5\n",
    "def f (arg = i):\n",
    "    print (arg)\n",
    "    \n",
    "i = 6\n",
    "f()"
   ]
  },
  {
   "cell_type": "markdown",
   "metadata": {},
   "source": [
    "**Avertissement important (\\*\\*)** : La valeur par défaut est évaluée seulement une fois. Cela est important lorsque la valeur par défaut est un objet modifiable comme une liste ou un dictionnaire. Par exemple, la fonction suivante accumule les arguments qui lui sont passés au fur et à mesure des appels :"
   ]
  },
  {
   "cell_type": "code",
   "execution_count": null,
   "metadata": {},
   "outputs": [],
   "source": [
    "def f(a, L=[]):\n",
    "    L.append(a)\n",
    "    return L\n",
    "\n",
    "print (f(1))\n",
    "print (f(2))\n",
    "print (f(3))"
   ]
  },
  {
   "cell_type": "markdown",
   "metadata": {},
   "source": [
    "Si vous ne voulez pas que la valeur par défaut soit partagée entre des appels successifs, vous pouvez plutôt écrire la fonction comme ceci :"
   ]
  },
  {
   "cell_type": "code",
   "execution_count": null,
   "metadata": {},
   "outputs": [],
   "source": [
    "def f(a, L=None):\n",
    "    if L is None:\n",
    "        L = []\n",
    "    L.append(a)\n",
    "    return L"
   ]
  },
  {
   "cell_type": "markdown",
   "metadata": {},
   "source": [
    "### Argument à mot-clé"
   ]
  },
  {
   "cell_type": "markdown",
   "metadata": {},
   "source": [
    "Les fonctions peuvent aussi être appelées en utilisant des arguments mots-clés de la forme `motcle = valeur`. Par exemple, la fonction suivante :"
   ]
  },
  {
   "cell_type": "code",
   "execution_count": 38,
   "metadata": {},
   "outputs": [],
   "source": [
    "def mafonc(x, p=2, debug=False):\n",
    "    \"\"\"Calcule x à la puissance p. p vaut 2 par défaut.\"\"\"\n",
    "    if debug:\n",
    "        print(\"evaluation de mafonc pour x = \" + str(x) + \n",
    "              \" en utilisant comme exposant p = \" + str(p))\n",
    "    return x**p"
   ]
  },
  {
   "cell_type": "markdown",
   "metadata": {},
   "source": [
    "pourrait être appelée de l'une des façon suivante:"
   ]
  },
  {
   "cell_type": "code",
   "execution_count": 39,
   "metadata": {},
   "outputs": [
    {
     "name": "stdout",
     "output_type": "stream",
     "text": [
      "Le résultat est : 25\n"
     ]
    }
   ],
   "source": [
    "print ('Le résultat est :', mafonc(5))"
   ]
  },
  {
   "cell_type": "code",
   "execution_count": 40,
   "metadata": {},
   "outputs": [
    {
     "data": {
      "text/plain": [
       "125"
      ]
     },
     "execution_count": 40,
     "metadata": {},
     "output_type": "execute_result"
    }
   ],
   "source": [
    "mafonc(5, 3, False)"
   ]
  },
  {
   "cell_type": "code",
   "execution_count": 41,
   "metadata": {},
   "outputs": [
    {
     "name": "stdout",
     "output_type": "stream",
     "text": [
      "evaluation de mafonc pour x = 5 en utilisant comme exposant p = 2\n"
     ]
    },
    {
     "data": {
      "text/plain": [
       "25"
      ]
     },
     "execution_count": 41,
     "metadata": {},
     "output_type": "execute_result"
    }
   ],
   "source": [
    "mafonc(5, debug=True)"
   ]
  },
  {
   "cell_type": "code",
   "execution_count": 42,
   "metadata": {},
   "outputs": [
    {
     "name": "stdout",
     "output_type": "stream",
     "text": [
      "evaluation de mafonc pour x = 7 en utilisant comme exposant p = 3\n"
     ]
    },
    {
     "data": {
      "text/plain": [
       "343"
      ]
     },
     "execution_count": 42,
     "metadata": {},
     "output_type": "execute_result"
    }
   ],
   "source": [
    "mafonc(p=3, debug=True, x=7)"
   ]
  },
  {
   "cell_type": "markdown",
   "metadata": {},
   "source": [
    "En général, une liste d’arguments doit être constituée de tous les arguments de position, suivis de tous les arguments mots-clés, où ces mots-clés doivent être choisis parmi les noms des paramètres formels. Il n’est pas important qu’un paramètre formel ait une valeur par défaut ou non. Aucun argument ne peut recevoir une valeur plus d’une fois - les noms de paramètre formel correspondant aux arguments de position ne peuvent être utilisés comme mots-clés dans les mêmes appels."
   ]
  },
  {
   "cell_type": "code",
   "execution_count": 43,
   "metadata": {},
   "outputs": [
    {
     "ename": "TypeError",
     "evalue": "function() got multiple values for argument 'a'",
     "output_type": "error",
     "traceback": [
      "\u001b[0;31m---------------------------------------------------------------------------\u001b[0m",
      "\u001b[0;31mTypeError\u001b[0m                                 Traceback (most recent call last)",
      "\u001b[0;32m<ipython-input-43-0658d145b8a6>\u001b[0m in \u001b[0;36m<module>\u001b[0;34m\u001b[0m\n\u001b[1;32m      2\u001b[0m     \u001b[0;32mpass\u001b[0m\u001b[0;34m\u001b[0m\u001b[0;34m\u001b[0m\u001b[0m\n\u001b[1;32m      3\u001b[0m \u001b[0;34m\u001b[0m\u001b[0m\n\u001b[0;32m----> 4\u001b[0;31m \u001b[0mfunction\u001b[0m\u001b[0;34m(\u001b[0m\u001b[0;36m0\u001b[0m\u001b[0;34m,\u001b[0m \u001b[0ma\u001b[0m\u001b[0;34m=\u001b[0m\u001b[0;36m0\u001b[0m\u001b[0;34m)\u001b[0m\u001b[0;34m\u001b[0m\u001b[0;34m\u001b[0m\u001b[0m\n\u001b[0m",
      "\u001b[0;31mTypeError\u001b[0m: function() got multiple values for argument 'a'"
     ]
    }
   ],
   "source": [
    "def function(a):\n",
    "    pass\n",
    "\n",
    "function(0, a=0)"
   ]
  },
  {
   "cell_type": "markdown",
   "metadata": {},
   "source": [
    "Quand un paramètre formel de la forme `**nom` est présent en dernière position, il reçoit un dictionnaire contenant tous les arguments mots-clés dont les mots-clés ne correspondent pas à un paramètre formel. Cela peut être combiné avec un paramètre formel de la forme `*nom` (décrit dans la sous-section suivante) qui reçoit un tuple contenant les arguments positionnels au-delà de la liste de paramètres formels. (`*nom` doit être placé avant `**nom`.) Par exemple, nous définissons une fonction comme ceci :"
   ]
  },
  {
   "cell_type": "code",
   "execution_count": null,
   "metadata": {},
   "outputs": [],
   "source": [
    "def fromagerie(type, *arguments, **motcles):\n",
    "         print (\"-- Avez-vous du\", type, '?')\n",
    "         print (\"-- Je suis désolé, plus personne n’a de\", type)\n",
    "         for arg in arguments: print (arg)\n",
    "         print ('-'*40)\n",
    "         cles = motcles.keys()\n",
    "         cles.sort()\n",
    "         for mc in cles : print (mc, ':', motcles[mc])"
   ]
  },
  {
   "cell_type": "markdown",
   "metadata": {},
   "source": [
    "qui pourrait être appelée comme ceci:"
   ]
  },
  {
   "cell_type": "code",
   "execution_count": null,
   "metadata": {},
   "outputs": [],
   "source": [
    "fromagerie('Camembert', \"Il est très coulant, monsieur.\",\n",
    "                \"Il est vraiment très, TRES coulant, monsieur.\",\n",
    "                client='John Cleese',\n",
    "                proprietaire='Michael Palin',\n",
    "                sketch='Sketch de la Fromagerie')"
   ]
  },
  {
   "cell_type": "markdown",
   "metadata": {},
   "source": [
    "Notez que la méthode `sort()` de la liste de des mots-clés des noms d’arguments est appelée avant d’imprimer le contenu du dictionnaire motcles ; si cela n’est pas fait, l’ordre dans lequel les arguments sont imprimés n’est pas défini."
   ]
  },
  {
   "cell_type": "markdown",
   "metadata": {},
   "source": [
    "### Listes d’arguments à déballer (*)"
   ]
  },
  {
   "cell_type": "markdown",
   "metadata": {},
   "source": [
    "La situation inverse se produit lorsque les arguments sont dans une liste ou un n-uplet mais doivent être déballés en vue d’une fonction qui requiert des arguments positionnels séparés. Par exemple, la fonction intégrée `range()` attend deux arguments séparés `start` et `stop`. Si ces derniers ne sont pas disponibles séparément, écrivez l’appel de la fonction avec l’opérateur `*` afin de déballer les arguments depuis une liste ou un n-uplet :"
   ]
  },
  {
   "cell_type": "code",
   "execution_count": null,
   "metadata": {},
   "outputs": [],
   "source": [
    "range(3, 6)  # appel normal avec des arguments séparés"
   ]
  },
  {
   "cell_type": "code",
   "execution_count": null,
   "metadata": {},
   "outputs": [],
   "source": [
    "args = [3, 6]\n",
    "range(*args) # appel avec des arguments déballés depuis une liste"
   ]
  },
  {
   "cell_type": "markdown",
   "metadata": {},
   "source": [
    "### Les formes lambda (*)"
   ]
  },
  {
   "cell_type": "markdown",
   "metadata": {},
   "source": [
    "Avec le mot-clé `lambda`, de petites fonctions anonymes peuvent être créées. Voici une fonction qui retourne la somme de ses deux arguments: `lambda a, b : a+b`. Les formes Lambda peuvent être utilisées chaque fois qu’un objet fonction est requis. Elles sont limitées syntaxi- quement à une expression unique. Sémantiquement, elles sont juste de l’enrobage syntaxique pour une définition de fonction normale. Comme les définitions de fonctions imbriquées, les formes lambda peuvent faire référence à des variables de la portée qui les contient :"
   ]
  },
  {
   "cell_type": "code",
   "execution_count": null,
   "metadata": {},
   "outputs": [],
   "source": [
    "def fabrique_incrementeur(n):\n",
    "    return lambda x, incr=n: x+incr\n",
    "\n",
    "f = fabrique_incrementeur(42)\n",
    "f(0)"
   ]
  },
  {
   "cell_type": "code",
   "execution_count": null,
   "metadata": {},
   "outputs": [],
   "source": [
    "f(1)"
   ]
  },
  {
   "cell_type": "markdown",
   "metadata": {},
   "source": [
    "### Chaînes de documentation (docstrings)"
   ]
  },
  {
   "cell_type": "markdown",
   "metadata": {},
   "source": [
    "Il existe des conventions émergentes à propos du contenu et du formatage des chaînes de documentation. \n",
    "\n",
    "La première ligne devrait toujours être un résumé concis des objectifs de l’objet. Afin d’être bref, il ne devrait pas répéter explicitement le nom ou le type de l’objet, puisque ces informations sont disponibles par d’autres moyens (sauf si le nom se trouve être un verbe décrivant l’utilisation d’une fonction). Cette ligne devrait toujours commencer par une lettre majuscule et finir par une virgule.\n",
    "\n",
    "S’il y a d’autres lignes dans la chaîne de documentation, la deuxième ligne devrait être vide, séparant visuellement le résumé du reste de la description. Les lignes suivantes devraient constituer un ou plusieurs paragraphes décrivant les conventions d’appel des objets, ses effets de bord, etc.\n",
    "\n",
    "L’interpréteur python ne supprime pas l’indentation des chaînes de texte multilignes en Python, donc les outils qui traitent la documentation doivent supprimer l’indentation. Cela peut se faire en utilisant la convention suivante. La première ligne non-vide *après* la première ligne de la chaîne détermine la quantité d’indentation pour toute la chaîne de documentation. (On ne peut pas utiliser la première ligne puisqu’elle est généralement adjacente aux quotes ouvrantes de la chaîne donc son indentation n’est pas apparente dans le texte de la chaîne.) Les espaces “équivalents” à cette indentation sont ensuite supprimés du début de toutes les lignes de la chaîne. Des lignes indentées de façon moins importante ne devraient pas apparaître, mais si elles le font, tous leurs espaces en début de ligne devraient être supprimés. L’équivalence de l’espacement devrait être testée après l’expansion des tabulations (à 8 espaces, normalement).\n",
    "\n",
    "Voici un exemple de docstring multi-ligne :"
   ]
  },
  {
   "cell_type": "code",
   "execution_count": null,
   "metadata": {},
   "outputs": [],
   "source": [
    "def ma_fonction():\n",
    "    \"\"\"Ne fait rien, mais le documente.\n",
    "    \n",
    "    Non, vraiment elle ne fait rien.\n",
    "    \"\"\"\n",
    "    pass\n",
    "\n",
    "print (ma_fonction.__doc__)\n",
    "ma_fonction?\n",
    "help(ma_fonction)"
   ]
  },
  {
   "cell_type": "code",
   "execution_count": 45,
   "metadata": {},
   "outputs": [],
   "source": [
    "a = 4"
   ]
  },
  {
   "cell_type": "code",
   "execution_count": 47,
   "metadata": {},
   "outputs": [
    {
     "data": {
      "text/plain": [
       "2"
      ]
     },
     "execution_count": 47,
     "metadata": {},
     "output_type": "execute_result"
    }
   ],
   "source": [
    "a"
   ]
  },
  {
   "cell_type": "code",
   "execution_count": null,
   "metadata": {},
   "outputs": [],
   "source": []
  },
  {
   "cell_type": "code",
   "execution_count": null,
   "metadata": {},
   "outputs": [],
   "source": []
  },
  {
   "cell_type": "code",
   "execution_count": null,
   "metadata": {},
   "outputs": [],
   "source": []
  },
  {
   "cell_type": "markdown",
   "metadata": {},
   "source": [
    "*Ce notebook est une adaptation de la traduction française, dirigée par Olivier Berger et mise à jour par Henri Garreta, du tutoriel Python édité par Guido van Rossum et Fred L. Drake.*"
   ]
  }
 ],
 "metadata": {
  "@webio": {
   "lastCommId": null,
   "lastKernelId": null
  },
  "anaconda-cloud": {},
  "kernelspec": {
   "display_name": "Python 3",
   "language": "python",
   "name": "python3"
  },
  "language_info": {
   "codemirror_mode": {
    "name": "ipython",
    "version": 3
   },
   "file_extension": ".py",
   "mimetype": "text/x-python",
   "name": "python",
   "nbconvert_exporter": "python",
   "pygments_lexer": "ipython3",
   "version": "3.8.8"
  }
 },
 "nbformat": 4,
 "nbformat_minor": 1
}
