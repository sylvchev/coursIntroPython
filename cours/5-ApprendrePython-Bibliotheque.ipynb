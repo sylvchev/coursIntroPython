{
 "cells": [
  {
   "cell_type": "code",
   "execution_count": 2,
   "metadata": {},
   "outputs": [],
   "source": [
    "from __future__ import print_function"
   ]
  },
  {
   "cell_type": "markdown",
   "metadata": {},
   "source": [
    "## Fichiers et entrées/sorties"
   ]
  },
  {
   "cell_type": "markdown",
   "metadata": {},
   "source": [
    "Pour écrire ou lire dans un fichier, **`open()`** renvoie un objet de type fichier, et est utilisée plus généralement avec deux arguments : **`open(nomfichier, mode)`**."
   ]
  },
  {
   "cell_type": "code",
   "execution_count": 11,
   "metadata": {},
   "outputs": [],
   "source": [
    "f=open('fichiertravail.txt', 'w')"
   ]
  },
  {
   "cell_type": "markdown",
   "metadata": {},
   "source": [
    "Le premier argument est une chaîne de caractères contenant le nom du fichier. Le deuxième argument est une autre chaîne de caractères contenant quelques caractères décrivant la manière d’utiliser le fichier. *mode* vaut `'r'` quand le fichier doit être seulement lu, `'w'` pour seulement être écrit (un fichier déjà existant avec le même nom sera effacé), et `'a'` ouvre le fichier en ajout ; les données écrites dans le fichier seront automatiquement ajoutées à la fin. `'r+'` ouvre le fichier pour la lecture et l’écriture. L’argument mode est facultatif ; `'r'` sera pris par défaut s’il est omis.\n",
    "\n",
    "Pour écrire dans un fichier, on peut utiliser la primitive **`f.write(`** *chaine* **`)`**, qui écrit la chaîne de caractères dans le fichier"
   ]
  },
  {
   "cell_type": "code",
   "execution_count": 12,
   "metadata": {},
   "outputs": [],
   "source": [
    "f.write('Voici un test\\n')"
   ]
  },
  {
   "cell_type": "markdown",
   "metadata": {},
   "source": [
    "Pour écrire quelque chose d’autre qu’une chaîne il est nécessaire de commencer par le convertir en chaîne :"
   ]
  },
  {
   "cell_type": "code",
   "execution_count": 13,
   "metadata": {},
   "outputs": [],
   "source": [
    "value = ('la reponse est', 42)\n",
    "s = str(value)\n",
    "f.write(s)"
   ]
  },
  {
   "cell_type": "markdown",
   "metadata": {},
   "source": [
    "Une fois le fichier utilisé, il faut le fermer avec **`f.close()`**. Après avoir appelé **`f.close()`**, les tentatives d’utiliser l’objet fichier échoueront automatiquement."
   ]
  },
  {
   "cell_type": "code",
   "execution_count": 14,
   "metadata": {},
   "outputs": [],
   "source": [
    "f.close()"
   ]
  },
  {
   "cell_type": "markdown",
   "metadata": {},
   "source": [
    "Il existe une façon plus adéquate pour travailler sur un fichier, qui permet de ne pas avoir besoin d'utiliser `close`. Nous verrons cette syntaxe en utilisant **`f.read(`** *taille* **`)`** qui lit une certaine quantité de données et les retourne en tant que chaîne de caractères. *taille* est un argument numérique facultatif. Quand *taille* est omis ou négatif, le contenu entier du fichier sera lu et retourné. Autrement, au plus *taille* octets sont lus et retournés."
   ]
  },
  {
   "cell_type": "code",
   "execution_count": 15,
   "metadata": {},
   "outputs": [
    {
     "name": "stdout",
     "output_type": "stream",
     "text": [
      "Voici un test\n",
      "('la reponse est', 42)\n"
     ]
    }
   ],
   "source": [
    "with open('fichiertravail.txt', 'r') as f:\n",
    "    s = f.read()\n",
    "    print (s)"
   ]
  },
  {
   "cell_type": "markdown",
   "metadata": {},
   "source": [
    "**`f.readline()`** lit une seule ligne à partir du fichier ; un caractère de fin de ligne (`\\n`) est laissé à l’extrémité de la chaîne de caractères lue, et est seulement omis sur la dernière ligne du fichier si le fichier ne se termine pas par une fin de ligne. Cela rend la valeur de retour non ambiguë ; si **`f.readline()`** renvoie une chaîne de caractères vide, la fin du fichier a été atteinte, alors qu’une fin de ligne est représentée par `'\\n'`, une chaîne de caractères contenant seulement une seule fin de ligne."
   ]
  },
  {
   "cell_type": "code",
   "execution_count": 25,
   "metadata": {},
   "outputs": [
    {
     "name": "stdout",
     "output_type": "stream",
     "text": [
      "Voici un test\n",
      "\n",
      "('la reponse est', 42)\n"
     ]
    }
   ],
   "source": [
    "with open('fichiertravail.txt', 'r') as f:\n",
    "    s = f.readline()\n",
    "    while s != '':\n",
    "        print (s)\n",
    "        s = f.readline()"
   ]
  },
  {
   "cell_type": "markdown",
   "metadata": {},
   "source": [
    "**`f.readlines()`** renvoie une liste contenant toutes les lignes de données dans le fichier. Si un paramètre optionnel `sizehint` est donné, alors elle lit le nombre d’octets indiqué, plus autant d’octets qu’il en faut pour compléter la dernière ligne commencée, et renvoie la liste des lignes ainsi lues. Cela est souvent utile pour per- mettre la lecture par lignes efficace, sans devoir charger entièrement le fichier en mémoire. La liste retournée est entièrement faite de lignes complètes."
   ]
  },
  {
   "cell_type": "code",
   "execution_count": 26,
   "metadata": {},
   "outputs": [
    {
     "name": "stdout",
     "output_type": "stream",
     "text": [
      "ligne 0 : Voici un test\n",
      "\n",
      "ligne 1 : ('la reponse est', 42)\n"
     ]
    }
   ],
   "source": [
    "with open('fichiertravail.txt', 'r') as f:\n",
    "    lines = f.readlines()\n",
    "for i, l in enumerate(lines):\n",
    "    print ('ligne', i, ':', l)"
   ]
  },
  {
   "cell_type": "markdown",
   "metadata": {},
   "source": [
    "## Le module `pickle`"
   ]
  },
  {
   "cell_type": "markdown",
   "metadata": {},
   "source": [
    "Les chaînes de caractères peuvent facilement être écrites et lues dans un fichier. Les nombres demandent un peu plus d’effort, puisque la méthode `read()` renvoie seulement les chaînes de caractères, qui devront être passées vers une fonction comme `int()`, qui prend une chaîne de caractères comme `'123'` et renvoie sa valeur numérique 123. Cependant, quand vous voulez sauvegarder des types de données plus complexes comme des listes, des dictionnaires, ou des instances de classe, les choses deviennent beaucoup plus compliquées.\n",
    "\n",
    "Plutôt que faire écrire et déboguer constamment par les utilisateurs le code pour sauvegarder des types de données complexes, Python fournit un module standard appelé pickle. C’est un module étonnant qui peut prendre presque n’importe quel objet Python (même quelques formes de code Python !), et le convertir en une représentation sous forme de chaîne de caractères ; ce processus s’appelle *pickling*. Reconstruire l’objet à partir de sa représentation en chaîne de caractères s’appelle *unpickling*. Entre pickling et unpickling, la chaîne de caractères représentant l’objet a pu avoir été enregistrée dans un fichier ou des données, ou avoir été envoyée à une machine éloignée via une connexion réseau.\n",
    "\n",
    "Si vous avez un objet `x`, et un objet fichier `f` ouvert en écriture, la voie la plus simple de *pickler* l’objet prend seulement une ligne de code :\n",
    "\n",
    "`pickle.dump(x, f)`\n",
    "\n",
    "Pour *unpickler* l’objet, si `f` est un objet fichier ouvert en lecture :\n",
    "\n",
    "`x = pickle.load(f)`"
   ]
  },
  {
   "cell_type": "markdown",
   "metadata": {},
   "source": [
    "## La gestion des fichiers"
   ]
  },
  {
   "cell_type": "markdown",
   "metadata": {},
   "source": [
    "Il est possible de manipuler les primitives systèmes en Python. La plupart des fonctions du système sont disponible dans le module `os`:"
   ]
  },
  {
   "cell_type": "code",
   "execution_count": 27,
   "metadata": {},
   "outputs": [],
   "source": [
    "import os"
   ]
  },
  {
   "cell_type": "markdown",
   "metadata": {},
   "source": [
    "Pour connaître toutes les fonctions disponibles, il est possible d'utiliser `help(os)` ou `dir(os)`.\n",
    "\n",
    "Pour les tâches courantes de gestion de fichiers et répertoires, la module `shutil` fournit une interface de haut niveau facile à utiliser :"
   ]
  },
  {
   "cell_type": "code",
   "execution_count": 29,
   "metadata": {},
   "outputs": [],
   "source": [
    "import shutil\n",
    "shutil.copyfile('fichiertravail.txt', 'macopie.txt')\n",
    "shutil.move('macopie.txt', 'lacopie.txt')"
   ]
  },
  {
   "cell_type": "markdown",
   "metadata": {},
   "source": [
    "Le module `glob` fournit une fonction pour construire des listes de fichiers à partir de recherches avec jockers (les *) dans des répertoires :"
   ]
  },
  {
   "cell_type": "code",
   "execution_count": 36,
   "metadata": {},
   "outputs": [
    {
     "data": {
      "text/plain": [
       "['fichiertravail.txt', 'lacopie.txt']"
      ]
     },
     "execution_count": 36,
     "metadata": {},
     "output_type": "execute_result"
    }
   ],
   "source": [
    "import glob\n",
    "glob.glob('*.txt')"
   ]
  },
  {
   "cell_type": "markdown",
   "metadata": {},
   "source": [
    "## Accès à internet"
   ]
  },
  {
   "cell_type": "markdown",
   "metadata": {},
   "source": [
    "Il y a un certain nombre de modules pour accéder à Internet et pour traiter les protocoles de l’Internet. Deux des plus simples sont `urllib2` pour récupérer des données depuis des url et `smtplib` pour envoyer du courrier :"
   ]
  },
  {
   "cell_type": "code",
   "execution_count": 39,
   "metadata": {},
   "outputs": [
    {
     "name": "stdout",
     "output_type": "stream",
     "text": [
      "    <meta charset=\"utf-8\">\n",
      "\n",
      "    <meta http-equiv=\"X-UA-Compatible\" content=\"IE=edge\">\n",
      "\n",
      "    <meta name=\"application-name\" content=\"Python.org\">\n",
      "\n",
      "    <meta name=\"msapplication-tooltip\" content=\"The official home of the Python Programming Language\">\n",
      "\n",
      "    <meta name=\"apple-mobile-web-app-title\" content=\"Python.org\">\n",
      "\n",
      "    <meta name=\"apple-mobile-web-app-capable\" content=\"yes\">\n",
      "\n",
      "    <meta name=\"apple-mobile-web-app-status-bar-style\" content=\"black\">\n",
      "\n",
      "    <meta name=\"viewport\" content=\"width=device-width, initial-scale=1.0\">\n",
      "\n",
      "    <meta name=\"HandheldFriendly\" content=\"True\">\n",
      "\n",
      "    <meta name=\"format-detection\" content=\"telephone=no\">\n",
      "\n",
      "    <meta http-equiv=\"cleartype\" content=\"on\">\n",
      "\n",
      "    <meta http-equiv=\"imagetoolbar\" content=\"false\">\n",
      "\n",
      "    <meta name=\"msapplication-TileImage\" content=\"/static/metro-icon-144x144-precomposed.png\"><!-- white shape -->\n",
      "\n",
      "    <meta name=\"msapplication-TileColor\" content=\"#3673a5\"><!-- python blue -->\n",
      "\n",
      "    <meta name=\"msapplication-navbutton-color\" content=\"#3673a5\">\n",
      "\n",
      "    <meta property=\"og:site_name\" content=\"Python.org\">\n",
      "\n",
      "    <meta property=\"og:type\" content=\"website\">\n",
      "\n",
      "    <meta property=\"og:title\" content=\"Welcome to Python.org\">\n",
      "\n",
      "    <meta name=\"description\" content=\"The official home of the Python Programming Language\">\n",
      "\n",
      "    <meta name=\"og:description\" content=\"The official home of the Python Programming Language\">\n",
      "\n",
      "    <meta name=\"keywords\" content=\"Python programming language object oriented web free open source software license documentation download community\">\n",
      "\n",
      "    <meta property=\"og:tag\" content=\"Python programming language object oriented web free open source software license documentation download community\">\n",
      "\n",
      "    <meta property=\"og:published_time\" content=\"\">\n",
      "\n",
      "    <meta property=\"og:modified_time\" content=\"\">\n",
      "\n",
      "    <meta property=\"og:author\" content=\"\">\n",
      "\n",
      "    <meta property=\"og:section\" content=\"\"> \n",
      "\n",
      "    <meta property=\"og:url\" content=\"\">\n",
      "\n",
      "    <meta property=\"og:image\" content=\"\">\n",
      "\n",
      "    <meta property=\"og:video\" content=\"\">\n",
      "\n",
      "            <nav class=\"meta-navigation container\" role=\"navigation\">\n",
      "\n",
      "    <li class=\"python-meta current_item selectedcurrent_branch selected\">\n",
      "\n",
      "    <li class=\"psf-meta \">\n",
      "\n",
      "    <li class=\"docs-meta \">\n",
      "\n",
      "    <li class=\"pypi-meta \">\n",
      "\n",
      "    <li class=\"jobs-meta \">\n",
      "\n",
      "    <li class=\"shop-meta \">\n",
      "\n"
     ]
    }
   ],
   "source": [
    "import urllib2\n",
    "for line in urllib2.urlopen('http://www.python.org'):\n",
    "    if 'meta' in line: # on affiche uniquement les lignes contenant la balise meta\n",
    "        print (line)"
   ]
  },
  {
   "cell_type": "markdown",
   "metadata": {},
   "source": [
    "Un exemple pour `smtplib` : \n",
    "\n",
    "`import smtplib`\n",
    "\n",
    "`server = smtplib.SMTP('localhost')`\n",
    "\n",
    "`server.sendmail('expediteur@a.com', 'destinataire@b.org',`\n",
    "\n",
    "`\"\"\"To: destinataire`\n",
    "\n",
    "`From: me`\n",
    "\n",
    "`Un message de test`\n",
    "\n",
    "`\"\"\")`\n",
    "\n",
    "`server.close()`"
   ]
  },
  {
   "cell_type": "markdown",
   "metadata": {},
   "source": [
    "## Les autres modules"
   ]
  },
  {
   "cell_type": "markdown",
   "metadata": {},
   "source": [
    "Les autres modules sont décrits ici : https://docs.python.org/2/library/"
   ]
  },
  {
   "cell_type": "markdown",
   "metadata": {},
   "source": [
    "1. **Gestion des chaînes de caractères**\n",
    "    - **string** — Opérations communes sur les chaînes de caractères\n",
    "    - **re** — Expressions régulières\n",
    "    - **struct** — Interprèter les chaînes de caractères comme des paquets de données binaires\n",
    "    - **difflib** — Aides pour calculer des différences\n",
    "    - **StringIO** — Lecture et écriture des chaînes comme des fichiers\n",
    "    - **cStringIO** — Versin plus rapide de StringIO\n",
    "    - **textwrap** —  Wrapping et remplissage de texte\n",
    "    - **codecs** — Registres des codecs et classes de base\n",
    "    - **unicodedata** — Base de données Unicode\n",
    "    - **stringprep** — Préparation pour la conversion en chaînes internet\n",
    "    - **fpformat** — Conversions en virgules floattante\n",
    "    \n",
    "2. **Types de données**\n",
    "    - **datetime** — Basic date and time types\n",
    "    - **calendar** — General calendar-related functions\n",
    "    - **collections** — High-performance container datatypes\n",
    "    - **heapq** — Heap queue algorithm\n",
    "    - **bisect** — Array bisection algorithm\n",
    "    - **array** — Efficient arrays of numeric values\n",
    "    - **sets** — Unordered collections of unique elements\n",
    "    - **sched** — Event scheduler\n",
    "    - **mutex** — Mutual exclusion support\n",
    "    - **Queue** — A synchronized queue class\n",
    "    - **weakref** — Weak references\n",
    "    - **UserDict** — Class wrapper for dictionary objects\n",
    "    - **UserList** — Class wrapper for list objects\n",
    "    - **UserString** — Class wrapper for string objects\n",
    "    - **types** — Names for built-in types\n",
    "    - **new** — Creation of runtime internal objects\n",
    "    - **copy** — Shallow and deep copy operations\n",
    "    - **pprint** — Data pretty printer\n",
    "    - **repr** — Alternate repr() implementation\n",
    "\n",
    "3. **Numeric and Mathematical Modules**\n",
    "    - **numbers** — Numeric abstract base classes\n",
    "    - **math** — Mathematical functions\n",
    "    - **cmath** — Mathematical functions for complex numbers\n",
    "    - **decimal** — Decimal fixed point and floating point arithmetic\n",
    "    - **fractions** — Rational numbers\n",
    "    - **random** — Generate pseudo-random numbers\n",
    "    - **itertools** — Functions creating iterators for efficient looping\n",
    "    - **functools** — Higher-order functions and operations on callable objects\n",
    "    - **operator** — Standard operators as functions\n",
    "    \n",
    "4. **File and Directory Access**\n",
    "    - **os.path** — Common pathname manipulations\n",
    "    - **fileinput** — Iterate over lines from multiple input streams\n",
    "    - **stat** — Interpreting stat() results\n",
    "    - **statvfs** — Constants used with os.statvfs()\n",
    "    - **filecmp** — File and Directory Comparisons\n",
    "    - **tempfile** — Generate temporary files and directories\n",
    "    - **glob** — Unix style pathname pattern expansion\n",
    "    - **fnmatch** — Unix filename pattern matching\n",
    "    - **linecache** — Random access to text lines\n",
    "    - **shutil** — High-level file operations\n",
    "    - **dircache** — Cached directory listings\n",
    "    - **macpath** — Mac OS 9 path manipulation functions\n",
    "\n",
    "5. **Data Persistence**\n",
    "\n",
    "    - **pickle** — Python object serialization\n",
    "    - **cPickle** — A faster pickle\n",
    "    - **copy_reg** — Register pickle support functions\n",
    "    - **shelve** — Python object persistence\n",
    "    - **marshal** — Internal Python object serialization\n",
    "    - **anydbm** — Generic access to DBM-style databases\n",
    "    - **whichdb** — Guess which DBM module created a database\n",
    "    - **dbm** — Simple “database” interface\n",
    "    - **gdbm** — GNU’s reinterpretation of dbm\n",
    "    - **dbhash** — DBM-style interface to the BSD database library\n",
    "    - **bsddb** — Interface to Berkeley DB library\n",
    "    - **dumbdbm** — Portable DBM implementation\n",
    "    - **sqlite3** — DB-API 2.0 interface for SQLite databases\n",
    "\n",
    "6. **Data Compression and Archiving**\n",
    "\n",
    "    - **zlib** — Compression compatible with gzip\n",
    "    - **gzip** — Support for gzip files\n",
    "    - **bz2** — Compression compatible with bzip2\n",
    "    - **zipfile** — Work with ZIP archives\n",
    "    - **tarfile** — Read and write tar archive files\n",
    "\n",
    "7. **File Formats**\n",
    "\n",
    "    - **csv** — CSV File Reading and Writing\n",
    "    - **ConfigParser** — Configuration file parser\n",
    "    - **robotparser** — Parser for robots.txt\n",
    "    - **netrc** — netrc file processing\n",
    "    - **xdrlib** — Encode and decode XDR data\n",
    "    - **plistlib** — Generate and parse Mac OS X .plist files\n",
    "    \n",
    "8. **Cryptographic Services**\n",
    "\n",
    "    - **hashlib** — Secure hashes and message digests\n",
    "    - **hmac** — Keyed-Hashing for Message Authentication\n",
    "    - **md5** — MD5 message digest algorithm\n",
    "    - **sha** — SHA-1 message digest algorithm\n",
    "\n",
    "9. **Generic Operating System Services**\n",
    "\n",
    "    - **os** — Miscellaneous operating system interfaces\n",
    "    - **io** — Core tools for working with streams\n",
    "    - **time** — Time access and conversions\n",
    "    - **argparse** — Parser for command-line options, arguments and sub-commands\n",
    "    - **optparse** — Parser for command line options\n",
    "    - **getopt** — C-style parser for command line options\n",
    "    - **logging** — Logging facility for Python\n",
    "    - **logging.config** — Logging configuration\n",
    "    - **logging.handlers** — Logging handlers\n",
    "    - **getpass** — Portable password input\n",
    "    - **curses** — Terminal handling for character-cell displays\n",
    "    - **curses.textpad** — Text input widget for curses programs\n",
    "    - **curses.ascii** — Utilities for ASCII characters\n",
    "    - **curses.panel** — A panel stack extension for curses\n",
    "    - **platform** — Access to underlying platform’s identifying data\n",
    "    - **errno** — Standard errno system symbols\n",
    "    - **ctypes** — A foreign function library for Python\n",
    "    \n",
    "10. **Optional Operating System Services**\n",
    "\n",
    "    - **select** — Waiting for I/O completion\n",
    "    - **threading** — Higher-level threading interface\n",
    "    - **thread** — Multiple threads of control\n",
    "    - **dummy_threading** — Drop-in replacement for the threading module\n",
    "    - **dummy_thread** — Drop-in replacement for the thread module\n",
    "    - **multiprocessing** — Process-based “threading” interface\n",
    "    - **mmap** — Memory-mapped file support\n",
    "    - **readline** — GNU readline interface\n",
    "    - **rlcompleter** — Completion function for GNU readline\n",
    "    \n",
    "11. **Interprocess Communication and Networking**\n",
    "\n",
    "    - **subprocess** — Subprocess management\n",
    "    - **socket** — Low-level networking interface\n",
    "    - **ssl** — TLS/SSL wrapper for socket objects\n",
    "    - **signal** — Set handlers for asynchronous events\n",
    "    - **popen2** — Subprocesses with accessible I/O streams\n",
    "    - **asyncore** — Asynchronous socket handler\n",
    "    - **asynchat** — Asynchronous socket command/response handler\n",
    "\n",
    "12. **Internet Data Handling**\n",
    "\n",
    "    - **email** — An email and MIME handling package\n",
    "    - **json** — JSON encoder and decoder\n",
    "    - **mailcap** — Mailcap file handling\n",
    "    - **mailbox** — Manipulate mailboxes in various formats\n",
    "    - **mhlib** — Access to MH mailboxes\n",
    "    - **mimetools** — Tools for parsing MIME messages\n",
    "    - **mimetypes** — Map filenames to MIME types\n",
    "    - **MimeWriter** — Generic MIME file writer\n",
    "    - **mimify** — MIME processing of mail messages\n",
    "    - **multifile** — Support for files containing distinct parts\n",
    "    - **rfc822** — Parse RFC 2822 mail headers\n",
    "    - **base64** — RFC 3548: Base16, Base32, Base64 Data Encodings\n",
    "    - **binhex** — Encode and decode binhex4 files\n",
    "    - **binascii** — Convert between binary and ASCII\n",
    "    - **quopri** — Encode and decode MIME quoted-printable data\n",
    "    - **uu** — Encode and decode uuencode files\n",
    "\n",
    "13. **Structured Markup Processing Tools**\n",
    "\n",
    "    - **HTMLParser** — Simple HTML and XHTML parser\n",
    "    - **sgmllib** — Simple SGML parser\n",
    "    - **htmllib** — A parser for HTML documents\n",
    "    - **htmlentitydefs** — Definitions of HTML general entities\n",
    "    - XML Processing Modules\n",
    "    - XML vulnerabilities\n",
    "    - **xml.etree.ElementTree** — The ElementTree XML API\n",
    "    - **xml.dom** — The Document Object Model API\n",
    "    - **xml.dom.minidom** — Minimal DOM implementation\n",
    "    - **xml.dom.pulldom** — Support for building partial DOM trees\n",
    "    - **xml.sax** — Support for SAX2 parsers\n",
    "    - **xml.sax.handler** — Base classes for SAX handlers\n",
    "    - **xml.sax.saxutils** — SAX Utilities\n",
    "    - **xml.sax.xmlreader** — Interface for XML parsers\n",
    "    - **xml.parsers.expat** — Fast XML parsing using Expat\n",
    "\n",
    "14. **Internet Protocols and Support**\n",
    "\n",
    "    - **webbrowser** — Convenient Web-browser controller\n",
    "    - **cgi** — Common Gateway Interface support\n",
    "    - **cgitb** — Traceback manager for CGI scripts\n",
    "    - **wsgiref** — WSGI Utilities and Reference Implementation\n",
    "    - **urllib** — Open arbitrary resources by URL\n",
    "    - **urllib2** — extensible library for opening URLs\n",
    "    - **httplib** — HTTP protocol client\n",
    "    - **ftplib** — FTP protocol client\n",
    "    - **poplib** — POP3 protocol client\n",
    "    - **imaplib** — IMAP4 protocol client\n",
    "    - **nntplib** — NNTP protocol client\n",
    "    - **smtplib** — SMTP protocol client\n",
    "    - **smtpd** — SMTP Server\n",
    "    - **telnetlib** — Telnet client\n",
    "    - **uuid** — UUID objects according to RFC 4122\n",
    "    - **urlparse** — Parse URLs into components\n",
    "    - **SocketServer** — A framework for network servers\n",
    "    - **BaseHTTPServer** — Basic HTTP server\n",
    "    - **SimpleHTTPServer** — Simple HTTP request handler\n",
    "    - **CGIHTTPServer** — CGI-capable HTTP request handler\n",
    "    - **cookielib** — Cookie handling for HTTP clients\n",
    "    - **Cookie** — HTTP state management\n",
    "    - **xmlrpclib** — XML-RPC client access\n",
    "    - **SimpleXMLRPCServer** — Basic XML-RPC server\n",
    "    - **DocXMLRPCServer** — Self-documenting XML-RPC server\n",
    "\n",
    "15. **Multimedia Services**\n",
    "\n",
    "    - **audioop** — Manipulate raw audio data\n",
    "    - **imageop** — Manipulate raw image data\n",
    "    - **aifc** — Read and write AIFF and AIFC files\n",
    "    - **sunau** — Read and write Sun AU files\n",
    "    - **wave** — Read and write WAV files\n",
    "    - **chunk** — Read IFF chunked data\n",
    "    - **colorsys** — Conversions between color systems\n",
    "    - **imghdr** — Determine the type of an image\n",
    "    - **sndhdr** — Determine type of sound file\n",
    "    - **ossaudiodev** — Access to OSS-compatible audio devices\n",
    "\n",
    "16. **Internationalization**\n",
    "\n",
    "    - **gettext** — Multilingual internationalization services\n",
    "    - **locale** — Internationalization services\n",
    "\n",
    "17. **Program Frameworks**\n",
    "\n",
    "    - **cmd** — Support for line-oriented command interpreters\n",
    "    - **shlex** — Simple lexical analysis\n",
    "\n",
    "18. **Graphical User Interfaces with Tk**\n",
    "\n",
    "    - **Tkinter** — Python interface to Tcl/Tk\n",
    "    - **ttk** — Tk themed widgets\n",
    "    - **Tix** — Extension widgets for Tk\n",
    "    - **ScrolledText** — Scrolled Text Widget\n",
    "    - **turtle** — Turtle graphics for Tk\n",
    "    - IDLE\n",
    "    - Other Graphical User Interface Packages\n",
    "\n",
    "19. **Development Tools**\n",
    "\n",
    "    - **pydoc** — Documentation generator and online help system\n",
    "    - **doctest** — Test interactive Python examples\n",
    "    - **unittest** — Unit testing framework\n",
    "    - **2to3** - Automated Python 2 to 3 code translation\n",
    "    - **test** — Regression tests package for Python\n",
    "    - **test.test_support** — Utility functions for tests\n",
    "\n",
    "20. **Debugging and Profiling**\n",
    "\n",
    "    - **bdb** — Debugger framework\n",
    "    - **pdb** — The Python Debugger\n",
    "    - **Debugger** Commands\n",
    "    - The Python Profilers\n",
    "    - **hotshot** — High performance logging profiler\n",
    "    - **timeit** — Measure execution time of small code snippets\n",
    "    - **trace** — Trace or track Python statement execution\n",
    "\n",
    "21. **Python Runtime Services**\n",
    "\n",
    "    - **sys** — System-specific parameters and functions\n",
    "    - **sysconfig** — Provide access to Python’s configuration information\n",
    "    - **`__builtin__`** — Built-in objects\n",
    "    - **future`_`builtins** — Python 3 builtins\n",
    "    - **`__`main`__`** — Top-level script environment\n",
    "    - **warnings** — Warning control\n",
    "    - **contextlib** — Utilities for with-statement contexts\n",
    "    - **abc** — Abstract Base Classes\n",
    "    - **atexit** — Exit handlers\n",
    "    - **traceback** — Print or retrieve a stack traceback\n",
    "    - **`__`future`__`** — Future statement definitions\n",
    "    - **gc** — Garbage Collector interface\n",
    "    - **inspect** — Inspect live objects\n",
    "    - **site** — Site-specific configuration hook\n",
    "    - **user** — User-specific configuration hook\n",
    "    - **fpectl** — Floating point exception control\n",
    "    - **distutils** — Building and installing Python modules\n",
    "\n",
    "22. **Custom Python Interpreters**\n",
    "\n",
    "    - **code** — Interpreter base classes\n",
    "    - **codeop** — Compile Python code\n",
    "\n",
    "23. **Restricted Execution**\n",
    "\n",
    "    - **rexec** — Restricted execution framework\n",
    "    - **Bastion** — Restricting access to objects\n",
    "\n",
    "24. **Importing Modules**\n",
    "\n",
    "    - **imp** — Access the import internals\n",
    "    - **importlib** – Convenience wrappers for __import__()\n",
    "    - **imputil** — Import utilities\n",
    "    - **zipimport** — Import modules from Zip archives\n",
    "    - **pkgutil** — Package extension utility\n",
    "    - **modulefinder** — Find modules used by a script\n",
    "    - **runpy** — Locating and executing Python modules\n",
    "\n",
    "25. **Python Language Services**\n",
    "\n",
    "    - **parser** — Access Python parse trees\n",
    "    - **ast** — Abstract Syntax Trees\n",
    "    - **symtable** — Access to the compiler’s symbol tables\n",
    "    - **symbol** — Constants used with Python parse trees\n",
    "    - **token** — Constants used with Python parse trees\n",
    "    - **keyword** — Testing for Python keywords\n",
    "    - **tokenize** — Tokenizer for Python source\n",
    "    - **tabnanny** — Detection of ambiguous indentation\n",
    "    - **pyclbr** — Python class browser support\n",
    "    - **py_compile** — Compile Python source files\n",
    "    - **compileall** — Byte-compile Python libraries\n",
    "    - **dis** — Disassembler for Python bytecode\n",
    "    - **pickletools** — Tools for pickle developers\n",
    "\n",
    "26. **Python compiler package**\n",
    "\n",
    "    - The basic interface\n",
    "    - Limitations\n",
    "    - Python Abstract Syntax\n",
    "    - Using Visitors to Walk ASTs\n",
    "    - Bytecode Generation\n",
    "\n",
    "27. **Miscellaneous Services**\n",
    "\n",
    "    - **formatter** — Generic output formatting\n",
    "\n",
    "28. **MS Windows Specific Services**\n",
    "\n",
    "    - **msilib** — Read and write Microsoft Installer files\n",
    "    - **msvcrt** – Useful routines from the MS VC++ runtime\n",
    "    - **`_`winreg** – Windows registry access\n",
    "    - **winsound** — Sound-playing interface for Windows\n",
    "\n",
    "29. **Unix Specific Services**\n",
    "\n",
    "    - **posix** — The most common POSIX system calls\n",
    "    - **pwd** — The password database\n",
    "    - **spwd** — The shadow password database\n",
    "    - **grp** — The group database\n",
    "    - **crypt** — Function to check Unix passwords\n",
    "    - **dl** — Call C functions in shared objects\n",
    "    - **termios** — POSIX style tty control\n",
    "    - **tty** — Terminal control functions\n",
    "    - **pty** — Pseudo-terminal utilities\n",
    "    - **fcntl** — The fcntl and ioctl system calls\n",
    "    - **pipes** — Interface to shell pipelines\n",
    "    - **posixfile** — File-like objects with locking support\n",
    "    - **resource** — Resource usage information\n",
    "    - **nis** — Interface to Sun’s NIS (Yellow Pages)\n",
    "    - **syslog** — Unix syslog library routines\n",
    "    - **commands** — Utilities for running commands\n",
    "\n",
    "30. **Mac OS X specific services**\n",
    "\n",
    "    - **ic** — Access to the Mac OS X Internet Config\n",
    "    - **MacOS** — Access to Mac OS interpreter features\n",
    "    - **macostools** — Convenience routines for file manipulation\n",
    "    - **findertools** — The finder‘s Apple Events interface\n",
    "    - **EasyDialogs** — Basic Macintosh dialogs\n",
    "    - **FrameWork** — Interactive application framework\n",
    "    - **autoGIL** — Global Interpreter Lock handling in event loops\n",
    "    - **Mac** OS Toolbox Modules\n",
    "    - **ColorPicker** — Color selection dialog\n",
    "\n"
   ]
  },
  {
   "cell_type": "markdown",
   "metadata": {},
   "source": [
    "*Ce notebook est une adaptation de la traduction française, dirigée par Olivier Berger et mise à jour par Henri Garreta, du tutoriel Python édité par Guido van Rossum et Fred L. Drake.*"
   ]
  }
 ],
 "metadata": {
  "kernelspec": {
   "display_name": "Python 3",
   "language": "python",
   "name": "python3"
  },
  "language_info": {
   "codemirror_mode": {
    "name": "ipython",
    "version": 3
   },
   "file_extension": ".py",
   "mimetype": "text/x-python",
   "name": "python",
   "nbconvert_exporter": "python",
   "pygments_lexer": "ipython3",
   "version": "3.6.9"
  }
 },
 "nbformat": 4,
 "nbformat_minor": 1
}
