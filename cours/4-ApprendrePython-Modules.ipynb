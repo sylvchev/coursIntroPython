{
 "cells": [
  {
   "cell_type": "code",
   "execution_count": null,
   "metadata": {},
   "outputs": [],
   "source": [
    "from __future__ import print_function"
   ]
  },
  {
   "cell_type": "markdown",
   "metadata": {},
   "source": [
    "## Modules"
   ]
  },
  {
   "cell_type": "markdown",
   "metadata": {},
   "source": [
    "Python offre un moyen de mettre des définitions dans un fichier et de les utiliser dans un script ou dans un session interactive de l’interpréteur. Un tel fichier s’appelle un module ; les définitions d’un module peuvent être importées dans un autre module ou dans le module principal (la collection de variables à laquelle vous avez accès dans un script exécuté depuis le plus haut niveau et dans le mode calculatrice).\n",
    "\n",
    "Un module est un fichier contenant des définitions et des instructions Python. Le nom de fichier est le nom du module auquel est ajouté le suffixe '`.py`'. Dans un module, le nom du module (comme chaîne de caractères) est disponible comme valeur de la variable globale **`__name__`**. Par exemple, employez votre éditeur de texte préféré pour créer un fichier appelé `'fibo.py'` dans le répertoire courant avec le contenu suivant :"
   ]
  },
  {
   "cell_type": "code",
   "execution_count": null,
   "metadata": {},
   "outputs": [],
   "source": [
    "# Module nombres de Fibonacci\n",
    "def fib(n):    # écrit la série de Fibonacci jusqu’à n\n",
    "    a, b = 0, 1\n",
    "    while b < n:\n",
    "        print (b, end=' ')\n",
    "        a, b = b, a+b\n",
    "        \n",
    "def fib2(n): # retourne la série de Fibonacci jusqu’à n\n",
    "    result = []\n",
    "    a, b = 0, 1\n",
    "    while b < n:\n",
    "        result.append(b)\n",
    "        a, b = b, a+b\n",
    "    return result"
   ]
  },
  {
   "cell_type": "markdown",
   "metadata": {},
   "source": [
    "On se déplace dans le répertoire courant, à adapter à votre environnement."
   ]
  },
  {
   "cell_type": "code",
   "execution_count": null,
   "metadata": {},
   "outputs": [],
   "source": [
    "cd src/notebook/coursIntroPython/"
   ]
  },
  {
   "cell_type": "markdown",
   "metadata": {},
   "source": [
    "Maintenant lancez l’interpréteur Python et importez ce module avec la commande suivante :"
   ]
  },
  {
   "cell_type": "code",
   "execution_count": null,
   "metadata": {},
   "outputs": [],
   "source": [
    "import fibo"
   ]
  },
  {
   "cell_type": "markdown",
   "metadata": {},
   "source": [
    "En utilisant le nom de module vous pouvez accéder aux fonctions :"
   ]
  },
  {
   "cell_type": "code",
   "execution_count": null,
   "metadata": {},
   "outputs": [],
   "source": [
    "fibo.fib(1000)"
   ]
  },
  {
   "cell_type": "code",
   "execution_count": null,
   "metadata": {},
   "outputs": [],
   "source": [
    "fibo.fib2(100)"
   ]
  },
  {
   "cell_type": "markdown",
   "metadata": {},
   "source": [
    "Pour connaître les noms qu'un module défini on peut utiliser la fonction `dir()`, qui renvoie la liste triée des chaînes de caractères."
   ]
  },
  {
   "cell_type": "code",
   "execution_count": null,
   "metadata": {},
   "outputs": [],
   "source": [
    "dir(fibo)"
   ]
  },
  {
   "cell_type": "markdown",
   "metadata": {},
   "source": [
    "## Modules de la bibliothèques standard"
   ]
  },
  {
   "cell_type": "markdown",
   "metadata": {},
   "source": [
    "Beaucoup de fonctionalités de Python sont disponibles dans des bibliothèques appelées *modules*. Pour améliorer la lisibilité et la portabilité du code, ces modules ne sont pas pré-chargés lorsque vous lancez Python : il faut les importer explicitement. Par exemple, il y a un module de *math* qui contient de nombreuses fonctions relatives au mathématiques. Si vous souhaitez utiliser la fonction cosinus, *cos*, vous pouvez importer le module *math* puis indiquer que vous appelez la fonction cos en utilisant la notation préfixée. Il en va de même pour les autres éléments de *math* comme par exemple la constante $\\pi$"
   ]
  },
  {
   "cell_type": "code",
   "execution_count": 1,
   "metadata": {},
   "outputs": [
    {
     "data": {
      "text/plain": [
       "1.0"
      ]
     },
     "execution_count": 1,
     "metadata": {},
     "output_type": "execute_result"
    }
   ],
   "source": [
    "import math\n",
    "\n",
    "math.cos(2 * math.pi)"
   ]
  },
  {
   "cell_type": "markdown",
   "metadata": {},
   "source": [
    "On peut renommer un module en utilise le mot clé `as`:"
   ]
  },
  {
   "cell_type": "code",
   "execution_count": 5,
   "metadata": {},
   "outputs": [
    {
     "data": {
      "text/plain": [
       "-1.0"
      ]
     },
     "execution_count": 5,
     "metadata": {},
     "output_type": "execute_result"
    }
   ],
   "source": [
    "import math as m\n",
    "\n",
    "m.cos(m.pi)"
   ]
  },
  {
   "cell_type": "markdown",
   "metadata": {},
   "source": [
    "Quand on a fait un import, il faut donc préfixer tous les objets du module (par exemple *math.cos*), ceci permet de lever certaines ambiguïtés lors de la lecture du code.\n",
    "\n",
    "Cependant, surtout lorsqu'on écrit du code à usage unique, cette notation est lourde. Il est possible d'importer tout le contenu d'un module dans l'espace de noms (*namespace*) courant.\n",
    "\n",
    "L'espace de noms est constitué par l'ensemble des variables et des fonctions atteignables depuis un endroit du code. Pour connaître le contenu de l'espace de noms courant dans iPython, on peut faire appel à la commande `%whos`"
   ]
  },
  {
   "cell_type": "code",
   "execution_count": 2,
   "metadata": {},
   "outputs": [
    {
     "name": "stdout",
     "output_type": "stream",
     "text": [
      "Variable   Type      Data/Info\n",
      "------------------------------\n",
      "math       module    <module 'math' from '/Use<...>th.cpython-39-darwin.so'>\n"
     ]
    }
   ],
   "source": [
    "%whos"
   ]
  },
  {
   "cell_type": "markdown",
   "metadata": {},
   "source": [
    "Revenons aux modules, pour importer tout le contenu d'un module dans l'espace de noms courant, on peut utiliser:"
   ]
  },
  {
   "cell_type": "code",
   "execution_count": 8,
   "metadata": {},
   "outputs": [
    {
     "data": {
      "text/plain": [
       "1.0"
      ]
     },
     "execution_count": 8,
     "metadata": {},
     "output_type": "execute_result"
    }
   ],
   "source": [
    "from math import *\n",
    "cos(2 * pi)"
   ]
  },
  {
   "cell_type": "markdown",
   "metadata": {},
   "source": [
    "Si on importe ainsi beaucoup de modules, ce qui est assez courant, l'espace de nom va vite être très rempli. Si deux fonctions ou variables portent le même nom, alors c'est la fonction du dernier module importé qui sera conservée. Voyons par exemple à quoi ressemble l'espace de noms courant maintenant que nous avons importé tout le module math:"
   ]
  },
  {
   "cell_type": "code",
   "execution_count": 9,
   "metadata": {},
   "outputs": [
    {
     "name": "stdout",
     "output_type": "stream",
     "text": [
      "Variable    Type                          Data/Info\n",
      "---------------------------------------------------\n",
      "acos        builtin_function_or_method    <built-in function acos>\n",
      "acosh       builtin_function_or_method    <built-in function acosh>\n",
      "asin        builtin_function_or_method    <built-in function asin>\n",
      "asinh       builtin_function_or_method    <built-in function asinh>\n",
      "atan        builtin_function_or_method    <built-in function atan>\n",
      "atan2       builtin_function_or_method    <built-in function atan2>\n",
      "atanh       builtin_function_or_method    <built-in function atanh>\n",
      "ceil        builtin_function_or_method    <built-in function ceil>\n",
      "comb        builtin_function_or_method    <built-in function comb>\n",
      "copysign    builtin_function_or_method    <built-in function copysign>\n",
      "cos         builtin_function_or_method    <built-in function cos>\n",
      "cosh        builtin_function_or_method    <built-in function cosh>\n",
      "degrees     builtin_function_or_method    <built-in function degrees>\n",
      "dist        builtin_function_or_method    <built-in function dist>\n",
      "e           float                         2.718281828459045\n",
      "erf         builtin_function_or_method    <built-in function erf>\n",
      "erfc        builtin_function_or_method    <built-in function erfc>\n",
      "exp         builtin_function_or_method    <built-in function exp>\n",
      "expm1       builtin_function_or_method    <built-in function expm1>\n",
      "fabs        builtin_function_or_method    <built-in function fabs>\n",
      "factorial   builtin_function_or_method    <built-in function factorial>\n",
      "floor       builtin_function_or_method    <built-in function floor>\n",
      "fmod        builtin_function_or_method    <built-in function fmod>\n",
      "frexp       builtin_function_or_method    <built-in function frexp>\n",
      "fsum        builtin_function_or_method    <built-in function fsum>\n",
      "gamma       builtin_function_or_method    <built-in function gamma>\n",
      "gcd         builtin_function_or_method    <built-in function gcd>\n",
      "hypot       builtin_function_or_method    <built-in function hypot>\n",
      "inf         float                         inf\n",
      "isclose     builtin_function_or_method    <built-in function isclose>\n",
      "isfinite    builtin_function_or_method    <built-in function isfinite>\n",
      "isinf       builtin_function_or_method    <built-in function isinf>\n",
      "isnan       builtin_function_or_method    <built-in function isnan>\n",
      "isqrt       builtin_function_or_method    <built-in function isqrt>\n",
      "lcm         builtin_function_or_method    <built-in function lcm>\n",
      "ldexp       builtin_function_or_method    <built-in function ldexp>\n",
      "lgamma      builtin_function_or_method    <built-in function lgamma>\n",
      "log         builtin_function_or_method    <built-in function log>\n",
      "log10       builtin_function_or_method    <built-in function log10>\n",
      "log1p       builtin_function_or_method    <built-in function log1p>\n",
      "log2        builtin_function_or_method    <built-in function log2>\n",
      "m           module                        <module 'math' from '/Use<...>th.cpython-39-darwin.so'>\n",
      "math        module                        <module 'math' from '/Use<...>th.cpython-39-darwin.so'>\n",
      "modf        builtin_function_or_method    <built-in function modf>\n",
      "nan         float                         nan\n",
      "nextafter   builtin_function_or_method    <built-in function nextafter>\n",
      "perm        builtin_function_or_method    <built-in function perm>\n",
      "pi          float                         3.141592653589793\n",
      "pow         builtin_function_or_method    <built-in function pow>\n",
      "prod        builtin_function_or_method    <built-in function prod>\n",
      "radians     builtin_function_or_method    <built-in function radians>\n",
      "remainder   builtin_function_or_method    <built-in function remainder>\n",
      "sin         builtin_function_or_method    <built-in function sin>\n",
      "sinh        builtin_function_or_method    <built-in function sinh>\n",
      "sqrt        builtin_function_or_method    <built-in function sqrt>\n",
      "tan         builtin_function_or_method    <built-in function tan>\n",
      "tanh        builtin_function_or_method    <built-in function tanh>\n",
      "tau         float                         6.283185307179586\n",
      "trunc       builtin_function_or_method    <built-in function trunc>\n",
      "ulp         builtin_function_or_method    <built-in function ulp>\n"
     ]
    }
   ],
   "source": [
    "%whos"
   ]
  },
  {
   "cell_type": "markdown",
   "metadata": {},
   "source": [
    "La bonne pratique concilie le meilleur des deux approches. Elle permet d'importer dans l'espace de noms uniquement les fonctions utiles."
   ]
  },
  {
   "cell_type": "code",
   "execution_count": 7,
   "metadata": {},
   "outputs": [
    {
     "data": {
      "text/plain": [
       "1.0"
      ]
     },
     "execution_count": 7,
     "metadata": {},
     "output_type": "execute_result"
    }
   ],
   "source": [
    "from math import cos, pi, sin\n",
    "cos(2 * pi) + sin(0)"
   ]
  },
  {
   "cell_type": "code",
   "execution_count": 4,
   "metadata": {},
   "outputs": [
    {
     "name": "stdout",
     "output_type": "stream",
     "text": [
      "Variable   Type                          Data/Info\n",
      "--------------------------------------------------\n",
      "cos        builtin_function_or_method    <built-in function cos>\n",
      "math       module                        <module 'math' from '/Use<...>th.cpython-39-darwin.so'>\n",
      "pi         float                         3.141592653589793\n"
     ]
    }
   ],
   "source": [
    "%whos"
   ]
  },
  {
   "cell_type": "markdown",
   "metadata": {},
   "source": [
    "*Ce notebook est une adaptation de la traduction française, dirigée par Olivier Berger et mise à jour par Henri Garreta, du tutoriel Python édité par Guido van Rossum et Fred L. Drake.*"
   ]
  }
 ],
 "metadata": {
  "anaconda-cloud": {},
  "kernelspec": {
   "display_name": "Python 3 (ipykernel)",
   "language": "python",
   "name": "python3"
  },
  "language_info": {
   "codemirror_mode": {
    "name": "ipython",
    "version": 3
   },
   "file_extension": ".py",
   "mimetype": "text/x-python",
   "name": "python",
   "nbconvert_exporter": "python",
   "pygments_lexer": "ipython3",
   "version": "3.9.5"
  }
 },
 "nbformat": 4,
 "nbformat_minor": 1
}
