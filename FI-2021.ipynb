{
 "cells": [
  {
   "cell_type": "markdown",
   "id": "e80cc0c3",
   "metadata": {},
   "source": [
    "# Question 1.1"
   ]
  },
  {
   "cell_type": "code",
   "execution_count": 7,
   "id": "f14f818e",
   "metadata": {},
   "outputs": [],
   "source": [
    "def impairs():\n",
    "    \"\"\"Retourne une liste des 100 premiers entiers positifs impairs\n",
    "    \n",
    "    Parametres\n",
    "    ----------\n",
    "    - aucun\n",
    "    \n",
    "    Retourne\n",
    "    --------\n",
    "    liste_impairs : list\n",
    "       Liste des 100 premiers entiers impairs\n",
    "     \"\"\"\n",
    "    liste_impairs = []\n",
    "    i = 1\n",
    "    while i < 200:\n",
    "        liste_impairs.append(i)\n",
    "        i += 2  # i = i + 2\n",
    "    \n",
    "    return liste_impairs\n",
    "    \n",
    "def test_impairs():\n",
    "    # liste_impairs = [1, 3, 5, 7, 9, 11, ..., 197, 199]\n",
    "    liste_impairs = impairs()\n",
    "    assert len(liste_impairs) == 100\n",
    "    assert liste_impairs[0] == 1\n",
    "    assert liste_impairs[-1] == 199\n",
    "    "
   ]
  },
  {
   "cell_type": "code",
   "execution_count": 8,
   "id": "65793f00",
   "metadata": {},
   "outputs": [],
   "source": [
    "test_impairs()"
   ]
  },
  {
   "cell_type": "code",
   "execution_count": 9,
   "id": "ec0763e4",
   "metadata": {},
   "outputs": [],
   "source": [
    "def impairs():\n",
    "    \"\"\"Retourne une liste des 100 premiers entiers positifs impairs\"\"\"\n",
    "    liste_impairs = []\n",
    "    n = 0\n",
    "    for i in range(0, 100, 1): #  en C => for (i = 0, i < 99, i++):\n",
    "        n = 2*i + 1\n",
    "        liste_impairs.append(n)\n",
    "    \n",
    "    return liste_impairs\n",
    "\n",
    "test_impairs()"
   ]
  },
  {
   "cell_type": "code",
   "execution_count": 11,
   "id": "5e4df65b",
   "metadata": {},
   "outputs": [],
   "source": [
    "def impairs():\n",
    "    \"\"\"Retourne une liste des 100 premiers entiers positifs impairs\"\"\"\n",
    "    liste_impairs = [0 for _ in range(100)]\n",
    "    i, j = 1, 0\n",
    "    while j < 100:\n",
    "        if i % 2 != 0:\n",
    "            liste_impairs[j] = i\n",
    "            j += 1\n",
    "            i += 1\n",
    "        else:\n",
    "            i += 1\n",
    "    \n",
    "    return liste_impairs\n",
    "\n",
    "test_impairs()"
   ]
  },
  {
   "cell_type": "code",
   "execution_count": null,
   "id": "c6e30be1",
   "metadata": {},
   "outputs": [],
   "source": []
  }
 ],
 "metadata": {
  "kernelspec": {
   "display_name": "Python 3 (ipykernel)",
   "language": "python",
   "name": "python3"
  },
  "language_info": {
   "codemirror_mode": {
    "name": "ipython",
    "version": 3
   },
   "file_extension": ".py",
   "mimetype": "text/x-python",
   "name": "python",
   "nbconvert_exporter": "python",
   "pygments_lexer": "ipython3",
   "version": "3.7.10"
  }
 },
 "nbformat": 4,
 "nbformat_minor": 5
}
