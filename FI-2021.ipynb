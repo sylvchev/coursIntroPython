{
 "cells": [
  {
   "cell_type": "markdown",
   "id": "eb62c36c",
   "metadata": {},
   "source": [
    "# TD FI - 2021"
   ]
  },
  {
   "cell_type": "markdown",
   "id": "940f4d7b",
   "metadata": {},
   "source": [
    "# Question 1.1"
   ]
  },
  {
   "cell_type": "code",
   "execution_count": 7,
   "id": "361fc19a",
   "metadata": {},
   "outputs": [],
   "source": [
    "def impairs():\n",
    "    \"\"\"Retourne une liste des 100 premiers entiers positifs impairs\n",
    "    \n",
    "    Parametres\n",
    "    ----------\n",
    "    - aucun\n",
    "    \n",
    "    Retourne\n",
    "    --------\n",
    "    liste_impairs : list\n",
    "       Liste des 100 premiers entiers impairs\n",
    "     \"\"\"\n",
    "    liste_impairs = []\n",
    "    i = 1\n",
    "    while i < 200:\n",
    "        liste_impairs.append(i)\n",
    "        i += 2  # i = i + 2\n",
    "    \n",
    "    return liste_impairs\n",
    "    \n",
    "def test_impairs():\n",
    "    # liste_impairs = [1, 3, 5, 7, 9, 11, ..., 197, 199]\n",
    "    liste_impairs = impairs()\n",
    "    assert len(liste_impairs) == 100\n",
    "    assert liste_impairs[0] == 1\n",
    "    assert liste_impairs[-1] == 199\n",
    "    "
   ]
  },
  {
   "cell_type": "code",
   "execution_count": 8,
   "id": "22de0d1e",
   "metadata": {},
   "outputs": [],
   "source": [
    "test_impairs()"
   ]
  },
  {
   "cell_type": "code",
   "execution_count": 9,
   "id": "018f2a1f",
   "metadata": {},
   "outputs": [],
   "source": [
    "def impairs():\n",
    "    \"\"\"Retourne une liste des 100 premiers entiers positifs impairs\"\"\"\n",
    "    liste_impairs = []\n",
    "    n = 0\n",
    "    for i in range(0, 100, 1): #  en C => for (i = 0, i < 99, i++):\n",
    "        n = 2*i + 1\n",
    "        liste_impairs.append(n)\n",
    "    \n",
    "    return liste_impairs\n",
    "\n",
    "test_impairs()"
   ]
  },
  {
   "cell_type": "code",
   "execution_count": 11,
   "id": "d16abdfe",
   "metadata": {},
   "outputs": [],
   "source": [
    "def impairs():\n",
    "    \"\"\"Retourne une liste des 100 premiers entiers positifs impairs\"\"\"\n",
    "    liste_impairs = [0 for _ in range(100)]\n",
    "    i, j = 1, 0\n",
    "    while j < 100:\n",
    "        if i % 2 != 0:\n",
    "            liste_impairs[j] = i\n",
    "            j += 1\n",
    "            i += 1\n",
    "        else:\n",
    "            i += 1\n",
    "    \n",
    "    return liste_impairs\n",
    "\n",
    "test_impairs()"
   ]
  },
  {
   "cell_type": "markdown",
   "id": "18d97979",
   "metadata": {},
   "source": [
    "# Question 1.2"
   ]
  },
  {
   "cell_type": "code",
   "execution_count": 5,
   "id": "09cccb10",
   "metadata": {},
   "outputs": [],
   "source": [
    "def fibo():\n",
    "    \"\"\"Retourne les 100 premiers termes de la suite de Fibonacci\"\"\"\n",
    "    u1, u2, u3 = 1, 1, 0\n",
    "    liste_100 = []\n",
    "    for i in range(0, 100, 1):\n",
    "        liste_100.append(u1)\n",
    "        u3 = u2 + u1\n",
    "        u1 = u2\n",
    "        u2 = u3\n",
    "    return liste_100\n",
    "        \n",
    "def test_fibo():\n",
    "    liste_fibo = fibo()\n",
    "    assert liste_fibo[0:7] == [1, 1, 2, 3, 5, 8, 13]\n",
    "    assert liste_fibo[-1] == liste_fibo[-2] + liste_fibo[-3]\n",
    "    assert len(liste_fibo) == 100    "
   ]
  },
  {
   "cell_type": "code",
   "execution_count": 7,
   "id": "4f13de06",
   "metadata": {},
   "outputs": [],
   "source": [
    "test_fibo()"
   ]
  },
  {
   "cell_type": "markdown",
   "id": "eaa1b625",
   "metadata": {},
   "source": [
    "# Question 1.3"
   ]
  },
  {
   "cell_type": "code",
   "execution_count": 10,
   "id": "c691a72b",
   "metadata": {},
   "outputs": [],
   "source": [
    "def fibo7():\n",
    "    \"\"\"Retourne les 100 premiers termes de la suite de Fibonacci multiple de 7\"\"\"\n",
    "    u1, u2, u3 = 1, 1, 0\n",
    "    liste_100 = []\n",
    "    while len(liste_100) < 100:\n",
    "        if u1 % 7 == 0:\n",
    "            liste_100.append(u1)\n",
    "        u3 = u2 + u1\n",
    "        u1 = u2\n",
    "        u2 = u3\n",
    "    return liste_100\n",
    "        \n",
    "def test_fibo7():\n",
    "    liste_fibo7 = fibo7()\n",
    "    assert len(liste_fibo7) == 100"
   ]
  },
  {
   "cell_type": "code",
   "execution_count": 11,
   "id": "3f1eb645",
   "metadata": {},
   "outputs": [],
   "source": [
    "test_fibo7()"
   ]
  },
  {
   "cell_type": "code",
   "execution_count": 12,
   "id": "ebdc66a7",
   "metadata": {},
   "outputs": [
    {
     "data": {
      "text/plain": [
       "69283081864224717136290077681328518273399124385204820718966040597691435587278383112277161967532530675374170857404743017623467220361778016172106855838975759985190398725"
      ]
     },
     "execution_count": 12,
     "metadata": {},
     "output_type": "execute_result"
    }
   ],
   "source": [
    "liste_fibo7 = fibo7()\n",
    "liste_fibo7[-1]"
   ]
  },
  {
   "cell_type": "code",
   "execution_count": null,
   "id": "ff05985a",
   "metadata": {},
   "outputs": [],
   "source": []
  },
  {
   "cell_type": "code",
   "execution_count": null,
   "id": "3d1c1473",
   "metadata": {},
   "outputs": [],
   "source": []
  }
 ],
 "metadata": {
  "kernelspec": {
   "display_name": "Python 3 (ipykernel)",
   "language": "python",
   "name": "python3"
  },
  "language_info": {
   "codemirror_mode": {
    "name": "ipython",
    "version": 3
   },
   "file_extension": ".py",
   "mimetype": "text/x-python",
   "name": "python",
   "nbconvert_exporter": "python",
   "pygments_lexer": "ipython3",
   "version": "3.7.10"
  }
 },
 "nbformat": 4,
 "nbformat_minor": 5
}
