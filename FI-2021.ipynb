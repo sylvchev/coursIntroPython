{
 "cells": [
  {
   "cell_type": "markdown",
   "id": "eb62c36c",
   "metadata": {},
   "source": [
    "# TD FI - 2021"
   ]
  },
  {
   "cell_type": "markdown",
   "id": "940f4d7b",
   "metadata": {},
   "source": [
    "# Question 1.1"
   ]
  },
  {
   "cell_type": "code",
   "execution_count": 1,
   "id": "361fc19a",
   "metadata": {},
   "outputs": [],
   "source": [
    "def impairs():\n",
    "    \"\"\"Retourne une liste des 100 premiers entiers positifs impairs\n",
    "    \n",
    "    Parametres\n",
    "    ----------\n",
    "    - aucun\n",
    "    \n",
    "    Retourne\n",
    "    --------\n",
    "    liste_impairs : list\n",
    "       Liste des 100 premiers entiers impairs\n",
    "     \"\"\"\n",
    "    liste_impairs = []\n",
    "    i = 1\n",
    "    while i < 200:\n",
    "        liste_impairs.append(i)\n",
    "        i += 2  # i = i + 2\n",
    "    \n",
    "    return liste_impairs\n",
    "    \n",
    "def test_impairs():\n",
    "    # liste_impairs = [1, 3, 5, 7, 9, 11, ..., 197, 199]\n",
    "    liste_impairs = impairs()\n",
    "    assert len(liste_impairs) == 100\n",
    "    assert liste_impairs[0] == 1\n",
    "    assert liste_impairs[-1] == 199\n",
    "    "
   ]
  },
  {
   "cell_type": "code",
   "execution_count": 2,
   "id": "22de0d1e",
   "metadata": {},
   "outputs": [],
   "source": [
    "test_impairs()"
   ]
  },
  {
   "cell_type": "code",
   "execution_count": 3,
   "id": "018f2a1f",
   "metadata": {},
   "outputs": [],
   "source": [
    "def impairs():\n",
    "    \"\"\"Retourne une liste des 100 premiers entiers positifs impairs\"\"\"\n",
    "    liste_impairs = []\n",
    "    n = 0\n",
    "    for i in range(0, 100, 1): #  en C => for (i = 0, i < 99, i++):\n",
    "        n = 2*i + 1\n",
    "        liste_impairs.append(n)\n",
    "    \n",
    "    return liste_impairs\n",
    "\n",
    "test_impairs()"
   ]
  },
  {
   "cell_type": "code",
   "execution_count": 4,
   "id": "d16abdfe",
   "metadata": {},
   "outputs": [],
   "source": [
    "def impairs():\n",
    "    \"\"\"Retourne une liste des 100 premiers entiers positifs impairs\"\"\"\n",
    "    liste_impairs = [0 for _ in range(100)]\n",
    "    i, j = 1, 0\n",
    "    while j < 100:\n",
    "        if i % 2 != 0:\n",
    "            liste_impairs[j] = i\n",
    "            j += 1\n",
    "            i += 1\n",
    "        else:\n",
    "            i += 1\n",
    "    \n",
    "    return liste_impairs\n",
    "\n",
    "test_impairs()"
   ]
  },
  {
   "cell_type": "markdown",
   "id": "18d97979",
   "metadata": {},
   "source": [
    "# Question 1.2"
   ]
  },
  {
   "cell_type": "code",
   "execution_count": 5,
   "id": "09cccb10",
   "metadata": {},
   "outputs": [],
   "source": [
    "def fibo():\n",
    "    \"\"\"Retourne les 100 premiers termes de la suite de Fibonacci\"\"\"\n",
    "    u1, u2, u3 = 1, 1, 0\n",
    "    liste_100 = []\n",
    "    for i in range(0, 100, 1):\n",
    "        liste_100.append(u1)\n",
    "        u3 = u2 + u1\n",
    "        u1 = u2\n",
    "        u2 = u3\n",
    "    return liste_100\n",
    "        \n",
    "def test_fibo():\n",
    "    liste_fibo = fibo()\n",
    "    assert liste_fibo[0:7] == [1, 1, 2, 3, 5, 8, 13]\n",
    "    assert liste_fibo[-1] == liste_fibo[-2] + liste_fibo[-3]\n",
    "    assert len(liste_fibo) == 100    "
   ]
  },
  {
   "cell_type": "code",
   "execution_count": 6,
   "id": "4f13de06",
   "metadata": {},
   "outputs": [],
   "source": [
    "test_fibo()"
   ]
  },
  {
   "cell_type": "markdown",
   "id": "eaa1b625",
   "metadata": {},
   "source": [
    "# Question 1.3"
   ]
  },
  {
   "cell_type": "code",
   "execution_count": 7,
   "id": "c691a72b",
   "metadata": {},
   "outputs": [],
   "source": [
    "def fibo7():\n",
    "    \"\"\"Retourne les 100 premiers termes de la suite de Fibonacci multiple de 7\"\"\"\n",
    "    u1, u2, u3 = 1, 1, 0\n",
    "    liste_100 = []\n",
    "    while len(liste_100) < 100:\n",
    "        if u1 % 7 == 0:\n",
    "            liste_100.append(u1)\n",
    "        u3 = u2 + u1\n",
    "        u1 = u2\n",
    "        u2 = u3\n",
    "    return liste_100\n",
    "        \n",
    "def test_fibo7():\n",
    "    liste_fibo7 = fibo7()\n",
    "    assert len(liste_fibo7) == 100"
   ]
  },
  {
   "cell_type": "code",
   "execution_count": 8,
   "id": "3f1eb645",
   "metadata": {},
   "outputs": [],
   "source": [
    "test_fibo7()"
   ]
  },
  {
   "cell_type": "code",
   "execution_count": 9,
   "id": "ebdc66a7",
   "metadata": {},
   "outputs": [
    {
     "data": {
      "text/plain": [
       "69283081864224717136290077681328518273399124385204820718966040597691435587278383112277161967532530675374170857404743017623467220361778016172106855838975759985190398725"
      ]
     },
     "execution_count": 9,
     "metadata": {},
     "output_type": "execute_result"
    }
   ],
   "source": [
    "liste_fibo7 = fibo7()\n",
    "liste_fibo7[-1]"
   ]
  },
  {
   "cell_type": "markdown",
   "id": "82798d59",
   "metadata": {},
   "source": [
    "# Question 2.1"
   ]
  },
  {
   "cell_type": "code",
   "execution_count": 10,
   "id": "3d1c1473",
   "metadata": {},
   "outputs": [],
   "source": [
    "def diviseurs(e):\n",
    "    \"\"\"Fonction qui renvoie dans un tableau les diviseurs d'un entier e\"\"\"\n",
    "    table_d = list()\n",
    "    i = 1\n",
    "    while i <= e:\n",
    "        if e % i == 0:\n",
    "            table_d.append(i)\n",
    "        i += 1  # equivalent à i = i + 1\n",
    "    return table_d\n",
    "\n",
    "def test_diviseurs():\n",
    "    assert diviseurs(10) == [1, 2, 5, 10]\n",
    "    assert diviseurs(7) == [1, 7]\n",
    "    assert diviseurs(1) == [1]"
   ]
  },
  {
   "cell_type": "code",
   "execution_count": 11,
   "id": "0451d86c",
   "metadata": {},
   "outputs": [],
   "source": [
    "test_diviseurs()"
   ]
  },
  {
   "cell_type": "code",
   "execution_count": 12,
   "id": "a3305a07",
   "metadata": {},
   "outputs": [],
   "source": [
    "def est_premier(e):\n",
    "    \"\"\"Teste si l'entier e est premier\"\"\"\n",
    "    div = diviseurs(e)\n",
    "    if len(div) == 2:  # equivalent à if len(diviseurs(e)) == 2:\n",
    "        return True\n",
    "    else:\n",
    "        return False\n",
    "\n",
    "def test_est_premier():\n",
    "    assert est_premier(7)\n",
    "    assert not est_premier(10)\n",
    "    assert not est_premier(1)"
   ]
  },
  {
   "cell_type": "code",
   "execution_count": 13,
   "id": "d64217de",
   "metadata": {},
   "outputs": [],
   "source": [
    "test_est_premier()"
   ]
  },
  {
   "cell_type": "code",
   "execution_count": 14,
   "id": "30571068",
   "metadata": {},
   "outputs": [],
   "source": [
    "def liste_premiers(n):\n",
    "    \"\"\"retourne la liste des nombres premiers strictement inférieurs à n\"\"\"\n",
    "    liste_p = []\n",
    "    i = 2\n",
    "    while i < n:\n",
    "        if est_premier(i):  # équivalent à if est_premier(i) == True:\n",
    "            liste_p.append(i)\n",
    "        i += 1\n",
    "    return liste_p\n",
    "\n",
    "def test_liste_premiers():\n",
    "    assert len(liste_premiers(20)) == 8\n",
    "    assert liste_premiers(20) == [2, 3, 5, 7, 11, 13, 17, 19]"
   ]
  },
  {
   "cell_type": "code",
   "execution_count": 15,
   "id": "74ef9907",
   "metadata": {},
   "outputs": [],
   "source": [
    "test_liste_premiers()"
   ]
  },
  {
   "cell_type": "code",
   "execution_count": 16,
   "id": "7da96308",
   "metadata": {},
   "outputs": [
    {
     "name": "stdout",
     "output_type": "stream",
     "text": [
      "[2, 3, 5, 7, 11, 13, 17, 19, 23, 29, 31, 37, 41, 43, 47, 53, 59, 61, 67, 71, 73, 79, 83, 89, 97, 101, 103, 107, 109, 113, 127, 131, 137, 139, 149, 151, 157, 163, 167, 173, 179, 181, 191, 193, 197, 199, 211, 223, 227, 229, 233, 239, 241, 251, 257, 263, 269, 271, 277, 281, 283, 293, 307, 311, 313, 317, 331, 337, 347, 349, 353, 359, 367, 373, 379, 383, 389, 397, 401, 409, 419, 421, 431, 433, 439, 443, 449, 457, 461, 463, 467, 479, 487, 491, 499, 503, 509, 521, 523, 541, 547, 557, 563, 569, 571, 577, 587, 593, 599, 601, 607, 613, 617, 619, 631, 641, 643, 647, 653, 659, 661, 673, 677, 683, 691, 701, 709, 719, 727, 733, 739, 743, 751, 757, 761, 769, 773, 787, 797, 809, 811, 821, 823, 827, 829, 839, 853, 857, 859, 863, 877, 881, 883, 887, 907, 911, 919, 929, 937, 941, 947, 953, 967, 971, 977, 983, 991, 997]\n"
     ]
    }
   ],
   "source": [
    "print(liste_premiers(1000))"
   ]
  },
  {
   "cell_type": "markdown",
   "id": "f1a16f1e",
   "metadata": {},
   "source": [
    "# Question 3"
   ]
  },
  {
   "cell_type": "code",
   "execution_count": 22,
   "id": "924a7b51",
   "metadata": {},
   "outputs": [],
   "source": [
    "def parfait(n):\n",
    "    \"\"\"Renvoie une liste contenant les n premiers nombres parfaits\"\"\"\n",
    "    liste_parfait = list()\n",
    "    y = 6\n",
    "    while len(liste_parfait) < n:\n",
    "        d = diviseurs(y)\n",
    "        somme = 0\n",
    "        for i in range(len(d)):\n",
    "            somme += d[i] # equivalent à somme = somme + d[i]\n",
    "        somme = somme - y\n",
    "        if somme == y:\n",
    "            liste_parfait.append(y)\n",
    "        y = y + 1\n",
    "    return liste_parfait\n",
    "\n",
    "def test_parfait():\n",
    "    assert parfait(1) == [6]\n",
    "    lp = parfait(3)\n",
    "    assert len(lp) == 3  # len(liste_parfait(3)) == 3 "
   ]
  },
  {
   "cell_type": "code",
   "execution_count": 23,
   "id": "780d36ff",
   "metadata": {},
   "outputs": [],
   "source": [
    "test_parfait()"
   ]
  },
  {
   "cell_type": "code",
   "execution_count": 24,
   "id": "c1dce472",
   "metadata": {},
   "outputs": [
    {
     "data": {
      "text/plain": [
       "[6, 28, 496, 8128]"
      ]
     },
     "execution_count": 24,
     "metadata": {},
     "output_type": "execute_result"
    }
   ],
   "source": [
    "parfait(4)"
   ]
  },
  {
   "cell_type": "code",
   "execution_count": 27,
   "id": "99e80be0",
   "metadata": {},
   "outputs": [
    {
     "name": "stdout",
     "output_type": "stream",
     "text": [
      "8.72 ms ± 243 µs per loop (mean ± std. dev. of 7 runs, 100 loops each)\n"
     ]
    }
   ],
   "source": [
    "%timeit parfait(3)"
   ]
  },
  {
   "cell_type": "code",
   "execution_count": 30,
   "id": "c5bc9328",
   "metadata": {},
   "outputs": [],
   "source": [
    "def diviseurs2(e):\n",
    "    \"\"\"Fonction qui renvoie dans un tableau les diviseurs d'un entier e\"\"\"\n",
    "    table_d = [1]\n",
    "    i = 2\n",
    "    while i <= e // 2:\n",
    "        if e % i == 0:\n",
    "            table_d.append(i)\n",
    "        i += 1  # equivalent à i = i + 1\n",
    "    table_d.append(e)\n",
    "    return table_d\n",
    "\n",
    "def test_diviseurs2():\n",
    "    assert diviseurs2(10) == [1, 2, 5, 10]\n",
    "    assert diviseurs2(7) == [1, 7]"
   ]
  },
  {
   "cell_type": "code",
   "execution_count": 31,
   "id": "574416c0",
   "metadata": {},
   "outputs": [],
   "source": [
    "test_diviseurs2()"
   ]
  },
  {
   "cell_type": "code",
   "execution_count": 32,
   "id": "fccb7533",
   "metadata": {},
   "outputs": [
    {
     "name": "stdout",
     "output_type": "stream",
     "text": [
      "5.09 ms ± 126 µs per loop (mean ± std. dev. of 7 runs, 100 loops each)\n"
     ]
    }
   ],
   "source": [
    "def parfait2(n):\n",
    "    \"\"\"Renvoie une liste contenant les n premiers nombres parfaits\"\"\"\n",
    "    liste_parfait = list()\n",
    "    y = 6\n",
    "    while len(liste_parfait) < n:\n",
    "        d = diviseurs2(y)\n",
    "        somme = 0\n",
    "        for i in range(len(d)):\n",
    "            somme += d[i] # equivalent à somme = somme + d[i]\n",
    "        somme = somme - y\n",
    "        if somme == y:\n",
    "            liste_parfait.append(y)\n",
    "        y = y + 1\n",
    "    return liste_parfait\n",
    "\n",
    "%timeit parfait2(3)"
   ]
  },
  {
   "cell_type": "code",
   "execution_count": null,
   "id": "0413543f",
   "metadata": {},
   "outputs": [],
   "source": []
  }
 ],
 "metadata": {
  "kernelspec": {
   "display_name": "Python 3",
   "language": "python",
   "name": "python3"
  },
  "language_info": {
   "codemirror_mode": {
    "name": "ipython",
    "version": 3
   },
   "file_extension": ".py",
   "mimetype": "text/x-python",
   "name": "python",
   "nbconvert_exporter": "python",
   "pygments_lexer": "ipython3",
   "version": "3.8.8"
  }
 },
 "nbformat": 4,
 "nbformat_minor": 5
}
