{
 "cells": [
  {
   "cell_type": "markdown",
   "metadata": {},
   "source": [
    "<img src=\"https://live.staticflickr.com/7726/17042914871_af2828b43c_c_d.jpg\" align=center width=\"400\">  \n",
    "\n",
    "\n",
    "# SAÉ 03 - TP4 - La boucle for\n",
    "\n",
    "Bienvenue sur le Jupyter pour préparer la **SAÉ Traitement numérique du signal du département RT de Vélizy**. Les notebooks sont une adaptation de ceux proposés par le département info et de leur profs d'info géniaux.\n",
    "\n",
    "Ce TP est consacré au boucle `for` en python, qu'on applique sur les `list` ou pour répéter des instructions lorsqu'on connait à l'avance le nombre de répétitions nécessaires."
   ]
  },
  {
   "cell_type": "code",
   "execution_count": 1,
   "metadata": {},
   "outputs": [
    {
     "data": {
      "text/html": [
       "<style>\n",
       ".travail {\n",
       "    background-size: 30px;\n",
       "    background-image: url('https://cdn.pixabay.com/photo/2018/01/04/16/53/building-3061124_960_720.png');\n",
       "    background-position: left top;\n",
       "    background-repeat: no-repeat;\n",
       "    padding-left: 40px;\n",
       "}\n",
       "\n",
       ".bilan {\n",
       "    background-size: 30px;\n",
       "    background-image: url('https://cdn.pixabay.com/photo/2016/10/18/19/40/anatomy-1751201_960_720.png');\n",
       "    background-position: left top;\n",
       "    background-repeat: no-repeat;\n",
       "    padding-left: 40px;\n",
       "}\n",
       "</style>"
      ],
      "text/plain": [
       "<IPython.core.display.HTML object>"
      ]
     },
     "execution_count": 1,
     "metadata": {},
     "output_type": "execute_result"
    }
   ],
   "source": [
    "# Exécutez cette cellule !\n",
    "from IPython.core.display import HTML\n",
    "\n",
    "styles = \"<style>\\n.travail {\\n    background-size: 30px;\\n    background-image: url('https://cdn.pixabay.com/photo/2018/01/04/16/53/building-3061124_960_720.png');\\n    background-position: left top;\\n    background-repeat: no-repeat;\\n    padding-left: 40px;\\n}\\n\\n.bilan {\\n    background-size: 30px;\\n    background-image: url('https://cdn.pixabay.com/photo/2016/10/18/19/40/anatomy-1751201_960_720.png');\\n    background-position: left top;\\n    background-repeat: no-repeat;\\n    padding-left: 40px;\\n}\\n</style>\"\n",
    "HTML(styles)"
   ]
  },
  {
   "cell_type": "markdown",
   "metadata": {},
   "source": [
    "## Étude d'une boucle\n",
    "\n",
    "Très souvent, on désire faire une action pour chaque élément d'une liste.  Par exemple, afficher les carrés des nombres de 1 à 10. Ceci peut être fait grâce  une boucle `for` :"
   ]
  },
  {
   "cell_type": "code",
   "execution_count": null,
   "metadata": {
    "scrolled": true
   },
   "outputs": [],
   "source": [
    "l = [1, 2, 3, 4, 5, 6, 7, 8, 9, 10]\n",
    "for x in l:\n",
    "    print(x**2)"
   ]
  },
  {
   "cell_type": "markdown",
   "metadata": {},
   "source": [
    "Cette boucle peut se lire \"pour chaque élément `x` dans la liste `l` : il faut afficher `x` au carré\".  \n",
    "\n",
    "Autre exemple :"
   ]
  },
  {
   "cell_type": "code",
   "execution_count": null,
   "metadata": {},
   "outputs": [],
   "source": [
    "animaux = [\"chat\", \"chien\", \"pingouin\", \"lézard\"]\n",
    "for animal in animaux:\n",
    "    print(f\"le {animal} donne la papate\")"
   ]
  },
  {
   "cell_type": "markdown",
   "metadata": {},
   "source": [
    "On utilise ici le formatage de chaîne de caractère dans le print (avec un f devant la `str`), que nous avons vu au TP 2.\n",
    "\n",
    "La syntaxe générale de la boucle `for`est :"
   ]
  },
  {
   "cell_type": "code",
   "execution_count": null,
   "metadata": {},
   "outputs": [],
   "source": [
    "# for nom_variable in nom_liste:\n",
    "#    bloc_d_instructions"
   ]
  },
  {
   "cell_type": "markdown",
   "metadata": {},
   "source": [
    "<div class=\"alert alert-block alert-info bilan\">\n",
    "    \n",
    "* le bloc d'instruction est **répété** autant de fois que ...\n",
    "* la variable de boucle ...\n",
    "* si on oublie les deux points, à la fin de la ligne du `for`, le python ... \n",
    "* le bloc d'instruction doit être ...\n",
    "\n",
    "</div>"
   ]
  },
  {
   "cell_type": "markdown",
   "metadata": {},
   "source": [
    "## Exercices d'application"
   ]
  },
  {
   "cell_type": "markdown",
   "metadata": {},
   "source": [
    "<div class=\"alert alert-block alert-danger travail\">\n",
    "        \n",
    "**Ex1.0 - Triple opposition** \n",
    "\n",
    "Pour les entiers pairs de 2 à 10 inclus, affichez à l'aide d'une boucle le triple du nombre puis son opposé. Pour les premiers entiers cela doit ressembler à :\n",
    "\n",
    "6 -2\n",
    "\n",
    "12 -4\n",
    "\n",
    "etc\n",
    "</div>"
   ]
  },
  {
   "cell_type": "code",
   "execution_count": null,
   "metadata": {},
   "outputs": [],
   "source": []
  },
  {
   "cell_type": "markdown",
   "metadata": {},
   "source": [
    "<div class=\"alert alert-block alert-danger travail\">\n",
    "    \n",
    "**Ex1.1 - Sommer sans se fatiguer**  \n",
    "\n",
    "Complétez le code ci-dessous dont le but est de calculer la somme des entiers de 1 à 10  \n",
    "S = 1 + 2 + 3 + .. + 10\n",
    "\n",
    "</div>"
   ]
  },
  {
   "cell_type": "code",
   "execution_count": null,
   "metadata": {},
   "outputs": [],
   "source": [
    "somme = 0\n",
    "for x in ...\n",
    "\n",
    "print(somme)  # en principe ça fait 55 !"
   ]
  },
  {
   "cell_type": "markdown",
   "metadata": {},
   "source": [
    "<div class=\"alert alert-block alert-danger travail\">\n",
    "    \n",
    "**Ex1.2 attention au BUG:**  \n",
    "\n",
    "**SAUVEGARDEZ** avant d'exécuter le code suivant car il va jamais s'arrêter... ça va bugger ! Vous risquez de perdre votre travail. Pour éviter de perdre votre travail, vous pouvez cliquer dans le menu sur \"Noyau\" > \"Interrompre\" pour arrêter une code qui ne se termine pas.\n",
    "\n",
    "Essayez de comprendre pourquoi il ne s'arrête jamais.. et pourquoi il faut **éviter** faire ce genre de choses.</div>"
   ]
  },
  {
   "cell_type": "code",
   "execution_count": null,
   "metadata": {},
   "outputs": [],
   "source": [
    "l = [0]\n",
    "for x in l:\n",
    "    l.append(x+1)\n",
    "    print(l)"
   ]
  },
  {
   "cell_type": "markdown",
   "metadata": {},
   "source": [
    "<div class=\"alert alert-block alert-danger travail\">\n",
    "    \n",
    "**Ex1.3 - Maximum for ever**  \n",
    "\n",
    "Reprendre le calcul du maximum d'une liste, mais cette fois-ci à l'aide d'une boucle `for` et il doit marcher quelle que soit la liste d'entiers non vide !!\n",
    "\n",
    "</div>"
   ]
  },
  {
   "cell_type": "code",
   "execution_count": null,
   "metadata": {},
   "outputs": [],
   "source": [
    "l = [3, 5, 2, 8, 6]\n",
    "maxi = l[0]  # initialisation du maximum avec la première valeur de la liste\n",
    "# À completer\n",
    "\n",
    "print(f\"le maximum vaut {maxi}\")"
   ]
  },
  {
   "cell_type": "markdown",
   "metadata": {},
   "source": [
    "<div class=\"alert alert-block alert-danger travail\">\n",
    "    \n",
    "**Ex1.4 - Donnez-nous un indice**   \n",
    "\n",
    "Même chose avec l'indice du maximum d'une liste (prendre le premier indice possible)\n",
    "    \n",
    "</div>"
   ]
  },
  {
   "cell_type": "code",
   "execution_count": null,
   "metadata": {},
   "outputs": [],
   "source": [
    "l = [3, 5, 2, 8, 6, 4, 8, 3, 4]\n",
    "imaxi = 0  # initialisation du maximum avec le premier indice de la liste\n",
    "# À completer\n",
    "\n",
    "print(f\"l'indice du maximum vaut {imaxi}\")"
   ]
  },
  {
   "cell_type": "markdown",
   "metadata": {},
   "source": [
    "## Enchaîner les boucles for"
   ]
  },
  {
   "cell_type": "markdown",
   "metadata": {},
   "source": [
    "Les instructions sont effectuées à la suite, c'est aussi le cas pour les boucles for.  \n",
    "Il faut qu'une boucle soit terminée pour passer à la suite du code.  \n",
    "\n",
    "<div class=\"alert alert-block alert-danger travail\">\n",
    "    \n",
    "**Ex1.5 - for puis for**  \n",
    "\n",
    "Essayez de prévoir ce qui va s'écrire avant d'exécuter le code.\n",
    "    \n",
    "</div>"
   ]
  },
  {
   "cell_type": "code",
   "execution_count": null,
   "metadata": {},
   "outputs": [],
   "source": [
    "for x in ['a', 'b', 'c']:\n",
    "    print(\"boucle 1\")\n",
    "    print(x)\n",
    "print(\"entre les deux boucles\")\n",
    "for y in ['x', 'y', 'z']:\n",
    "    print(\"boucle 2\")\n",
    "    print(y)"
   ]
  },
  {
   "cell_type": "markdown",
   "metadata": {},
   "source": [
    "## Boucles imbriquées\n",
    "\n",
    "Si on met une boucle dans le bloc d'instruction d'une autre boucle, c'est ce qu'on appelle des boucles imbriquées.  \n",
    "Dans ce cas la boucle \"extérieure\" va répéter la boucle \"intérieure\" en commençant à chaque fois depuis son début."
   ]
  },
  {
   "cell_type": "code",
   "execution_count": null,
   "metadata": {},
   "outputs": [],
   "source": [
    "for animal in ['koala', 'paresseux', 'maki', 'ouistiti']:\n",
    "    for adjectif in ['mignon', 'malin', 'malicieux']:\n",
    "        print(f\"{animal} {adjectif}\")"
   ]
  },
  {
   "cell_type": "markdown",
   "metadata": {},
   "source": [
    "<div class=\"alert alert-block alert-danger travail\">\n",
    "    \n",
    "**Ex1.6 - En son for intérieur**  \n",
    "Essayez de prévoir la différence avec la boucle suivante avant de l'exécuter:\n",
    "\n",
    "</div>"
   ]
  },
  {
   "cell_type": "code",
   "execution_count": null,
   "metadata": {},
   "outputs": [],
   "source": [
    "for adjectif in ['mignon', 'malin', 'malicieux']:\n",
    "    for animal in ['koala', 'paresseux', 'maki', 'ouistiti']:\n",
    "        print(f\"{animal} {adjectif}\")"
   ]
  },
  {
   "cell_type": "markdown",
   "metadata": {},
   "source": [
    "<div class=\"alert alert-block alert-danger travail\">\n",
    "    \n",
    "**Ex1.7 - Le b-a ba**   \n",
    "Utilisez des boucles imbriquées pour écrire  \n",
    "\n",
    "aa  \n",
    "ab  \n",
    "ba  \n",
    "bb  \n",
    "ca  \n",
    "cb  \n",
    "</div>"
   ]
  },
  {
   "cell_type": "code",
   "execution_count": null,
   "metadata": {},
   "outputs": [],
   "source": []
  },
  {
   "cell_type": "markdown",
   "metadata": {},
   "source": [
    "## Dans le bloc ou pas dans le bloc ?\n",
    "\n",
    "Le fait de mettre une instruction dans le bloc d'instruction du for ou de la mettre en dehors, ça change tout ! Comparez les deux codes suivants:"
   ]
  },
  {
   "cell_type": "code",
   "execution_count": null,
   "metadata": {},
   "outputs": [],
   "source": [
    "for animal in ['koala', 'paresseux', 'maki', 'ouistiti']:\n",
    "    print(f\"le {animal} fait la sieste\")\n",
    "    print(\"attendez cinq minutes !\")"
   ]
  },
  {
   "cell_type": "code",
   "execution_count": null,
   "metadata": {},
   "outputs": [],
   "source": [
    "for animal in ['koala', 'paresseux', 'maki', 'ouistiti']:\n",
    "    print(f\"le {animal} fait la sieste\")\n",
    "print(\"attendez cinq minutes !\")"
   ]
  },
  {
   "cell_type": "markdown",
   "metadata": {},
   "source": [
    "Dans la première version, il faut attendre 20 minutes en tout !..."
   ]
  },
  {
   "cell_type": "markdown",
   "metadata": {},
   "source": [
    "Boucles à la suite, imbriquées, quelles instructions dedans et dehors de la boucle ? Suivez les instructions pour chaque code. \n",
    "\n",
    "<div class=\"alert alert-block alert-danger travail\">\n",
    "    \n",
    "**Ex2.0 - Desserts à la suite**  \n",
    "1. créez une liste de vos desserts préférés\n",
    "2. affichez pour chacun de ces desserts une phrase qui dit que vous les adorez (avec une boucle !!)\n",
    "3. puis pour chacun de ces desserts une phrase qui dit que vous en voulez encore.\n",
    "</div>"
   ]
  },
  {
   "cell_type": "code",
   "execution_count": null,
   "metadata": {},
   "outputs": [],
   "source": [
    "desserts = [\"sorbet fraise\", \"oréo\", \"pomme\"]  # à compléter"
   ]
  },
  {
   "cell_type": "code",
   "execution_count": null,
   "metadata": {},
   "outputs": [],
   "source": []
  },
  {
   "cell_type": "markdown",
   "metadata": {},
   "source": [
    "<div class=\"alert alert-block alert-danger travail\">\n",
    "    \n",
    "**Ex2.1 - Desserts immédiats**  \n",
    "\n",
    "Cette fois-ci, écrivez les deux phrases pour chaque dessert, avant de passer au dessert suivant.\n",
    "</div>"
   ]
  },
  {
   "cell_type": "code",
   "execution_count": null,
   "metadata": {},
   "outputs": [],
   "source": []
  },
  {
   "cell_type": "markdown",
   "metadata": {},
   "source": [
    "<div class=\"alert alert-block alert-danger travail\">\n",
    "    \n",
    "**Ex2.2 - Salutations imbriquées**  \n",
    "\n",
    "Écrivez un code utilisant les listes l et m ci-dessous et qui affiche:\n",
    "\n",
    "`coucou a1 ciao`\n",
    "\n",
    "`coucou a2 ciao`\n",
    "\n",
    "`coucou a3 ciao`\n",
    "\n",
    "`coucou b1 ciao`\n",
    "\n",
    "`coucou b2 ciao`\n",
    "\n",
    "...\n",
    "\n",
    "`coucou c3 ciao`\n",
    "</div>\n"
   ]
  },
  {
   "cell_type": "code",
   "execution_count": null,
   "metadata": {},
   "outputs": [],
   "source": [
    "l = [\"a\", \"b\", \"c\"]\n",
    "m = [1, 2, 3]\n",
    "\n"
   ]
  },
  {
   "cell_type": "markdown",
   "metadata": {},
   "source": [
    "## La fonction `range`"
   ]
  },
  {
   "cell_type": "markdown",
   "metadata": {},
   "source": [
    "La fonction native `range` est un peu particulière mais très utile. Elle permet de renvoyer une sorte de liste des entiers de `0` à `n-1`, ce qui fait `n` entiers consécutifs en commençant à `0`."
   ]
  },
  {
   "cell_type": "code",
   "execution_count": null,
   "metadata": {},
   "outputs": [],
   "source": [
    "for i in range(10):\n",
    "    print(i)"
   ]
  },
  {
   "cell_type": "markdown",
   "metadata": {},
   "source": [
    "Tout se passe comme si on avait écrit \"à la main\" :"
   ]
  },
  {
   "cell_type": "code",
   "execution_count": null,
   "metadata": {},
   "outputs": [],
   "source": [
    "for i in [0, 1, 2, 3, 4, 5, 6, 7, 8, 9]:\n",
    "    print(i)"
   ]
  },
  {
   "cell_type": "markdown",
   "metadata": {},
   "source": [
    "Toutefois il faut se méfier car `range(10)` n'est pas exactement une liste c'est un itérateur ; cela dépasse le cadre du TP pour l'instant, mais il faut savoir qu'il peut être converti en liste."
   ]
  },
  {
   "cell_type": "code",
   "execution_count": null,
   "metadata": {},
   "outputs": [],
   "source": [
    "print(range(10))\n",
    "print(type(range(10)))"
   ]
  },
  {
   "cell_type": "markdown",
   "metadata": {},
   "source": [
    "Comme vous voyez le type de `range(10)` n'est pas `list` mais `range`. Ceci dit on a pas exactement besoin de savoir ce que c'est pour s'en servir. On peut le convertir en liste :"
   ]
  },
  {
   "cell_type": "code",
   "execution_count": null,
   "metadata": {},
   "outputs": [],
   "source": [
    "l = list(range(10))\n",
    "print(l)\n",
    "print(type(l))"
   ]
  },
  {
   "cell_type": "markdown",
   "metadata": {},
   "source": [
    "<div class=\"alert alert-block alert-info bilan\">\n",
    "\n",
    "`range(n)` où n est un entier est \"une sorte\" de liste des entiers qui vont de ...\n",
    "\n",
    "On peut :\n",
    "* l'utiliser dans une boucle pour compter de ...\n",
    "* le convertir en ...\n",
    "</div>"
   ]
  },
  {
   "cell_type": "markdown",
   "metadata": {},
   "source": [
    "<div class=\"alert alert-block alert-danger travail\">\n",
    "    \n",
    "**Ex3.0 - Range un peu !**   \n",
    "\n",
    "Créez une liste des entiers de 0 à 12 (12 exclu)\n",
    "</div>"
   ]
  },
  {
   "cell_type": "code",
   "execution_count": null,
   "metadata": {},
   "outputs": [],
   "source": []
  },
  {
   "cell_type": "markdown",
   "metadata": {},
   "source": [
    "<div class=\"alert alert-block alert-danger travail\">\n",
    "    \n",
    "**Ex3.1 - Range encore !**   \n",
    "créez une liste des entiers de 0 à 20 (20 inclus)\n",
    "\n",
    "</div>"
   ]
  },
  {
   "cell_type": "code",
   "execution_count": null,
   "metadata": {},
   "outputs": [],
   "source": []
  },
  {
   "cell_type": "markdown",
   "metadata": {},
   "source": [
    "<div class=\"alert alert-block alert-danger travail\">\n",
    "    \n",
    "**Ex3.2 - Salut tout le monde !**   \n",
    "\n",
    "Affichez, à l'aide d'une boucle for, les phrases \"hello0\", \"hello1\", ... pour les entiers de 0 à 5 (exclus)\n",
    "</div>"
   ]
  },
  {
   "cell_type": "code",
   "execution_count": null,
   "metadata": {},
   "outputs": [],
   "source": []
  },
  {
   "cell_type": "markdown",
   "metadata": {},
   "source": [
    "<div class=\"alert alert-block alert-danger travail\">\n",
    "    \n",
    "**Ex3.3 - Des paramètres à géométrie variable**   \n",
    "On peut appeler `range` avec 1 ou 2  ou 3 paramètres. Essayez vous-même de comprendre à quoi ils servent :\n",
    "    \n",
    "</div>"
   ]
  },
  {
   "cell_type": "code",
   "execution_count": null,
   "metadata": {},
   "outputs": [],
   "source": [
    "list(range(12))"
   ]
  },
  {
   "cell_type": "code",
   "execution_count": null,
   "metadata": {},
   "outputs": [],
   "source": [
    "list(range(2, 12))"
   ]
  },
  {
   "cell_type": "code",
   "execution_count": null,
   "metadata": {},
   "outputs": [],
   "source": [
    "list(range(12, 2))"
   ]
  },
  {
   "cell_type": "code",
   "execution_count": null,
   "metadata": {},
   "outputs": [],
   "source": [
    "list(range(2, 12, 1))"
   ]
  },
  {
   "cell_type": "code",
   "execution_count": null,
   "metadata": {},
   "outputs": [],
   "source": [
    "list(range(2, 12, 2))"
   ]
  },
  {
   "cell_type": "code",
   "execution_count": null,
   "metadata": {},
   "outputs": [],
   "source": [
    "list(range(1, 12, 5))"
   ]
  },
  {
   "cell_type": "code",
   "execution_count": null,
   "metadata": {},
   "outputs": [],
   "source": [
    "list(range(2, 12, 5))"
   ]
  },
  {
   "cell_type": "code",
   "execution_count": null,
   "metadata": {},
   "outputs": [],
   "source": [
    "list(range(1, 12, -1))"
   ]
  },
  {
   "cell_type": "code",
   "execution_count": null,
   "metadata": {},
   "outputs": [],
   "source": [
    "list(range(10, 2, -1))"
   ]
  },
  {
   "cell_type": "markdown",
   "metadata": {},
   "source": [
    "<div class=\"alert alert-block alert-info bilan\">\n",
    "    \n",
    "Quand on appelle `range(a, b)`\n",
    "* le premier paramètre, `a`, représente : ...\n",
    "* le second paramètre, `b`, représente :  ...\n",
    "\n",
    "</div>"
   ]
  },
  {
   "cell_type": "markdown",
   "metadata": {},
   "source": [
    "<div class=\"alert alert-block alert-info bilan\">\n",
    "    \n",
    "Quand on appelle `range(a, b, c)` \n",
    "* le premier paramètre, `a`, représente : ...\n",
    "* le deuxième paramètre, `b`, représente :  ...\n",
    "* le troisième paramètre, `c`, représente :  ...\n",
    "\n",
    "</div>"
   ]
  },
  {
   "cell_type": "markdown",
   "metadata": {},
   "source": [
    "## Applications sur le `range`\n",
    "\n",
    "<div class=\"alert alert-block alert-danger travail\">\n",
    "    \n",
    "**Ex3.4** \n",
    "Creéz la liste des entiers de 1 à 100 (100 inclus)\n",
    "</div>"
   ]
  },
  {
   "cell_type": "code",
   "execution_count": null,
   "metadata": {},
   "outputs": [],
   "source": []
  },
  {
   "cell_type": "markdown",
   "metadata": {},
   "source": [
    "<div class=\"alert alert-block alert-danger travail\">\n",
    "    \n",
    "**Ex3.5** \n",
    "Creéz la liste des entiers de 50 à 60 (60 exclus)\n",
    "</div>"
   ]
  },
  {
   "cell_type": "code",
   "execution_count": null,
   "metadata": {},
   "outputs": [],
   "source": []
  },
  {
   "cell_type": "markdown",
   "metadata": {},
   "source": [
    "<div class=\"alert alert-block alert-danger travail\">\n",
    "    \n",
    "**Ex3.6** \n",
    "Creéz la liste des entiers de -100 à 100 (100 inclus)\n",
    "</div>"
   ]
  },
  {
   "cell_type": "code",
   "execution_count": null,
   "metadata": {},
   "outputs": [],
   "source": []
  },
  {
   "cell_type": "markdown",
   "metadata": {},
   "source": [
    "<div class=\"alert alert-block alert-danger travail\">\n",
    "    \n",
    "**Ex3.7** \n",
    "Creéz la liste des entiers de 30 à 130 (inclus) de 2 en 2\n",
    "</div>"
   ]
  },
  {
   "cell_type": "code",
   "execution_count": null,
   "metadata": {},
   "outputs": [],
   "source": []
  },
  {
   "cell_type": "markdown",
   "metadata": {},
   "source": [
    "<div class=\"alert alert-block alert-danger travail\">\n",
    "    \n",
    "**Ex3.8** \n",
    "Creéz la liste des entiers de 100 à 50 (inclus) de -2 en -2\n",
    "</div>"
   ]
  },
  {
   "cell_type": "code",
   "execution_count": null,
   "metadata": {},
   "outputs": [],
   "source": []
  },
  {
   "cell_type": "markdown",
   "metadata": {},
   "source": [
    "<div class=\"alert alert-block alert-danger travail\">\n",
    "    \n",
    "**Ex3.9** \n",
    "Avec une boucle for faire des print des entiers de -100 à 100 (exclus) de 5 en 5\n",
    "</div>"
   ]
  },
  {
   "cell_type": "code",
   "execution_count": null,
   "metadata": {},
   "outputs": [],
   "source": []
  },
  {
   "cell_type": "markdown",
   "metadata": {},
   "source": [
    "<div class=\"alert alert-block alert-info bilan\">\n",
    "\n",
    "## __Récapitulatif__\n",
    "\n",
    "**Boucle for**\n",
    "* si on oublie les deux points, à la fin de la ligne du `for`, le python est ... \n",
    "* le bloc d'instruction dans la boucle doit être ...\n",
    "* les intructions qui ne sont pas indentées sont exécutées ...\n",
    "* si une boucle est à l'intérieur d'une autre, c'est une boucle ...\n",
    "* si deux boucles se suivent dans le code, le code de la deuxième boucle est exécuté quand ... \n",
    "\n",
    "**Fonction range**\n",
    "* `range(n)` permet de générer les entiers qui vont de ...\n",
    "* on peut convertir `range(n)` en une liste le convertir en écrivant ... \n",
    "* Quand on appelle `range(a, b, c)` \n",
    "    * le premier paramètre, `a`, représente : ...\n",
    "    * le deuxième paramètre, `b`, représente :  ...\n",
    "    * le troisième paramètre, `c`, représente :  ...\n",
    "\n",
    "</div>"
   ]
  },
  {
   "cell_type": "code",
   "execution_count": null,
   "metadata": {},
   "outputs": [],
   "source": []
  }
 ],
 "metadata": {
  "kernelspec": {
   "display_name": "Python 3 (ipykernel)",
   "language": "python",
   "name": "python3"
  },
  "language_info": {
   "codemirror_mode": {
    "name": "ipython",
    "version": 3
   },
   "file_extension": ".py",
   "mimetype": "text/x-python",
   "name": "python",
   "nbconvert_exporter": "python",
   "pygments_lexer": "ipython3",
   "version": "3.9.5"
  }
 },
 "nbformat": 4,
 "nbformat_minor": 2
}
