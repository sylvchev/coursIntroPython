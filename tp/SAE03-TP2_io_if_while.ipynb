{
 "cells": [
  {
   "cell_type": "markdown",
   "metadata": {},
   "source": [
    "<img src=\"https://cdn.pixabay.com/photo/2020/06/12/20/33/decision-5291766_960_720.jpg\" align=center width=\"400\">  \n",
    "\n",
    "# SAÉ 03 - TP1 - Entrées/sorties, structures conditionnelles, boucles\n",
    "\n",
    "Bienvenue sur le Jupyter pour préparer la **SAÉ Traitement numérique du signal du département RT de Vélizy**. Les notebooks sont une adaptation de ceux proposés par le département info et de leur profs d'info géniaux.\n",
    "\n",
    "Dans ce TP, nous allons aborder:\n",
    " * les entrées-sorties en python: jouer avec le chaînes de caractères et découvrir `input`\n",
    " * les structures conditionnelles: `if`, `else`, `elif` \n",
    " * un certain type de boucles: `while`"
   ]
  },
  {
   "cell_type": "code",
   "execution_count": 1,
   "metadata": {},
   "outputs": [
    {
     "data": {
      "text/html": [
       "<style>\n",
       ".travail {\n",
       "    background-size: 30px;\n",
       "    background-image: url('https://cdn.pixabay.com/photo/2018/01/04/16/53/building-3061124_960_720.png');\n",
       "    background-position: left top;\n",
       "    background-repeat: no-repeat;\n",
       "    padding-left: 40px;\n",
       "}\n",
       "\n",
       ".bilan {\n",
       "    background-size: 30px;\n",
       "    background-image: url('https://cdn.pixabay.com/photo/2016/10/18/19/40/anatomy-1751201_960_720.png');\n",
       "    background-position: left top;\n",
       "    background-repeat: no-repeat;\n",
       "    padding-left: 40px;\n",
       "}\n",
       "</style>"
      ],
      "text/plain": [
       "<IPython.core.display.HTML object>"
      ]
     },
     "execution_count": 1,
     "metadata": {},
     "output_type": "execute_result"
    }
   ],
   "source": [
    "# Exécutez cette cellule !\n",
    "from IPython.core.display import HTML\n",
    "\n",
    "styles = \"<style>\\n.travail {\\n    background-size: 30px;\\n    background-image: url('https://cdn.pixabay.com/photo/2018/01/04/16/53/building-3061124_960_720.png');\\n    background-position: left top;\\n    background-repeat: no-repeat;\\n    padding-left: 40px;\\n}\\n\\n.bilan {\\n    background-size: 30px;\\n    background-image: url('https://cdn.pixabay.com/photo/2016/10/18/19/40/anatomy-1751201_960_720.png');\\n    background-position: left top;\\n    background-repeat: no-repeat;\\n    padding-left: 40px;\\n}\\n</style>\"\n",
    "HTML(styles)"
   ]
  },
  {
   "cell_type": "markdown",
   "metadata": {},
   "source": [
    "Dans les séquences de travail, vous rencontrerez certains logos :\n",
    "\n",
    "<div class=\"travail alert alert-block alert-danger\"> indique un exercice à réaliser  </div>\n",
    "\n",
    "\n",
    "<div class=\"bilan alert alert-block alert-info\"> indique un point important qui nécessite une réponse de votre part et sera ensuite demandé lors du bilan de la séquence</div>"
   ]
  },
  {
   "cell_type": "markdown",
   "metadata": {},
   "source": [
    "## Entrées/sorties\n",
    "On appelle entrées/sorties l'ensemble des flux qui transitent vers l'écran (sorties) ou depuis le clavier (entrées). Ces entrées/sorties (**input/output** ou **io** en anglais) vous permettent de communiquer avec votre machine.  \n",
    "\n",
    "Dans la séquence précédente, nous avons manipulé `print` sans en expliquer le fonctionnement en détail.\n",
    "\n",
    "### `print`, la base\n",
    "Dans sa version de base, `print` permet d'afficher du texte, des valeurs de variables."
   ]
  },
  {
   "cell_type": "code",
   "execution_count": null,
   "metadata": {
    "scrolled": true
   },
   "outputs": [],
   "source": [
    "print(\"du texte\")\n",
    "a, b = \"variables\", \"des\"  # saviez-vous qu'on peut affecter simultanément plusieurs variables ?\n",
    "print(b, a)"
   ]
  },
  {
   "cell_type": "markdown",
   "metadata": {},
   "source": [
    "On peut aussi mêler texte et variables, de la façon suivante :"
   ]
  },
  {
   "cell_type": "code",
   "execution_count": null,
   "metadata": {
    "scrolled": true
   },
   "outputs": [],
   "source": [
    "h = 12\n",
    "m = 8\n",
    "print(\"il est exactement\", h, \"heures et\", m, \"minutes\")"
   ]
  },
  {
   "cell_type": "markdown",
   "metadata": {},
   "source": [
    "On peut aussi specifier le caractère de fin de ligne. Ce sera utile pour écrire sur la même ligne avec plusieurs print différents :"
   ]
  },
  {
   "cell_type": "code",
   "execution_count": null,
   "metadata": {},
   "outputs": [],
   "source": [
    "print(\"Cette ligne \", end=\"\")\n",
    "print(\"est écrite dans \", end=\"\")\n",
    "print(\"plusieurs prints\")"
   ]
  },
  {
   "cell_type": "markdown",
   "metadata": {},
   "source": [
    "<div class=\"alert alert-block alert-danger travail\">\n",
    "    \n",
    "**Ex1 - Restez zen**  \n",
    "Initialisez 3 variables `x`, `y` et `z` avec des valeurs quelconques et affichez quelque chose comme `coordonnées du point A(12, 17, -5)` en utilisant les valeurs des trois variables comme coordonnées.</div>"
   ]
  },
  {
   "cell_type": "code",
   "execution_count": null,
   "metadata": {
    "scrolled": true
   },
   "outputs": [],
   "source": []
  },
  {
   "cell_type": "markdown",
   "metadata": {
    "scrolled": true
   },
   "source": [
    "Après cet exercice, vous devez avoir compris que cette notation qui mélange texte et variables est extrêmement pénible et met parfois des espaces là où on n'en voudrait pas.\n",
    "Il nous faut un autre moyen de réaliser ce genre d'affichages...  \n",
    "\n",
    "### Formatage des chaînes de caractères\n",
    "Pour se simplifier la vie lors de l'affichage, on va utiliser le **formatage des chaînes de caractères**, qui permet de mêler facilement texte et variables, et de modifier le format des variables. "
   ]
  },
  {
   "cell_type": "markdown",
   "metadata": {},
   "source": [
    "<div class=\"alert alert-block alert-info bilan\">\n",
    "    \n",
    "**IMPORTANT** : Le **format**, c'est la façon de représenter une valeur.  \n",
    "    Par exemple, l'entier `12` peut être affiché sous forme de flottant `12.0` ou d'hexadécimal `0xC`.</div>"
   ]
  },
  {
   "cell_type": "markdown",
   "metadata": {},
   "source": [
    "Voici la façon de procéder pour mêler texte et variables :"
   ]
  },
  {
   "cell_type": "code",
   "execution_count": null,
   "metadata": {
    "scrolled": true
   },
   "outputs": [],
   "source": [
    "b = 2\n",
    "s = f\"il a mangé {b} beignets\"\n",
    "print(s)"
   ]
  },
  {
   "cell_type": "code",
   "execution_count": null,
   "metadata": {
    "scrolled": true
   },
   "outputs": [],
   "source": [
    "easy = \"simple\"\n",
    "read = \"lire\"\n",
    "write = \"écrire\"\n",
    "print(f\"{easy} à {read}, {easy} à {write}\")"
   ]
  },
  {
   "cell_type": "markdown",
   "metadata": {},
   "source": [
    "Le préfixe `f` en amont d'une chaîne indique qu'on va formater la chaîne.  \n",
    "On peut ajouter des instructions de formatage dans les accolades et à côté de l'identifiant de la variable utilisée :"
   ]
  },
  {
   "cell_type": "code",
   "execution_count": null,
   "metadata": {
    "scrolled": true
   },
   "outputs": [],
   "source": [
    "pr = 12\n",
    "print(f\"Ce truc coûte {pr}€ mais on va plutôt afficher {pr:.2f}€.\")"
   ]
  },
  {
   "cell_type": "code",
   "execution_count": null,
   "metadata": {
    "scrolled": true
   },
   "outputs": [],
   "source": [
    "print(f\"On peut aussi faire des calculs, comme {345 + 54 * 7}\")"
   ]
  },
  {
   "cell_type": "markdown",
   "metadata": {},
   "source": [
    "<div class=\"alert alert-block alert-info bilan\">\n",
    "    \n",
    "**IMPORTANT** : on peut **formater** (modifier le format) d'une chaîne de caractères en utilisant `f` en amont de la chaîne, associé à des `{}`.  \n",
    "Dans ces accolades, on précise la variable dont on souhaite afficher la valeur, et éventuellement le format qu'on souhaite lui appliquer.  \n",
    "Exemples: pour une variable `a`\n",
    " * `{a:f}` la convertit en **flottant**\n",
    " * `{a:s}` la convertit en **string**\n",
    " * `{a:x}` convertit en **hexadécimal**\n",
    " * `{a:3f}` indique, pour une variable numérique, qu'on souhaite afficher sa valeur sur au moins 3 caractères\n",
    " * `{a:.2f}` indique, pour une variable décimale, qu'on souhaite une précision de 2 chiffres après la virgule\n",
    " \n",
    "Pour davantage de détails voir [le mini-langage de spécification de format](https://docs.python.org/fr/3/library/string.html#format-specification-mini-language).</div>"
   ]
  },
  {
   "cell_type": "markdown",
   "metadata": {},
   "source": [
    "<div class=\"alert alert-block alert-danger travail\">\n",
    "\n",
    "**Ex2.0 - Mon beau tableau**  \n",
    "Dans le code suivant, réalisez un bel affichage de chaque nom et score sous forme de tableau, comme suit :\n",
    "```.\n",
    "jack         5\n",
    "jo\t      17\n",
    "averell\t  0```</div>"
   ]
  },
  {
   "cell_type": "code",
   "execution_count": null,
   "metadata": {
    "scrolled": false
   },
   "outputs": [],
   "source": [
    "nom1, score1 = \"jack\", 5\n",
    "nom2, score2 = \"jo\", 17\n",
    "nom3, score3 = \"averell\", 0"
   ]
  },
  {
   "cell_type": "markdown",
   "metadata": {},
   "source": [
    "<div class=\"alert alert-block alert-danger travail\">\n",
    "    \n",
    "**Ex2.1 - Mon très beau tableau**  \n",
    "Améliorez encore le formatage afin d'aligner les noms à droite (à vous de chercher dans la doc comment procéder) :```  .    \n",
    "    jack\t  5\n",
    "      jo\t 17\n",
    " averell\t  0```</div>"
   ]
  },
  {
   "cell_type": "code",
   "execution_count": null,
   "metadata": {
    "scrolled": true
   },
   "outputs": [],
   "source": []
  },
  {
   "cell_type": "markdown",
   "metadata": {},
   "source": [
    "<div class=\"alert alert-block alert-danger travail\">\n",
    "    \n",
    "**Ex2.2 - Dou-bi-dou-bi-dou-waaa**  \n",
    "Êtes-vous capable d'afficher 5 lignes contenant chacune :\n",
    " * la valeur de la variable `a` affichée 10 fois de suite\n",
    " * suivie de la valeur de la variable `b` ?  \n",
    "    \n",
    "**ATTENTION** : vous n'avez le droit d'écrire que __deux instructions__ au plus !</div>"
   ]
  },
  {
   "cell_type": "code",
   "execution_count": null,
   "metadata": {
    "scrolled": true
   },
   "outputs": [],
   "source": [
    "a = \"doubi\"\n",
    "b = \"douwaaaa \\n\""
   ]
  },
  {
   "cell_type": "markdown",
   "metadata": {},
   "source": [
    "<div class=\"alert alert-block alert-info bilan\">\n",
    "    \n",
    "**TRES IMPORTANT** : ce procédé de formatage des *strings* se nomme *f-strings*. Il a été introduit à partir de python 3.7. Si vous disposez d'une version antérieure, vous devez utiliser le procédé qui prévalait alors et qui différe sensiblement, voir [ici](https://docs.python.org/fr/3.5/tutorial/inputoutput.html#).</div>"
   ]
  },
  {
   "cell_type": "markdown",
   "metadata": {},
   "source": [
    "### `input`\n",
    "Lors de vos interactions avec votre programme, vous pouvez avoir besoin de demander à l'utilisateur de saisir une donnée ou une réponse. La fonction qui permet cela s'appelle `input` et s'utilise ainsi :"
   ]
  },
  {
   "cell_type": "code",
   "execution_count": null,
   "metadata": {
    "scrolled": true
   },
   "outputs": [],
   "source": [
    "a = input(\"tape un truc: \")\n",
    "print(f\"tu as tapé '{a}' !\")"
   ]
  },
  {
   "cell_type": "markdown",
   "metadata": {},
   "source": [
    "<div class=\"alert alert-block alert-danger travail\">\n",
    "    \n",
    "**Ex2.3 - Quel est son type?**  \n",
    "Pouvez-vous afficher le type de la variable `a`, et vérifier ce qu'il advient quand on saisit des données entières, décimales, texte... ?</div>"
   ]
  },
  {
   "cell_type": "code",
   "execution_count": null,
   "metadata": {
    "scrolled": true
   },
   "outputs": [],
   "source": []
  },
  {
   "cell_type": "markdown",
   "metadata": {},
   "source": [
    "<div class=\"alert alert-block alert-info bilan\">\n",
    "    \n",
    "**IMPORTANT** : Depuis la version 3 de python, `input` renvoie toujours la valeur qui a été saisie en la convertissant sous forme de ...\n",
    "</div>"
   ]
  },
  {
   "cell_type": "markdown",
   "metadata": {},
   "source": [
    "Par conséquent, lorsqu'on souhaite récupérer une valeur numérique, il est nécessaire de la convertir. Dans le TP précédent, nous avons vu le mécanisme de **conversion implicite**, lorsque qu'on additionne deux valeurs ayant des types différents, par exemple. Nous avons également vu quelque cas de **conversion explicite** avec les changements de base.\n",
    "\n",
    "Voici comment procéder pour déclencher une **conversion explicite**, déclenchée délibérément :"
   ]
  },
  {
   "cell_type": "code",
   "execution_count": null,
   "metadata": {
    "scrolled": true
   },
   "outputs": [],
   "source": [
    "n = int(input(\"Un nombre ?\"))\n",
    "print(f\"votre nombre est {n} et le suivant est {n+1}\") # si n est converti en entier, l'addition doit fonctionner"
   ]
  },
  {
   "cell_type": "markdown",
   "metadata": {},
   "source": [
    "<div class=\"alert alert-block alert-info bilan\">\n",
    "    \n",
    "**IMPORTANT** : Pour déclencher une **conversion explicite**, il suffit d'appeler le **constructeur** de la classe concernée: `int`, `float`, `str`...  \n",
    "Exemple : pour convertir l'entier 12 en flottant, on écrit ...\n",
    "\n",
    "</div>"
   ]
  },
  {
   "cell_type": "markdown",
   "metadata": {},
   "source": [
    "<div class=\"alert alert-block alert-danger travail\">\n",
    "    \n",
    "**Ex2.4 - Moyenne**  \n",
    "Ecrivez un programme qui demande trois nombres et affiche leur moyenne.  \n",
    "La saisie de `1`, `1` et `2` produit bien `1.33333` ?</div>"
   ]
  },
  {
   "cell_type": "code",
   "execution_count": null,
   "metadata": {
    "scrolled": true
   },
   "outputs": [],
   "source": [
    "a = int(input(\"\"))\n",
    "b = int(input(\"\"))\n",
    "c = int(input(\"\"))"
   ]
  },
  {
   "cell_type": "markdown",
   "metadata": {},
   "source": [
    "## Structures conditionnelles\n",
    "Jusqu'ici, nous avons écrit des petits programmes qui se déroulent systématiquement de la même manière. L'introduction d'un mécanisme **conditionnel** est indispensable en programmation, afin de pouvoir faire bifurquer son programme en fonction des situations rencontrées.  \n",
    "En python, la structure conditionnelle utilise les mots-clés `if`, `elif` et `else`.\n",
    "### Condition unique\n",
    "On peut utiliser `if` seul afin de n'exécuter un morceau de programme que si la condition exigée est respectée. "
   ]
  },
  {
   "cell_type": "code",
   "execution_count": null,
   "metadata": {
    "scrolled": true
   },
   "outputs": [],
   "source": [
    "n = int(input(\"Tapez un positif:\"))\n",
    "if n < 0:\n",
    "    print(\"C'est malin...\")  # cette instruction est dans le if\n",
    "    print(\"J'avais dit un positif!\")  # celle-ci également\n",
    "print(f\"Votre nombre est {n}.\")  # mais pas celle-ci"
   ]
  },
  {
   "cell_type": "markdown",
   "metadata": {},
   "source": [
    "<div class=\"alert alert-block alert-info bilan\">\n",
    "    \n",
    "**IMPORTANT** : L'instruction `if` permet d'exprimer une condition.  \n",
    "Elle doit être suivie d'une expression et de `:`.  \n",
    "Les instructions qui seront exécutées si la condition est vraie doivent **absolument** être **indentées**.</div>"
   ]
  },
  {
   "cell_type": "markdown",
   "metadata": {},
   "source": [
    "On peut utiliser les **expressions** et les **opérateurs logiques** vus dans la séquence précédente:"
   ]
  },
  {
   "cell_type": "code",
   "execution_count": null,
   "metadata": {
    "scrolled": true
   },
   "outputs": [],
   "source": [
    "n = int(input(\"Tapez un chiffre, cette fois:\"))\n",
    "if not(0 <= n <= 9):  # si n n'est pas un chiffre\n",
    "    print(\"C'est malin...\")\n",
    "    print(\"J'avais dit un chiffre !\")\n",
    "print(f\"Vous avez tapé {n}.\")"
   ]
  },
  {
   "cell_type": "markdown",
   "metadata": {},
   "source": [
    "<div class=\"alert alert-block alert-danger travail\">\n",
    "    \n",
    "**Ex3.0** Ecrivez un programme qui demande deux entiers `a` et `b`, et affiche `youpi` si la somme des deux variables est positive.  \n",
    "**Ex3.1** Modifiez votre programme afin qu'il affiche `youpi` si `a` est pair et si `b` vaut 5 ou 12.</div>\n"
   ]
  },
  {
   "cell_type": "code",
   "execution_count": null,
   "metadata": {
    "scrolled": true
   },
   "outputs": [],
   "source": []
  },
  {
   "cell_type": "markdown",
   "metadata": {},
   "source": [
    "### Conditions multiples et alternatives\n",
    "Lorsqu'on souhaite tester plusieurs alternatives dans une structure conditionnelle, on utilise `elif` qui est un raccourci de *else if* et qui signifie *sinon si*. Ce *sinon* signifie bien que la condition concernée ne sera testée que si la précédente s'est avérée fausse.  \n",
    "**On peut utiliser autant de `elif` qu'on le souhaite**."
   ]
  },
  {
   "cell_type": "code",
   "execution_count": null,
   "metadata": {
    "scrolled": true
   },
   "outputs": [],
   "source": [
    "rep = input(\"On fait une petite pause? (o/n)\")\n",
    "if rep == \"o\":\n",
    "    print(\"Ca me semble raisonnable.\")\n",
    "elif rep == \"n\":  # ne sera exécuté que si la condition précédente était fausse\n",
    "    print(\"J'en vois qui tournent de l'oeil.\")\n",
    "print(\"Allez, pause !\")"
   ]
  },
  {
   "cell_type": "markdown",
   "metadata": {},
   "source": [
    "Dans une structure conditionnelle, on peut aussi prévoir un cas si toutes les conditions précédentes ont échouées: `else` (*sinon*).  \n",
    "**On ne peut utiliser qu'un seul `else`, obligatoirement en dernière position de la structure conditionnelle.**"
   ]
  },
  {
   "cell_type": "code",
   "execution_count": null,
   "metadata": {
    "scrolled": true
   },
   "outputs": [],
   "source": [
    "rep = input(\"On fait une petite pause? (o/n)\")\n",
    "if rep == \"o\":\n",
    "    print(\"Ca me semble raisonnable.\")\n",
    "elif rep == \"n\": \n",
    "    print(\"J'en vois qui tournent de l'oeil.\")\n",
    "else:  # sera exécuté si toutes les conditions précédentes sont fausses\n",
    "    print(\"Réponse inintelligible, la fatigue certainement.\")\n",
    "print(\"Allez, pause. Un café sans sucre pour moi.\")"
   ]
  },
  {
   "cell_type": "markdown",
   "metadata": {},
   "source": [
    "<div class=\"alert alert-block alert-info bilan\">\n",
    "    \n",
    "**IMPORTANT** : L'instruction `if` est éventuellement suivie :\n",
    " * d'un ou plusieurs `elif`\n",
    " * d'un unique `else`, en dernière position  \n",
    "    \n",
    "qui permettent d'exprimer plusieurs alternatives.</div>"
   ]
  },
  {
   "cell_type": "markdown",
   "metadata": {},
   "source": [
    "<div class=\"alert alert-block alert-danger travail\">\n",
    "    \n",
    "**Ex3.2** Ecrivez un programme qui demande 2 entiers `a` et `b`, et affiche le plus grand d'entre eux.  \n",
    "    \n",
    "</div>"
   ]
  },
  {
   "cell_type": "code",
   "execution_count": null,
   "metadata": {
    "scrolled": true
   },
   "outputs": [],
   "source": []
  },
  {
   "cell_type": "markdown",
   "metadata": {
    "scrolled": true
   },
   "source": [
    "<div class=\"alert alert-block alert-danger travail\">\n",
    "    \n",
    "**Ex3.3** Modifiez votre programme afin qu'il demande 3 entiers `a`, `b`, et `c`, et affiche le plus grand d'entre eux.  \n",
    "Vous allez écrire ce programme de deux façons différentes, qui ont chacune leur avantage:\n",
    " * avec des conditions utilisant les opérateurs logiques et exprimant directement *a est le plus grand des trois*, *b est le plus grand des trois*...\n",
    " * en n'utilisant que des inégalités simples (`a>b`) et en imbriquant plusieurs `if` les uns dans les autres\n",
    "</div>"
   ]
  },
  {
   "cell_type": "code",
   "execution_count": null,
   "metadata": {},
   "outputs": [],
   "source": []
  },
  {
   "cell_type": "code",
   "execution_count": null,
   "metadata": {},
   "outputs": [],
   "source": []
  },
  {
   "cell_type": "markdown",
   "metadata": {},
   "source": [
    "<div class=\"alert alert-block alert-danger travail\">\n",
    "    \n",
    "**Ex3.4** Ecrivez un programme qui demande 3 entiers et affiche `positifs ou nuls` s'ils sont tous positifs ou nuls, `négatifs` s'ils sont tous négatifs, et `signes différents` sinon.  \n",
    "Vous allez écrire ce programme de deux façons différentes:\n",
    " * comme vous le souhaitez\n",
    " * en utilisant deux compteurs `posnul` et `neg` que vous augmenterez à chaque fois que vous détectez une variable positive ou nulle, ou une variable négative. Ensuite, vous n'aurez plus qu'à lire ces compteurs pour savoir quoi afficher.</div>"
   ]
  },
  {
   "cell_type": "code",
   "execution_count": null,
   "metadata": {
    "scrolled": true
   },
   "outputs": [],
   "source": []
  },
  {
   "cell_type": "code",
   "execution_count": null,
   "metadata": {
    "scrolled": true
   },
   "outputs": [],
   "source": []
  },
  {
   "cell_type": "markdown",
   "metadata": {},
   "source": [
    "## Boucles `while`\n",
    "Dans un programme, on a souvent besoin d'effectuer des actions de façon répétée. On a alors intérêt à utiliser des boucles.  \n",
    "\n",
    "*Si par exemple on vous demande d'afficher tous les entiers de 1 à 1000, vous êtes bien embêtés sans les boucles.*  \n",
    "\n",
    "Python propose deux types de boucles, `while` et `for`, qui sont très différentes. Nous expliquons ici le `while`...  \n",
    "*While* signifie *tant que*. Concrètement, `while` va être associé à une condition (comme `if`) et se répéter tant que cette condition est vraie."
   ]
  },
  {
   "cell_type": "code",
   "execution_count": null,
   "metadata": {
    "scrolled": false
   },
   "outputs": [],
   "source": [
    "rep = input(\"Besoin de faire une pause? (o/n)\")\n",
    "while rep != \"n\":\n",
    "    rep = input(\"Sérieusement, vraiment besoin d'une pause? (o/n)\")\n",
    "print(\"Allez on bosse.\")"
   ]
  },
  {
   "cell_type": "markdown",
   "metadata": {},
   "source": [
    "<div class=\"alert alert-block alert-danger travail\">\n",
    "    \n",
    "**Premières boucles**  \n",
    "**Ex4.0** Ecrivez un programme qui affiche tous les entiers de 1 à 100.  \n",
    "**Ex4.1** Modifiez le afin de n'afficher que les multiples de 3 compris entre 1 et 100.  \n",
    "**Ex4.2** Modifiez le afin de n'afficher que les nombres qui sont multiples de 3 ET de 5, compris entre 1 et 100.\n",
    "\n",
    "</div>\n"
   ]
  },
  {
   "cell_type": "code",
   "execution_count": null,
   "metadata": {
    "scrolled": true
   },
   "outputs": [],
   "source": []
  },
  {
   "cell_type": "code",
   "execution_count": null,
   "metadata": {},
   "outputs": [],
   "source": []
  },
  {
   "cell_type": "code",
   "execution_count": null,
   "metadata": {},
   "outputs": [],
   "source": []
  },
  {
   "cell_type": "markdown",
   "metadata": {},
   "source": [
    "<img width=\"250\" align=\"right\" src=\"https://cdn.pixabay.com/photo/2015/10/04/11/33/matryoshka-970943_960_720.jpg\"> <div class=\"alert alert-block alert-info bilan\">\n",
    "    \n",
    "**IMPORTANT** :Dans l'exercice précédent, vous avez normalement eu l'idée d'intégrer un `if` dans votre `while`.  \n",
    "Comme dans un jeu de poupées russes, on peut **imbriquer** autant de boucles et de structures conditionnelles que nécessaire...sans oublier d'indenter correctement son programme :\n",
    "```\n",
    "    while ... :\n",
    "        if ... :\n",
    "            while ... :```"
   ]
  },
  {
   "cell_type": "markdown",
   "metadata": {},
   "source": [
    "<div class=\"alert alert-block alert-danger travail\">\n",
    "    \n",
    "**Ex4.3 Niveau \"Novice\"**  \n",
    "    Ecrivez un programme qui demande un entier positif `n`, vérifie qu'il est bien positif et affiche ensuite `n` étoiles : `*****...`\n",
    "</div>\n"
   ]
  },
  {
   "cell_type": "code",
   "execution_count": null,
   "metadata": {
    "scrolled": true
   },
   "outputs": [],
   "source": []
  },
  {
   "cell_type": "markdown",
   "metadata": {},
   "source": [
    "<div class=\"alert alert-block alert-danger travail\">\n",
    "    \n",
    "**Ex4.4 Niveau \"Débutant\"**  \n",
    "    On souhaite maintenant demander `n` et `m`, et afficher un rectangle de largeur `n` et de hauteur `m`. Exemple avec `n=4` et `m=3` :\n",
    "```\n",
    "    ****\n",
    "    ****\n",
    "    ****\n",
    "```\n",
    "    \n",
    "Vous pouvez (devez!) réutiliser votre programme précédent pour vous aider: vous disposez déjà d'un programme affichant `n` étoiles!\n",
    "</div>\n"
   ]
  },
  {
   "cell_type": "code",
   "execution_count": null,
   "metadata": {
    "scrolled": true
   },
   "outputs": [],
   "source": []
  },
  {
   "cell_type": "markdown",
   "metadata": {},
   "source": [
    "<div class=\"alert alert-block alert-danger travail\">\n",
    "    \n",
    "**Ex4.6 Niveau \"Confirmé\"**  \n",
    "    Plus dur, on souhaite maintenant afficher une pyramide (en fait un triangle rectangle) de `n` étoiles, de la façon suivante :\n",
    "```\n",
    "    *\n",
    "    **\n",
    "    ***\n",
    "    ....\n",
    "```\n",
    "</div>\n"
   ]
  },
  {
   "cell_type": "code",
   "execution_count": null,
   "metadata": {
    "scrolled": true
   },
   "outputs": [],
   "source": []
  },
  {
   "cell_type": "markdown",
   "metadata": {},
   "source": [
    "<img src=\"https://cdn.pixabay.com/photo/2017/03/12/02/20/triangle-2136288_960_720.jpg\" align=\"right\" width=\"150\">\n",
    "<div class=\"alert alert-block alert-danger travail\">\n",
    "    \n",
    "**Ex4.6 Niveau \"émrifnoC\"**  \n",
    "    Facile de modifier ce programme afin que la pyramide ait la pointe en bas, non?\n",
    "</div>\n"
   ]
  },
  {
   "cell_type": "code",
   "execution_count": null,
   "metadata": {},
   "outputs": [],
   "source": []
  },
  {
   "cell_type": "markdown",
   "metadata": {},
   "source": [
    "<div class=\"alert alert-block alert-danger travail\">\n",
    "    \n",
    "**Ex4.7 Niveau \"Expert de la boucle\"**  \n",
    "    Plus compliqué, vous devez maintenant faire que votre triangle rectangle pointe en bas ait son angle droit en bas à droite :\n",
    "```\n",
    "        *\n",
    "       **\n",
    "      ***\n",
    "     ....\n",
    "```\n",
    "</div>\n"
   ]
  },
  {
   "cell_type": "code",
   "execution_count": null,
   "metadata": {
    "scrolled": true
   },
   "outputs": [],
   "source": []
  },
  {
   "cell_type": "markdown",
   "metadata": {},
   "source": [
    "**Bravo ! Vous avez fini ce TP !**"
   ]
  },
  {
   "cell_type": "markdown",
   "metadata": {},
   "source": [
    "<img src=\"https://cdn.pixabay.com/photo/2021/04/13/09/50/road-6175186_960_720.jpg\" width=350>\n",
    "\n",
    "<div class=\"alert alert-block alert-info bilan\">\n",
    "\n",
    "## __BILAN__\n",
    "Il existe un mécanisme d'**affectation multiple** qui permet...    \n",
    "Le **format**, c'est la façon de...  \n",
    "Selon votre version de python, vous utiliserez les **f-strings** ou **str.format**:...  \n",
    "`input` permet de ... et renvoie...  \n",
    "On peut déclencher une **conversion explicite** à l'aide des... de la façon suivante:...  \n",
    "Les règles à respecter dans les **structures conditionnelles** sont...  \n",
    "Le `while` permet de...  \n",
    "**Imbriquer une boucle** consiste à...\n",
    "</div>"
   ]
  },
  {
   "cell_type": "code",
   "execution_count": null,
   "metadata": {
    "scrolled": true
   },
   "outputs": [],
   "source": []
  }
 ],
 "metadata": {
  "kernelspec": {
   "display_name": "Python 3 (ipykernel)",
   "language": "python",
   "name": "python3"
  },
  "language_info": {
   "codemirror_mode": {
    "name": "ipython",
    "version": 3
   },
   "file_extension": ".py",
   "mimetype": "text/x-python",
   "name": "python",
   "nbconvert_exporter": "python",
   "pygments_lexer": "ipython3",
   "version": "3.9.5"
  },
  "toc": {
   "base_numbering": 1,
   "nav_menu": {},
   "number_sections": true,
   "sideBar": true,
   "skip_h1_title": false,
   "title_cell": "Table of Contents",
   "title_sidebar": "Contents",
   "toc_cell": false,
   "toc_position": {},
   "toc_section_display": true,
   "toc_window_display": false
  }
 },
 "nbformat": 4,
 "nbformat_minor": 2
}
