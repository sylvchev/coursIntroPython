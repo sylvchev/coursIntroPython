{
 "cells": [
  {
   "cell_type": "markdown",
   "metadata": {
    "slideshow": {
     "slide_type": "slide"
    }
   },
   "source": [
    "<img src=\"https://live.staticflickr.com/91/231524220_027b7431a1_b_d.jpg\" width=70% >\n",
    "\n",
    "# SAÉ 03 - TP3 - Listes, indices, valeurs\n",
    "\n",
    "Bienvenue sur le Jupyter pour préparer la **SAÉ Traitement numérique du signal du département RT de Vélizy**. Les notebooks sont une adaptation de ceux proposés par le département info et de leur profs d'info géniaux.\n",
    "\n",
    "Ce TP est consacré au type `list` de python. "
   ]
  },
  {
   "cell_type": "code",
   "execution_count": 1,
   "metadata": {},
   "outputs": [
    {
     "data": {
      "text/html": [
       "<style>\n",
       ".travail {\n",
       "    background-size: 30px;\n",
       "    background-image: url('https://cdn.pixabay.com/photo/2018/01/04/16/53/building-3061124_960_720.png');\n",
       "    background-position: left top;\n",
       "    background-repeat: no-repeat;\n",
       "    padding-left: 40px;\n",
       "}\n",
       "\n",
       ".bilan {\n",
       "    background-size: 30px;\n",
       "    background-image: url('https://cdn.pixabay.com/photo/2016/10/18/19/40/anatomy-1751201_960_720.png');\n",
       "    background-position: left top;\n",
       "    background-repeat: no-repeat;\n",
       "    padding-left: 40px;\n",
       "}\n",
       "</style>"
      ],
      "text/plain": [
       "<IPython.core.display.HTML object>"
      ]
     },
     "execution_count": 1,
     "metadata": {},
     "output_type": "execute_result"
    }
   ],
   "source": [
    "# Exécutez cette cellule !\n",
    "from IPython.core.display import HTML\n",
    "\n",
    "styles = \"<style>\\n.travail {\\n    background-size: 30px;\\n    background-image: url('https://cdn.pixabay.com/photo/2018/01/04/16/53/building-3061124_960_720.png');\\n    background-position: left top;\\n    background-repeat: no-repeat;\\n    padding-left: 40px;\\n}\\n\\n.bilan {\\n    background-size: 30px;\\n    background-image: url('https://cdn.pixabay.com/photo/2016/10/18/19/40/anatomy-1751201_960_720.png');\\n    background-position: left top;\\n    background-repeat: no-repeat;\\n    padding-left: 40px;\\n}\\n</style>\"\n",
    "HTML(styles)"
   ]
  },
  {
   "cell_type": "markdown",
   "metadata": {
    "slideshow": {
     "slide_type": "fragment"
    }
   },
   "source": [
    "## Définition\n",
    "Une liste, ou `list`, est un **type conteneur**, c'est à dire qui contient des valeurs ou des objets. \n",
    "\n",
    "Un objet du type `list` se définit comme une liste d'éléments séparés par des virgules, entre crochets."
   ]
  },
  {
   "cell_type": "code",
   "execution_count": null,
   "metadata": {},
   "outputs": [],
   "source": [
    "maliste1 = [3, 5.2, \"hop\"]\n",
    "type(maliste1)"
   ]
  },
  {
   "cell_type": "markdown",
   "metadata": {},
   "source": [
    "Une liste peut contenir tous types d'objets comme dans l'exemple ci-dessus où `maliste1` contient trois éléments, dans l'ordre un `int` (entier), un `float` (flottant) et un `str` (chaîne de caractères)."
   ]
  },
  {
   "cell_type": "markdown",
   "metadata": {},
   "source": [
    "<div class=\"alert alert-block alert-danger travail\">\n",
    "    \n",
    "**Ex1.0 - une petite liste**  \n",
    "Créez un objet nommé `maliste2` contenant 5 éléménts du type `int`, `int`, `float`, `bool`, `str`, puis affichez-le\n",
    "</div>"
   ]
  },
  {
   "cell_type": "code",
   "execution_count": null,
   "metadata": {},
   "outputs": [],
   "source": []
  },
  {
   "cell_type": "markdown",
   "metadata": {},
   "source": [
    "## Longueur d'une liste"
   ]
  },
  {
   "cell_type": "markdown",
   "metadata": {},
   "source": [
    "<div class=\"alert alert-block alert-info bilan\">\n",
    "    \n",
    "La **longueur d'une liste** est ... \n",
    "\n",
    "La plus petite longueur possible pour une liste est... \n",
    "</div>"
   ]
  },
  {
   "cell_type": "markdown",
   "metadata": {},
   "source": [
    "La longueur d'une liste est obtenue par la fonction native `len`. \n",
    "\n",
    "<div class=\"alert alert-block alert-info bilan\">\n",
    "\n",
    "`len` est l'abbréviation du mot anglais ...\n",
    "\n",
    "</div>"
   ]
  },
  {
   "cell_type": "markdown",
   "metadata": {},
   "source": [
    "<div class=\"alert alert-block alert-danger travail\">\n",
    "\n",
    "**Ex1.1 - Range ta chambre**   \n",
    "Affichez la longueur de `maliste1` (définie au tout début de cette feuille).  \n",
    "Puis faites le nécessaire pour que `maliste1` devienne une liste vide, et affichez à nouveau sa longueur.\n",
    "</div>"
   ]
  },
  {
   "cell_type": "code",
   "execution_count": null,
   "metadata": {},
   "outputs": [],
   "source": []
  },
  {
   "cell_type": "markdown",
   "metadata": {},
   "source": [
    "<div class=\"alert alert-block alert-danger travail\">\n",
    "    \n",
    "**Ex1.2 - None**   \n",
    "Et si vous affectez `None` à votre liste...est-ce toujours une liste?\n",
    "</div>"
   ]
  },
  {
   "cell_type": "code",
   "execution_count": null,
   "metadata": {},
   "outputs": [],
   "source": [
    "maliste1 = None\n"
   ]
  },
  {
   "cell_type": "markdown",
   "metadata": {},
   "source": [
    "- le mot-clé `[]` décrit un objet un peu particulier: **la liste vide**.  \n",
    "- le mot-clé `None` décrit un objet un peu particulier: **l'objet vide**.  \n",
    "   "
   ]
  },
  {
   "cell_type": "markdown",
   "metadata": {},
   "source": [
    "<div class=\"alert alert-block alert-danger travail\">\n",
    "    \n",
    "**Ex1.3 - Les objets particuliers**   \n",
    "Question importante: on se demande quelle est la différence entre `None`, `[]`, `False` et `0`.  \n",
    "En particulier, on se demande comment réagit `if` quand on lui soumet ces objets: est-ce que `if []` est vrai ou faux?    \n",
    "*(Nous avons vu précédement que, pour les entiers, un entier nul était considéré comme Faux, et tous les autres entiers comme Vrai.)*  \n",
    "Procédez à quelques tests à l'aide du `if` afin de déterminer comment `None`, `[]` et `False` sont évalués. Affichez également leur type.  \n",
    "Enfin, expliquez quelle est la différence, pour une liste `l`, entre écrire `l=[]` et `l=None`.\n",
    "</div>"
   ]
  },
  {
   "cell_type": "code",
   "execution_count": null,
   "metadata": {},
   "outputs": [],
   "source": []
  },
  {
   "cell_type": "markdown",
   "metadata": {},
   "source": [
    "<div class=\"alert alert-block alert-info bilan\"> \n",
    "\n",
    "`False` est de type.....et est évidemment évalué comme étant Faux. \n",
    "\n",
    "`None` est de type.....et est évalué comme étant.....   \n",
    "\n",
    "`[]` est de type.....et est évalué comme étant...  \n",
    "\n",
    "</div>"
   ]
  },
  {
   "cell_type": "markdown",
   "metadata": {},
   "source": [
    "<div class=\"alert alert-block alert-danger travail\">\n",
    "    \n",
    "**Ex1.4 - liste au choix**   \n",
    "\n",
    "Créez une liste de longueur 8 et affichez sa longueur.\n",
    "    \n",
    "</div>"
   ]
  },
  {
   "cell_type": "code",
   "execution_count": null,
   "metadata": {},
   "outputs": [],
   "source": []
  },
  {
   "cell_type": "markdown",
   "metadata": {},
   "source": [
    "<img src=\"https://cdn.pixabay.com/photo/2018/09/26/09/13/pixel-cells-3704046_960_720.png\" width=15% align=left> \n",
    "\n",
    "## Indices dans une liste"
   ]
  },
  {
   "cell_type": "markdown",
   "metadata": {},
   "source": [
    "Les éléments d'une liste sont toujours numérotés dans l'ordre de la liste **en débutant à 0** et de 1 en 1. On appelle ce numéro **indice**. Les indices sont donc, dans l'ordre **0, 1, 2, 3, 4, 5, 6, 7...**"
   ]
  },
  {
   "cell_type": "code",
   "execution_count": null,
   "metadata": {},
   "outputs": [],
   "source": [
    "maliste1 = [3, 5.2, \"hop\"]"
   ]
  },
  {
   "cell_type": "markdown",
   "metadata": {},
   "source": [
    "L'élément 3 est à l'indice 0, l'élément 5.2 à l'indice 1 et l'élément 'hop' à l'indice 2.\n",
    "On peut afficher la valeur d'un élément à un indice avec la syntaxe  \n",
    "\n",
    "`nomdelaliste[indice]`"
   ]
  },
  {
   "cell_type": "code",
   "execution_count": null,
   "metadata": {},
   "outputs": [],
   "source": [
    "maliste1[0]"
   ]
  },
  {
   "cell_type": "code",
   "execution_count": null,
   "metadata": {},
   "outputs": [],
   "source": [
    "maliste1[1]"
   ]
  },
  {
   "cell_type": "code",
   "execution_count": null,
   "metadata": {},
   "outputs": [],
   "source": [
    "maliste1[2]"
   ]
  },
  {
   "cell_type": "code",
   "execution_count": null,
   "metadata": {},
   "outputs": [],
   "source": [
    "maliste1[3]"
   ]
  },
  {
   "cell_type": "markdown",
   "metadata": {},
   "source": [
    "<div class=\"alert alert-block alert-info bilan\">\n",
    "\n",
    "Le message d'erreur `list index out of range` signifie que ...\n",
    "</div>"
   ]
  },
  {
   "cell_type": "markdown",
   "metadata": {},
   "source": [
    "<div class=\"alert alert-block alert-info bilan\">\n",
    "\n",
    "Le plus grand indice possible pour une liste qui aurait une longueur 200 est ...\n",
    "</div>\n",
    "\n",
    "(Vérifiez le nombre possible d'indice)"
   ]
  },
  {
   "cell_type": "markdown",
   "metadata": {},
   "source": [
    "Les listes sont **mutables** ce qui signifie qu'on peut les transformer et changer leurs valeurs sans modifier l'identité (obtenue avec `id`) de la liste concernée. On peut changer un élément qui se trouve dans une liste simplement par une affectation."
   ]
  },
  {
   "cell_type": "code",
   "execution_count": null,
   "metadata": {},
   "outputs": [],
   "source": [
    "maliste1[1] = \"nouveau\""
   ]
  },
  {
   "cell_type": "code",
   "execution_count": null,
   "metadata": {},
   "outputs": [],
   "source": [
    "maliste1"
   ]
  },
  {
   "cell_type": "markdown",
   "metadata": {},
   "source": [
    "<div class=\"alert alert-block alert-danger travail\">\n",
    "    \n",
    "**Exo 1.5** Créez une liste `maliste3` contenant les entiers de 3 à 8. Puis, un par un changez ces éléments en 10, 11, ..., 15\n",
    "</div>"
   ]
  },
  {
   "cell_type": "code",
   "execution_count": null,
   "metadata": {},
   "outputs": [],
   "source": []
  },
  {
   "cell_type": "markdown",
   "metadata": {},
   "source": [
    "## Ajouter des éléments dans une liste"
   ]
  },
  {
   "cell_type": "markdown",
   "metadata": {},
   "source": [
    "On peut ajouter de nouveaux éléments à la suite d'une liste déjà existante\n",
    "C'est une *modification* de la liste (les listes sont mutables).  \n",
    "La syntaxe pour ajouter à la fin est  \n",
    "`nomdelaliste.append(element_a_ajouter)`"
   ]
  },
  {
   "cell_type": "code",
   "execution_count": null,
   "metadata": {},
   "outputs": [],
   "source": [
    "maliste1"
   ]
  },
  {
   "cell_type": "code",
   "execution_count": null,
   "metadata": {},
   "outputs": [],
   "source": [
    "maliste1.append('42')"
   ]
  },
  {
   "cell_type": "markdown",
   "metadata": {},
   "source": [
    "notez que rien ne s'affiche car la méthode `append` ne **renvoie** rien"
   ]
  },
  {
   "cell_type": "code",
   "execution_count": null,
   "metadata": {},
   "outputs": [],
   "source": [
    "maliste1"
   ]
  },
  {
   "cell_type": "code",
   "execution_count": null,
   "metadata": {},
   "outputs": [],
   "source": [
    "print(len(maliste1))"
   ]
  },
  {
   "cell_type": "markdown",
   "metadata": {},
   "source": [
    "<div class=\"alert alert-block alert-info bilan\">\n",
    "    \n",
    "**append**  signifie en anglais ...\n",
    "</div>"
   ]
  },
  {
   "cell_type": "markdown",
   "metadata": {},
   "source": [
    "## Exercices\n",
    "\n",
    "### La fonction native max"
   ]
  },
  {
   "cell_type": "markdown",
   "metadata": {},
   "source": [
    "<div class=\"alert alert-block alert-danger travail\">\n",
    "    \n",
    "**Exo 2.0** \n",
    "Il existe une fonction native `max` qui donne la valeur maximum dans une liste (quand cela a un sens). Écrivez un exemple ci-dessous.\n",
    "</div>"
   ]
  },
  {
   "cell_type": "code",
   "execution_count": null,
   "metadata": {},
   "outputs": [],
   "source": []
  },
  {
   "cell_type": "markdown",
   "metadata": {},
   "source": [
    "## Pour les exercices suivants le but est de ne PAS utiliser la fonction max ! \n",
    "\n",
    "Écris \"compris\" si tu as compris :"
   ]
  },
  {
   "cell_type": "markdown",
   "metadata": {},
   "source": [
    "### Maximum dans une liste de longueur 2 (exemple)\n",
    "Le code ci-dessous fonctionne quels que soient les deux nombres dans une liste de longueur 2. Vérifiez en changeant les valeurs !"
   ]
  },
  {
   "cell_type": "code",
   "execution_count": null,
   "metadata": {},
   "outputs": [],
   "source": [
    "l = [7,4]\n",
    "if l[0] > l[1]:\n",
    "    maxi = l[0]\n",
    "else:\n",
    "    maxi = l[1]\n",
    "print(\"Le maximum de la liste vaut\", maxi)"
   ]
  },
  {
   "cell_type": "markdown",
   "metadata": {},
   "source": [
    "### Maximum dans une liste de longueur 4\n",
    "\n",
    "<div class=\"alert alert-block alert-danger travail\">\n",
    "    \n",
    "**Exo 2.1** \n",
    "Complétez le code ci-dessous. A la fin de son exécution, la variable maxi doit contenir le maximum des 4 valeurs de la liste.\n",
    "\n",
    "**Attention :** le code doit fonctionner quelles que soient les valeurs de la liste !\n",
    "</div>"
   ]
  },
  {
   "cell_type": "code",
   "execution_count": null,
   "metadata": {},
   "outputs": [],
   "source": [
    "l = [7, 4, 12, 5]\n",
    "# à compléter\n",
    "\n",
    "\n",
    "print(\"Le maximum de la liste vaut\", maxi)"
   ]
  },
  {
   "cell_type": "markdown",
   "metadata": {},
   "source": [
    "### Indice du maximum dans une liste de longueur 4"
   ]
  },
  {
   "cell_type": "markdown",
   "metadata": {},
   "source": [
    "<div class=\"alert alert-block alert-danger travail\">\n",
    "    \n",
    "**Exo 2.2** \n",
    "Cette fois-ci, votre code doit donner l'indice qui correspond au maximum de la liste de longueur 4. Si le maximum apparaît plusieurs fois, vous devez afficher à la fin le  premier indice possible.\n",
    "Par exemple, si la liste est `[3, 5, 1, 5]` l'indice affiché devra être 1.\n",
    "Bien entendu, le code doit fonctionner si l'on change les 4 valeurs !\n",
    "</div>"
   ]
  },
  {
   "cell_type": "code",
   "execution_count": null,
   "metadata": {},
   "outputs": [],
   "source": [
    "l = [3, 5, 1, 5]\n",
    "# à compléter\n",
    "\n",
    "\n",
    "print(\"L'indice du maximum de la liste est\", imaxi)"
   ]
  },
  {
   "cell_type": "markdown",
   "metadata": {},
   "source": [
    "### Échanger deux valeurs dans une liste\n",
    "\n",
    "<div class=\"alert alert-block alert-danger travail\">\n",
    "    \n",
    "**Exo 2.3** \n",
    "Cette liste est mal rangée. Echangez les valeurs se trouvant aux indices 3 et 6. Idéalement, cet échange devrait fonctionner même si on changeait la liste. Vous aurez peut-être besoin d'une variable \"tampon\" (ou de stockage temporaire) ?\n",
    "</div>\n"
   ]
  },
  {
   "cell_type": "code",
   "execution_count": null,
   "metadata": {},
   "outputs": [],
   "source": [
    "l = [10, 11, 12, 16, 14, 15, 13, 17]\n",
    "# a completer"
   ]
  },
  {
   "cell_type": "markdown",
   "metadata": {},
   "source": [
    "### Tri d'une liste de longueur 3\n",
    "\n",
    "<div class=\"alert alert-block alert-danger travail\">\n",
    "    \n",
    "**Exo 2.4** \n",
    "On donne une liste de longueur 3. On demande de la trier en ordre croissant en procédant par comparaisons et échanges successifs. En exemple, on vous montre comment le faire pour une liste de longueur 2 (mais il vous faut compléter les échanges)\n",
    "</div>"
   ]
  },
  {
   "cell_type": "code",
   "execution_count": null,
   "metadata": {},
   "outputs": [],
   "source": [
    "# exemple\n",
    "l = [12, 5]\n",
    "if l[1] < l[0]:\n",
    "    # complétez : échangez les éléments d'indices 0 et 1\n",
    "    \n",
    "print(l)"
   ]
  },
  {
   "cell_type": "code",
   "execution_count": null,
   "metadata": {},
   "outputs": [],
   "source": [
    "# idem pour listes de longueur 3\n",
    "l = [12, 15, 2]\n",
    "\n",
    "# À compléter...\n",
    "\n",
    "print(l)"
   ]
  },
  {
   "cell_type": "markdown",
   "metadata": {},
   "source": [
    "Pour vérifier, essayez différents ordres possibles pour la liste de départ. "
   ]
  },
  {
   "cell_type": "code",
   "execution_count": null,
   "metadata": {},
   "outputs": [],
   "source": [
    "# comme vous êtes en forme vous pouvez peut-être tenter le cas longueur 4 ?\n",
    "l = [12, 2, 6, 4]\n",
    "\n",
    "print(l)"
   ]
  },
  {
   "cell_type": "markdown",
   "metadata": {},
   "source": [
    "Il est possible de trier une liste avec la fonction `sort`, qu'on utilise de la même façon que `append` en l'écrivant après le nom de la liste et un point, ce qui donne `maliste.sort()` pour trier sa liste. Une fois a liste triée, il n'est pas possible de la remettre dans son ordre d'origine (on ne peut pas la \"dé-trier\")."
   ]
  },
  {
   "cell_type": "markdown",
   "metadata": {},
   "source": [
    "<div class=\"alert alert-block alert-info bilan\">\n",
    "\n",
    "## __Récapitulatif__\n",
    "False est de type... et est évidemment évalué comme étant Faux.\n",
    "\n",
    "None est de type... et est évalué comme étant ...\n",
    "\n",
    "\n",
    "Une liste peut contenir ...\n",
    "\n",
    "La longueur d'une liste indique ... et on peut l'obtenir avec ...\n",
    "\n",
    "Une liste vide à une longueur de ... et s'écrit ...\n",
    "\n",
    "Les indices d'une liste de taille `n` vont de ... à ...\n",
    "\n",
    "On peut ajouter un élément à la fin d'une liste en écrivant ...\n",
    "\n",
    "La valeur maximum d'une liste est retournée par la fonction ...\n",
    "\n",
    "On peut trier une liste avec la fonction ...\n",
    "\n",
    "\n",
    "</div>"
   ]
  },
  {
   "cell_type": "code",
   "execution_count": null,
   "metadata": {},
   "outputs": [],
   "source": []
  }
 ],
 "metadata": {
  "kernelspec": {
   "display_name": "Python 3 (ipykernel)",
   "language": "python",
   "name": "python3"
  },
  "language_info": {
   "codemirror_mode": {
    "name": "ipython",
    "version": 3
   },
   "file_extension": ".py",
   "mimetype": "text/x-python",
   "name": "python",
   "nbconvert_exporter": "python",
   "pygments_lexer": "ipython3",
   "version": "3.9.5"
  }
 },
 "nbformat": 4,
 "nbformat_minor": 2
}
