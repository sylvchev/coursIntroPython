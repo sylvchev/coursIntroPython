{
 "cells": [
  {
   "cell_type": "markdown",
   "metadata": {},
   "source": [
    "<img src=\"https://live.staticflickr.com/3089/3086874879_5eeb26eda6_w_d.jpg\" align=center>"
   ]
  },
  {
   "cell_type": "markdown",
   "metadata": {},
   "source": [
    "# SAÉ 03 - TP1 - Tour d'horizon de Python\n",
    "\n",
    "Bienvenue sur le Jupyter pour préparer la **SAÉ Traitement numérique du signal du département RT de Vélizy**. Les notebooks sont une adaptation de ceux proposés par le département info et de leur profs d'info géniaux.\n",
    "\n",
    "Dans cette fiche, nous allons passer rapidement en revue certains concepts de python que nous développerons de façon plus approfondie dans la SAÉ. Cela vous permettra de bien maîtriser les notions dont vous aurez besoin ce semestre.\n",
    "\n",
    "## En route !\n",
    "\n",
    "Ce print permet d'afficher du texte, il est dans une cellule que vous pouvez exécuter et modifier :"
   ]
  },
  {
   "cell_type": "code",
   "execution_count": null,
   "metadata": {
    "scrolled": false
   },
   "outputs": [],
   "source": [
    "print(\"C'est parti\")  # affiche le texte en dessous\n",
    "# essayez de modifier le texte et ré-exécuter"
   ]
  },
  {
   "cell_type": "markdown",
   "metadata": {},
   "source": [
    "Vérifiez quelle est votre version de Python :"
   ]
  },
  {
   "cell_type": "code",
   "execution_count": null,
   "metadata": {
    "scrolled": false
   },
   "outputs": [],
   "source": [
    "# Exécutez cette cellule !\n",
    "import platform\n",
    "\n",
    "print(\"Vous travaillez actuellement sur la version\", platform.python_version())"
   ]
  },
  {
   "cell_type": "markdown",
   "metadata": {},
   "source": [
    "Exécutez cette cellule pour appliquer le style CSS utilisé dans ce notebook :"
   ]
  },
  {
   "cell_type": "code",
   "execution_count": 5,
   "metadata": {},
   "outputs": [
    {
     "data": {
      "text/html": [
       "<style>\n",
       ".travail {\n",
       "    background-size: 30px;\n",
       "    background-image: url('https://cdn.pixabay.com/photo/2018/01/04/16/53/building-3061124_960_720.png');\n",
       "    background-position: left top;\n",
       "    background-repeat: no-repeat;\n",
       "    padding-left: 40px;\n",
       "}\n",
       "\n",
       ".bilan {\n",
       "    background-size: 30px;\n",
       "    background-image: url('https://cdn.pixabay.com/photo/2016/10/18/19/40/anatomy-1751201_960_720.png');\n",
       "    background-position: left top;\n",
       "    background-repeat: no-repeat;\n",
       "    padding-left: 40px;\n",
       "}\n",
       "</style>"
      ],
      "text/plain": [
       "<IPython.core.display.HTML object>"
      ]
     },
     "execution_count": 5,
     "metadata": {},
     "output_type": "execute_result"
    }
   ],
   "source": [
    "# Exécutez cette cellule !\n",
    "from IPython.core.display import HTML\n",
    "\n",
    "styles = \"<style>\\n.travail {\\n    background-size: 30px;\\n    background-image: url('https://cdn.pixabay.com/photo/2018/01/04/16/53/building-3061124_960_720.png');\\n    background-position: left top;\\n    background-repeat: no-repeat;\\n    padding-left: 40px;\\n}\\n\\n.bilan {\\n    background-size: 30px;\\n    background-image: url('https://cdn.pixabay.com/photo/2016/10/18/19/40/anatomy-1751201_960_720.png');\\n    background-position: left top;\\n    background-repeat: no-repeat;\\n    padding-left: 40px;\\n}\\n</style>\"\n",
    "HTML(styles)"
   ]
  },
  {
   "cell_type": "markdown",
   "metadata": {},
   "source": [
    "Dans les séquences de travail, vous rencontrerez certains logos :\n",
    "\n",
    "<div class=\"travail alert alert-block alert-danger\"> indique un exercice à réaliser  </div>\n",
    "\n",
    "\n",
    "<div class=\"bilan alert alert-block alert-info\"> indique un point important qui nécessite une réponse de votre part et sera ensuite demandé lors du bilan de la séquence</div>"
   ]
  },
  {
   "cell_type": "markdown",
   "metadata": {},
   "source": [
    "## Valeurs, objets, identifiants\n",
    "Un **identifiant** est un lien vers un espace de stockage de données. \n",
    "Lorsqu'on écrit `a = 2` python crée automatiquement un espace de stockage pour la **valeur** `2`, qu'on peut atteindre avec l'identifiant `a`. Dans les langages de programmation plus anciens, on parlait de **variable**...et comme nous avons pris de mauvaises habitudes on risque de continuer à utiliser ce terme. ;)\n",
    "\n",
    "Un **objet** est une valeur qui possède des super-pouvoirs, et dont nous expliquerons le fonctionnement plus tard.   \n",
    "Retenez juste que depuis la version 3 de python, **tout est objet**."
   ]
  },
  {
   "cell_type": "markdown",
   "metadata": {},
   "source": [
    "## Règles pour les identifiants\n",
    "Un identifiant permet donc d'accéder à une variable/objet. Cet identifiant doit respecter:\n",
    " * des contraintes grammaticales (obligatoires)\n",
    " * des conventions d'écriture (facultatives)\n",
    "\n",
    "Les règles de bon usage de python sont décrites dans des documents officiels nommés PEP. Vous trouverez les contraintes et conventions d'écriture dans la [PEP8](https://openclassrooms.com/fr/courses/4425111-perfectionnez-vous-en-python/4464230-assimilez-les-bonnes-pratiques-de-la-pep-8).\n",
    "\n",
    "Les principales **contraintes grammaticales** pour les identifiants sont :\n",
    " * pas de chiffre en début d'identifiant\n",
    " * pas de symboles de ponctuation, d'espace, d'apostrophe, de guillements, de slash; seul underscore _ est autorisé\n",
    "\n",
    "Et les principales **conventions d'écriture** sont :\n",
    " * variables/objets en minuscules : truc, et pas Truc ni TRUC\n",
    " * constantes (qui n'existent pas formellement en python) en majuscules : TRUC\n",
    " * des séparations de mots par majuscules ([Camel case](https://fr.wikipedia.org/wiki/Camel_case)) : nbBilles, distVilleDepart\n",
    " * des espaces de séparation afin d'alléger la lecture: `a = 2`\n",
    " "
   ]
  },
  {
   "cell_type": "markdown",
   "metadata": {},
   "source": [
    "### Exercice 1 - identifiants\n",
    "\n",
    "<div class=\"travail alert alert-block alert-danger\">Corrigez les problèmes ci-dessous</div>\n"
   ]
  },
  {
   "cell_type": "code",
   "execution_count": null,
   "metadata": {
    "scrolled": true
   },
   "outputs": [],
   "source": [
    "l'avion = \"rafale\"\n",
    "tire-bouchon = True\n",
    "7ici = \"Vélizy\""
   ]
  },
  {
   "cell_type": "markdown",
   "metadata": {},
   "source": [
    "## Types/classes\n",
    "\n",
    "Chaque valeur/objet possède un type/classe, qui indique ses capacités.\n",
    "Les principaux types/classes natives sont :\n",
    " * `int` : type entier relatif, pas de valeur maximale depuis python3\n",
    " * `float` : nombres décimaux\n",
    " * `str` : chaînes de caractères (lettres, mots, phrases, délimités par des \\' ou des \\\" )\n",
    " * `bool` : booléens (`True` ou `False`)\n",
    " * `list` : listes, ou tableaux (symbolisés par des \\[ \\] )\n",
    " * `dict` : dictionnaires (symbolisés par des \\{ \\} )\n",
    " * `set` : ensembles au sens mathématique\n",
    " * `tuples` : couples, triplets, n-uplets (ex: (5, 2) ou (3, 9, 2) )"
   ]
  },
  {
   "cell_type": "markdown",
   "metadata": {},
   "source": [
    "<div class=\"alert alert-block alert-info bilan\">\n",
    "    \n",
    "**TRES IMPORTANT** : [la documentation officielle de python](https://docs.python.org/fr/3/) en français vous aidera énormément, prenez l'habitude de la consulter afin d'avoir les informations exactes !  \n",
    "    \n",
    "**ATTENTION**, veillez bien à ce que la version de la doc python (en haut à gauche) corresponde à celle que vous utilisez.\n",
    "\n",
    "</div>"
   ]
  },
  {
   "cell_type": "markdown",
   "metadata": {},
   "source": [
    "### Exercice 2 - Types\n",
    "\n",
    "<div class=\"alert alert-block alert-danger travail\">\n",
    "    \n",
    "**Ex2.0** Dans l'exemple ci-dessous, modifiez la valeur de `a` afin d'obtenir un type `float`.\n",
    "\n",
    "</div>"
   ]
  },
  {
   "cell_type": "code",
   "execution_count": null,
   "metadata": {},
   "outputs": [],
   "source": [
    "a = 12\n",
    "print(type(a))"
   ]
  },
  {
   "cell_type": "markdown",
   "metadata": {},
   "source": [
    "<div class=\"alert alert-block alert-danger travail\">\n",
    "    \n",
    "**Ex2.1** Faites de même afin d'obtenir un type `str` contenant `réseaux`.\n",
    "\n",
    "</div>"
   ]
  },
  {
   "cell_type": "code",
   "execution_count": null,
   "metadata": {},
   "outputs": [],
   "source": []
  },
  {
   "cell_type": "markdown",
   "metadata": {},
   "source": [
    "<div class=\"alert alert-block alert-danger travail\">\n",
    "    \n",
    "**Ex2.2** Faites de même afin d'obtenir un type `bool`.\n",
    "    \n",
    "</div>"
   ]
  },
  {
   "cell_type": "code",
   "execution_count": null,
   "metadata": {},
   "outputs": [],
   "source": []
  },
  {
   "cell_type": "markdown",
   "metadata": {},
   "source": [
    "Pour les autres types, nous verrons ultérieurement comment procéder."
   ]
  },
  {
   "cell_type": "markdown",
   "metadata": {},
   "source": [
    "## Specificité des entiers\n",
    "\n",
    "Pour faciliter la lisibilité des grands nombres entiers, il est possible d'utiliser le underscore _ pour faire des séparations.\n",
    "\n",
    "Par exemple `123_456_789 = 123456789`.\n",
    "\n",
    "### Valeur maximale représentable\n",
    "\n",
    "En Python 2, la taille des `int` était limité à 32 bits, il était donc possible possible de stocker des nombres entiers de –2 147 483 648 to 2 147 483 647.\n",
    "\n",
    "Avec les entiers longs, il est possible d'étendre la taille à 63 bits, soit de –9 223 372 036 854 775 808 to 9 223 372 036 854 775 807. En Python 3, toutes ces limitations sont finies et les entiers peuvent être plus grands que 64 bits. Il est ainsi possible de représenter des nombres arbitrairement grands, par exemple un googol (un suivi de 100 zeros), qui était le nom prévu initialement de Google, avant de trouver un nom plus simple à épeler : "
   ]
  },
  {
   "cell_type": "code",
   "execution_count": null,
   "metadata": {},
   "outputs": [],
   "source": [
    "googol = 10_000_000_000_000_000_000_000_000_000_000_000_000_000_000_000_000_000_000_000_000_000_000_000_000_000_000_000_000_000_000_000_000_000\n",
    "\n",
    "print(googol)"
   ]
  },
  {
   "cell_type": "markdown",
   "metadata": {},
   "source": [
    "### Base et numération\n",
    "\n",
    "Les entiers peuvent être rentrés directement dans différentes bases usuelles en utilisant un préfixe :\n",
    "- `0b` : système binaire, par exemple `0b0110` en base 2 vaut 6 en base 10\n",
    "- `0o` : système octal, par exemple `0o42` en base 8 vaut 34 en base 10\n",
    "- rien : système décimal, c'est celui utilisé habituellement. 42 vaut 42 en base 10\n",
    "- `0x` : système hexadécimal, par exemple `0x1313C` en base 16 vaut 78140\n",
    "\n",
    "On peut mentionner qu'il est possible d'utiliser la notation scientifique ($a \\times 10^n$), par exemple `1.5e3 = 1500.0` et `5e-2 = 0.005`, mais attention ce sont des `float` et pas des `int`.\n",
    "\n",
    "\n",
    "### Les conversions vers les entiers\n",
    "On peut convertir un nombre en `int` (entier décimal) à partir de n'importe quelle base avec `int(\"nombre\", base)` où le nombre est à indiquer sous forme de `str`. Par exemple :"
   ]
  },
  {
   "cell_type": "code",
   "execution_count": null,
   "metadata": {},
   "outputs": [],
   "source": [
    "# depuis du binaire\n",
    "a = int(\"0101_1111_0101\", 2)\n",
    "print(a)"
   ]
  },
  {
   "cell_type": "code",
   "execution_count": null,
   "metadata": {},
   "outputs": [],
   "source": [
    "# depuis la base 7\n",
    "a = int(\"263\", 7)\n",
    "print(a)"
   ]
  },
  {
   "cell_type": "markdown",
   "metadata": {},
   "source": [
    "<div class=\"alert alert-block alert-danger travail\">\n",
    "    \n",
    "**Ex3.0** Combien vaut le nombre `\"BAD\"` de base 16 en décimal ?\n",
    "    \n",
    "</div>"
   ]
  },
  {
   "cell_type": "code",
   "execution_count": null,
   "metadata": {},
   "outputs": [],
   "source": []
  },
  {
   "cell_type": "markdown",
   "metadata": {},
   "source": [
    "Il est aussi possible de convertir des octets (de type `bytes`) en entiers, en spécifiant l'ordre de lecture (`big` ou `little` indian) et si les entiers sont signés ou non. C'est particulièrement utile pour lire des trames réseaux ou des fichiers binaires. Par exemple"
   ]
  },
  {
   "cell_type": "code",
   "execution_count": null,
   "metadata": {},
   "outputs": [],
   "source": [
    "octet = bytes.fromhex('20')\n",
    "a = int.from_bytes(octet, byteorder='little', signed=False)\n",
    "print(a)"
   ]
  },
  {
   "cell_type": "markdown",
   "metadata": {},
   "source": [
    "<div class=\"alert alert-block alert-danger travail\">\n",
    "    \n",
    "**Ex3.1** Combien vaut l'octet `'9E'` encodé en big indian et signé en décimal ?\n",
    "    \n",
    "</div>"
   ]
  },
  {
   "cell_type": "code",
   "execution_count": null,
   "metadata": {},
   "outputs": [],
   "source": []
  },
  {
   "cell_type": "markdown",
   "metadata": {},
   "source": [
    "### Les conversions depuis les entiers\n",
    "\n",
    "Il est possible de faire l'inverse et de convertir un nombre décimal en binaire avec `bin()` en octal avec `oct()` et en hexadécimal avec `hex()`. Par exemple :"
   ]
  },
  {
   "cell_type": "code",
   "execution_count": null,
   "metadata": {},
   "outputs": [],
   "source": [
    "a = 42\n",
    "print(\"En binaire, 42 = \", bin(a))\n",
    "print(\"En octal, 42 = \", oct(a))\n",
    "print(\"En hexadécimal, 42 = \", hex(a))"
   ]
  },
  {
   "cell_type": "markdown",
   "metadata": {},
   "source": [
    "## Opérateurs numériques\n",
    "Les opérateurs permettent de réaliser des opérations sur les valeurs/objets.  \n",
    "Les **opérateurs numériques** usuels sont : `+ - * / // % **`  \n",
    "Leur comportement dépend des types concernés."
   ]
  },
  {
   "cell_type": "markdown",
   "metadata": {},
   "source": [
    "### Exercices 4 - Opérateurs standards\n",
    "  \n",
    "  \n",
    "<div class=\"alert alert-block alert-danger travail\">\n",
    "    \n",
    "**Ex4.0 - `+` entre `int`**  \n",
    "Utilisez l'opérateur `+` entre deux `int` et affichez le type du résultat obtenu.\n",
    "\n",
    "</div>"
   ]
  },
  {
   "cell_type": "code",
   "execution_count": null,
   "metadata": {},
   "outputs": [],
   "source": []
  },
  {
   "cell_type": "markdown",
   "metadata": {},
   "source": [
    "<div class=\"alert alert-block alert-danger travail\">\n",
    "    \n",
    "**Ex4.1 - `+` entre `float` et `int`**  \n",
    "Utilisez l'opérateur `+` entre un `float`et un `int` et affichez le résultat obtenu, et son type.\n",
    "\n",
    "</div>"
   ]
  },
  {
   "cell_type": "code",
   "execution_count": null,
   "metadata": {
    "scrolled": true
   },
   "outputs": [],
   "source": []
  },
  {
   "cell_type": "markdown",
   "metadata": {},
   "source": [
    "<div class=\"alert alert-block alert-info bilan\">\n",
    "    \n",
    "**IMPORTANT** : lorsqu'on utilise des opérateurs, il existe un mécanisme de conversion implicite qui...\n",
    "\n",
    "</div>"
   ]
  },
  {
   "cell_type": "markdown",
   "metadata": {},
   "source": [
    "<div class=\"alert alert-block alert-danger travail\">\n",
    "    \n",
    "**Ex4.2 - `+` entre `str`**  \n",
    "Utilisez l'opérateur `+` entre deux `str` et affichez le résultat obtenu, et son type.\n",
    "\n",
    "</div>"
   ]
  },
  {
   "cell_type": "code",
   "execution_count": null,
   "metadata": {},
   "outputs": [],
   "source": [
    "a = 'réseaux' + 'télécom'"
   ]
  },
  {
   "cell_type": "markdown",
   "metadata": {},
   "source": [
    "<div class=\"alert alert-block alert-danger travail\">\n",
    "    \n",
    "**Ex4.3 - `+` entre `int` et`str`**  \n",
    "Utilisez l'opérateur `+` entre un `int`et un `str` et affichez le résultat obtenu, et son type.\n",
    "\n",
    "</div>"
   ]
  },
  {
   "cell_type": "code",
   "execution_count": null,
   "metadata": {},
   "outputs": [],
   "source": [
    "a = 1 + \"fini\""
   ]
  },
  {
   "cell_type": "markdown",
   "metadata": {},
   "source": [
    "<div class=\"alert alert-block alert-info bilan\">\n",
    "    \n",
    "**IMPORTANT** : Pour l'opérateur `+`, nous pouvons en conclure que...</div>"
   ]
  },
  {
   "cell_type": "markdown",
   "metadata": {},
   "source": [
    "<div class=\"alert alert-block alert-danger travail\">\n",
    "    \n",
    "**Ex4.4 - `*` entre`str` et `int`**  \n",
    "Utilisez maintenant l'opérateur `*` entre un `str`et un `int` et affichez le résultat obtenu, et son type.\n",
    "\n",
    "</div>"
   ]
  },
  {
   "cell_type": "code",
   "execution_count": null,
   "metadata": {},
   "outputs": [],
   "source": [
    "a = 8 * \"simple,basique,\""
   ]
  },
  {
   "cell_type": "markdown",
   "metadata": {},
   "source": [
    "<div class=\"alert alert-block alert-danger travail\">\n",
    "    \n",
    "**Ex4.5 - Que font `/` et `//` ?**  \n",
    "Essayez de distinguer les comportements de `/` et `//` :\n",
    " * quelles opérations réalisent-ils ?\n",
    " * à quel(s) type(s) peuvent-ils être associés?\n",
    " </div>"
   ]
  },
  {
   "cell_type": "code",
   "execution_count": null,
   "metadata": {},
   "outputs": [],
   "source": []
  },
  {
   "cell_type": "markdown",
   "metadata": {},
   "source": [
    "<div class=\"alert alert-block alert-info bilan\">\n",
    "    \n",
    "**IMPORTANT** : les opérateurs `/` et `//` réalisent respectivement des opérations de...  \n",
    "    \n",
    "Ils s'appliquent aux valeurs de type...</div>"
   ]
  },
  {
   "cell_type": "markdown",
   "metadata": {},
   "source": [
    "<div class=\"alert alert-block alert-danger travail\">\n",
    "    \n",
    "**Ex4.6 - Que fait l'opérateur** `**` **?**\n",
    "\n",
    "</div>"
   ]
  },
  {
   "cell_type": "code",
   "execution_count": null,
   "metadata": {},
   "outputs": [],
   "source": []
  },
  {
   "cell_type": "markdown",
   "metadata": {},
   "source": [
    "<div class=\"alert alert-block alert-info bilan\">\n",
    "    \n",
    "**IMPORTANT** : l'opérateur `**` permet de...</div>"
   ]
  },
  {
   "cell_type": "markdown",
   "metadata": {},
   "source": [
    "### Exercice 5 - modulo\n",
    "\n",
    "L'**opérateur modulo %** permet d'obtenir le reste de la division entière.  \n",
    "\n",
    "<div class=\"alert alert-block alert-danger travail\">\n",
    "    \n",
    "**Ex5.0 - Pair ?**  \n",
    "Quel calcul effectuer afin de savoir si `n` est pair ?</div>"
   ]
  },
  {
   "cell_type": "code",
   "execution_count": null,
   "metadata": {},
   "outputs": [],
   "source": [
    "n = 35"
   ]
  },
  {
   "cell_type": "markdown",
   "metadata": {},
   "source": [
    "<div class=\"alert alert-block alert-danger travail\">\n",
    "    \n",
    "**Ex5.1 - Multiple de ?**  \n",
    "8751212 est-il un multiple de 3 ?</div>"
   ]
  },
  {
   "cell_type": "code",
   "execution_count": null,
   "metadata": {},
   "outputs": [],
   "source": []
  },
  {
   "cell_type": "markdown",
   "metadata": {},
   "source": [
    "<div class=\"alert alert-block alert-danger travail\">\n",
    "    \n",
    "**Ex5.2 - Modulogâteau** 🍰🍰🍰🍰🍰  \n",
    "20 parts de gâteaux, 7 convives, combien de parts de gâteau par personne et combien de parts restantes ?</div>"
   ]
  },
  {
   "cell_type": "code",
   "execution_count": null,
   "metadata": {
    "scrolled": true
   },
   "outputs": [],
   "source": []
  },
  {
   "cell_type": "markdown",
   "metadata": {},
   "source": [
    "## Opérateurs d'affectation\n",
    "Les **opérateurs d'affectation** sont : `= += -+ *+ /= //* %=`.  \n",
    "\n",
    "Le `=` permet évidemment d'associer une valeur/objet à un identificateur.  \n",
    "Les autres opérateurs d'affectation sont en fait du sucre syntaxique: ils ne sont pas indispensables mais simplifient les écritures.\n",
    "\n",
    "### Exercice 5 - Modifier une valeur\n",
    "\n",
    "<div class=\"alert alert-block alert-danger travail\">\n",
    "    \n",
    "**Ex6.0 - La classique**  \n",
    "Dans le code suivant, en utilisant les opérateurs standards `-` et `/`, effectuez des opérations diminuant `a` de 4 puis réduisant de moitié sa valeur.  </div>"
   ]
  },
  {
   "cell_type": "code",
   "execution_count": null,
   "metadata": {},
   "outputs": [],
   "source": [
    "a = 18"
   ]
  },
  {
   "cell_type": "markdown",
   "metadata": {},
   "source": [
    "<div class=\"alert alert-block alert-danger travail\">\n",
    "    \n",
    "**Ex6.1 - La sucre syntaxique**   \n",
    "Effectuez les mêmes opérations en utilisant les opérateurs `-=` et `/=`.</div>"
   ]
  },
  {
   "cell_type": "code",
   "execution_count": null,
   "metadata": {},
   "outputs": [],
   "source": [
    "a = 18"
   ]
  },
  {
   "cell_type": "markdown",
   "metadata": {},
   "source": [
    "<div class=\"alert alert-block alert-info bilan\">\n",
    "    \n",
    "**IMPORTANT :**  l'opérateur `+=` permet de remplacer...</div>"
   ]
  },
  {
   "cell_type": "markdown",
   "metadata": {},
   "source": [
    "## Opérateurs de comparaison et opérateurs logiques\n",
    "Les **opérateurs de comparaison** sont : `==, <, <=, >=, >, !=`.  \n",
    "\n",
    "Associés à des **expressions** (comme `2 * a + 1` ou ` 5.2`), ils permettent d'obtenir **une valeur de vérité** (`True` ou `False`). Par exemple:"
   ]
  },
  {
   "cell_type": "code",
   "execution_count": null,
   "metadata": {},
   "outputs": [],
   "source": [
    "a = 18\n",
    "print(a == 12)"
   ]
  },
  {
   "cell_type": "markdown",
   "metadata": {},
   "source": [
    "Les **opérateurs logiques** usuels sont `and, or, not`.  \n",
    "Ils permettent d'associer une ou plusieurs valeurs de vérité et d'obtenir une valeur de vérité.  \n",
    "Par exemple:"
   ]
  },
  {
   "cell_type": "code",
   "execution_count": null,
   "metadata": {},
   "outputs": [],
   "source": [
    "a = 18\n",
    "b = 12\n",
    "print(a >= 18 and b != 5)"
   ]
  },
  {
   "cell_type": "markdown",
   "metadata": {},
   "source": [
    "### Exercice 6 - Quête de vérité\n",
    "\n",
    "\n",
    "<div class=\"alert alert-block alert-danger travail\">\n",
    "    \n",
    "**Ex7.0 - Minority report**  \n",
    "Ecrivez une expression utilisant opérateurs de comparaison et/ou opérateurs logiques, et permettant d'afficher si `bob` est mineur (`True`) ou majeur (`False`). **Attention, votre programme doit renvoyer `False` en cas de valeur négative**.  \n",
    "**MERCI DE BIEN LIRE CET ENONCE!**  \n",
    "Exemple:  \n",
    "    12 : `True`  \n",
    "    -2 : `False` </div>"
   ]
  },
  {
   "cell_type": "code",
   "execution_count": null,
   "metadata": {},
   "outputs": [],
   "source": [
    "bob = 17"
   ]
  },
  {
   "cell_type": "markdown",
   "metadata": {},
   "source": [
    "<div class=\"alert alert-block alert-danger travail\">\n",
    "    \n",
    "**Ex7.1 - Minority report 2**  \n",
    "Même exercice, mais vous n'avez le droit d'utiliser que des opérateurs de comparaison (pas d'opérateurs logiques).</div>"
   ]
  },
  {
   "cell_type": "code",
   "execution_count": null,
   "metadata": {},
   "outputs": [],
   "source": []
  },
  {
   "cell_type": "markdown",
   "metadata": {},
   "source": [
    "<div class=\"alert alert-block alert-info bilan\">\n",
    "    \n",
    "**IMPORTANT** : en python, on peut écrire des égalités, des inégalités, mais également des...</div>"
   ]
  },
  {
   "cell_type": "markdown",
   "metadata": {},
   "source": [
    "<div class=\"alert alert-block alert-danger travail\">\n",
    "    \n",
    "**Ex7.2 - Chiffre pair**  \n",
    "Ecrivez une expression permettant d'afficher si `n` est bien un __chiffre__ pair.  \n",
    "Exemple: 12 est pair mais n'est pas un chiffre donc `False` , 3 est un chiffre impair donc `False` </div>"
   ]
  },
  {
   "cell_type": "code",
   "execution_count": null,
   "metadata": {},
   "outputs": [],
   "source": [
    "n = 12"
   ]
  },
  {
   "cell_type": "markdown",
   "metadata": {},
   "source": [
    "<div class=\"alert alert-block alert-danger travail\">\n",
    "    \n",
    "**Ex7.3 - Même signe**  \n",
    "Ecrivez une expression permettant d'afficher si `n` et `m` sont bien de même signe.</div>"
   ]
  },
  {
   "cell_type": "code",
   "execution_count": null,
   "metadata": {},
   "outputs": [],
   "source": [
    "n = 12\n",
    "m = -2"
   ]
  },
  {
   "cell_type": "markdown",
   "metadata": {},
   "source": [
    "<div class=\"alert alert-block alert-danger travail\">\n",
    "    \n",
    "**Ex7.4 - Table de vérité du OU**  \n",
    "Complétez l'affichage de la table de vérité (toutes les possibilités d'association de booléens) de l'opérateur OU.</div>"
   ]
  },
  {
   "cell_type": "code",
   "execution_count": null,
   "metadata": {},
   "outputs": [],
   "source": [
    "print(True, \"or\", True, \"=\", True or True)\n",
    "# etc..."
   ]
  },
  {
   "cell_type": "markdown",
   "metadata": {},
   "source": [
    "<img src=\"https://cdn.pixabay.com/photo/2021/04/13/09/50/road-6175186_960_720.jpg\" width=350>\n",
    "\n",
    "# Bilan\n",
    "\n",
    "<div class=\"alert alert-block alert-danger travail\">\n",
    "    \n",
    "**Petit bilan sur les types et opérateurs vus**  \n",
    "Vous devez maintenant être capables d'évaluer la valeur obtenue et de reconnaître son type une fois que les expressions suivantes sont évaluées. Essayez de deviner, puis vérifiez.</div>"
   ]
  },
  {
   "cell_type": "code",
   "execution_count": null,
   "metadata": {},
   "outputs": [],
   "source": [
    "# 6 - 2\n",
    "# 6 - 3.2\n",
    "# 6 * 4.3\n",
    "# 5 // 2\n",
    "# 5 / 2\n",
    "# 6 / 2\n",
    "# 6 % 2\n",
    "# \"hello\" + \"ça va ?\"\n",
    "# \"hello\" * 3\n",
    "# 2 < 4\n",
    "# (2 < 4) or (x == 2)  # donnez une valeur à x\n",
    "# not (2 < 4 and False)\n",
    "# 2 <= x < 34  # donnez une valeur à x"
   ]
  },
  {
   "cell_type": "markdown",
   "metadata": {},
   "source": [
    "<div class=\"alert alert-block alert-info bilan\">\n",
    "\n",
    "## __Récapitulatif__\n",
    "En python, les **identifiants** doivent respecter...  \n",
    "La **valeur/objet** associée à un identifiant permet de déterminer automatiquement...  \n",
    "Les **opérateurs** se comportent différemment en fonction...  \n",
    "Lorsqu'on utilise des opérateurs, il existe un mécanisme de **conversion implicite** qui...  \n",
    "Les principaux **opérateurs numériques** sont...  \n",
    "Parmi ces opérateurs numériques, certains sont un peu particuliers:\n",
    " * `//` qui...\n",
    " * `%` qui...\n",
    " * `**` qui...  \n",
    " \n",
    "Les **opérateurs d'affectation** sont...  \n",
    "Les **opérateurs de comparaison** sont...  \n",
    "Les **opérateurs logiques** sont...  \n",
    "Une **expression**, c'est...\n",
    "</div>"
   ]
  },
  {
   "cell_type": "code",
   "execution_count": null,
   "metadata": {},
   "outputs": [],
   "source": []
  }
 ],
 "metadata": {
  "kernelspec": {
   "display_name": "Python 3 (ipykernel)",
   "language": "python",
   "name": "python3"
  },
  "language_info": {
   "codemirror_mode": {
    "name": "ipython",
    "version": 3
   },
   "file_extension": ".py",
   "mimetype": "text/x-python",
   "name": "python",
   "nbconvert_exporter": "python",
   "pygments_lexer": "ipython3",
   "version": "3.7.10"
  },
  "toc": {
   "base_numbering": 1,
   "nav_menu": {},
   "number_sections": true,
   "sideBar": true,
   "skip_h1_title": false,
   "title_cell": "Table of Contents",
   "title_sidebar": "Contents",
   "toc_cell": false,
   "toc_position": {},
   "toc_section_display": true,
   "toc_window_display": false
  }
 },
 "nbformat": 4,
 "nbformat_minor": 2
}
